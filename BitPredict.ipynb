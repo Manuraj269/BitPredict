{
 "cells": [
  {
   "cell_type": "code",
   "execution_count": 2,
   "metadata": {},
   "outputs": [],
   "source": [
    "import tensorflow as tf\n",
    "import pandas as pd\n"
   ]
  },
  {
   "cell_type": "code",
   "execution_count": 3,
   "metadata": {},
   "outputs": [
    {
     "data": {
      "text/html": [
       "<div>\n",
       "<style scoped>\n",
       "    .dataframe tbody tr th:only-of-type {\n",
       "        vertical-align: middle;\n",
       "    }\n",
       "\n",
       "    .dataframe tbody tr th {\n",
       "        vertical-align: top;\n",
       "    }\n",
       "\n",
       "    .dataframe thead th {\n",
       "        text-align: right;\n",
       "    }\n",
       "</style>\n",
       "<table border=\"1\" class=\"dataframe\">\n",
       "  <thead>\n",
       "    <tr style=\"text-align: right;\">\n",
       "      <th></th>\n",
       "      <th>Currency</th>\n",
       "      <th>Closing Price (USD)</th>\n",
       "      <th>24h Open (USD)</th>\n",
       "      <th>24h High (USD)</th>\n",
       "      <th>24h Low (USD)</th>\n",
       "    </tr>\n",
       "    <tr>\n",
       "      <th>Date</th>\n",
       "      <th></th>\n",
       "      <th></th>\n",
       "      <th></th>\n",
       "      <th></th>\n",
       "      <th></th>\n",
       "    </tr>\n",
       "  </thead>\n",
       "  <tbody>\n",
       "    <tr>\n",
       "      <th>2013-10-01</th>\n",
       "      <td>BTC</td>\n",
       "      <td>123.65499</td>\n",
       "      <td>124.30466</td>\n",
       "      <td>124.75166</td>\n",
       "      <td>122.56349</td>\n",
       "    </tr>\n",
       "    <tr>\n",
       "      <th>2013-10-02</th>\n",
       "      <td>BTC</td>\n",
       "      <td>125.45500</td>\n",
       "      <td>123.65499</td>\n",
       "      <td>125.75850</td>\n",
       "      <td>123.63383</td>\n",
       "    </tr>\n",
       "    <tr>\n",
       "      <th>2013-10-03</th>\n",
       "      <td>BTC</td>\n",
       "      <td>108.58483</td>\n",
       "      <td>125.45500</td>\n",
       "      <td>125.66566</td>\n",
       "      <td>83.32833</td>\n",
       "    </tr>\n",
       "    <tr>\n",
       "      <th>2013-10-04</th>\n",
       "      <td>BTC</td>\n",
       "      <td>118.67466</td>\n",
       "      <td>108.58483</td>\n",
       "      <td>118.67500</td>\n",
       "      <td>107.05816</td>\n",
       "    </tr>\n",
       "    <tr>\n",
       "      <th>2013-10-05</th>\n",
       "      <td>BTC</td>\n",
       "      <td>121.33866</td>\n",
       "      <td>118.67466</td>\n",
       "      <td>121.93633</td>\n",
       "      <td>118.00566</td>\n",
       "    </tr>\n",
       "  </tbody>\n",
       "</table>\n",
       "</div>"
      ],
      "text/plain": [
       "           Currency  Closing Price (USD)  24h Open (USD)  24h High (USD)  \\\n",
       "Date                                                                       \n",
       "2013-10-01      BTC            123.65499       124.30466       124.75166   \n",
       "2013-10-02      BTC            125.45500       123.65499       125.75850   \n",
       "2013-10-03      BTC            108.58483       125.45500       125.66566   \n",
       "2013-10-04      BTC            118.67466       108.58483       118.67500   \n",
       "2013-10-05      BTC            121.33866       118.67466       121.93633   \n",
       "\n",
       "            24h Low (USD)  \n",
       "Date                       \n",
       "2013-10-01      122.56349  \n",
       "2013-10-02      123.63383  \n",
       "2013-10-03       83.32833  \n",
       "2013-10-04      107.05816  \n",
       "2013-10-05      118.00566  "
      ]
     },
     "execution_count": 3,
     "metadata": {},
     "output_type": "execute_result"
    }
   ],
   "source": [
    "df= pd.read_csv(\"C:/Users/user/Desktop/code/python/BTC_USD_2013-10-01_2021-05-18-CoinDesk.csv\",\n",
    "                parse_dates=[\"Date\"],\n",
    "                index_col= [\"Date\"])\n",
    "df.head()"
   ]
  },
  {
   "cell_type": "code",
   "execution_count": 4,
   "metadata": {},
   "outputs": [
    {
     "name": "stdout",
     "output_type": "stream",
     "text": [
      "<class 'pandas.core.frame.DataFrame'>\n",
      "DatetimeIndex: 2787 entries, 2013-10-01 to 2021-05-18\n",
      "Data columns (total 5 columns):\n",
      " #   Column               Non-Null Count  Dtype  \n",
      "---  ------               --------------  -----  \n",
      " 0   Currency             2787 non-null   object \n",
      " 1   Closing Price (USD)  2787 non-null   float64\n",
      " 2   24h Open (USD)       2787 non-null   float64\n",
      " 3   24h High (USD)       2787 non-null   float64\n",
      " 4   24h Low (USD)        2787 non-null   float64\n",
      "dtypes: float64(4), object(1)\n",
      "memory usage: 130.6+ KB\n"
     ]
    }
   ],
   "source": [
    "df.info()"
   ]
  },
  {
   "cell_type": "code",
   "execution_count": 5,
   "metadata": {},
   "outputs": [
    {
     "data": {
      "text/plain": [
       "2787"
      ]
     },
     "execution_count": 5,
     "metadata": {},
     "output_type": "execute_result"
    }
   ],
   "source": [
    "len(df)"
   ]
  },
  {
   "cell_type": "code",
   "execution_count": 6,
   "metadata": {},
   "outputs": [
    {
     "data": {
      "image/png": "[encoded data removed]",
      "text/plain": [
       "<Figure size 432x288 with 1 Axes>"
      ]
     },
     "metadata": {
      "needs_background": "light"
     },
     "output_type": "display_data"
    }
   ],
   "source": [
    "from os import X_OK\n",
    "import matplotlib.pyplot as plt\n",
    "x= df[\"Closing Price (USD)\"]\n",
    "plt.plot(x)\n",
    "plt.show()"
   ]
  },
  {
   "cell_type": "code",
   "execution_count": 7,
   "metadata": {},
   "outputs": [
    {
     "data": {
      "text/html": [
       "<div>\n",
       "<style scoped>\n",
       "    .dataframe tbody tr th:only-of-type {\n",
       "        vertical-align: middle;\n",
       "    }\n",
       "\n",
       "    .dataframe tbody tr th {\n",
       "        vertical-align: top;\n",
       "    }\n",
       "\n",
       "    .dataframe thead th {\n",
       "        text-align: right;\n",
       "    }\n",
       "</style>\n",
       "<table border=\"1\" class=\"dataframe\">\n",
       "  <thead>\n",
       "    <tr style=\"text-align: right;\">\n",
       "      <th></th>\n",
       "      <th>Price</th>\n",
       "    </tr>\n",
       "    <tr>\n",
       "      <th>Date</th>\n",
       "      <th></th>\n",
       "    </tr>\n",
       "  </thead>\n",
       "  <tbody>\n",
       "    <tr>\n",
       "      <th>2013-10-01</th>\n",
       "      <td>123.65499</td>\n",
       "    </tr>\n",
       "    <tr>\n",
       "      <th>2013-10-02</th>\n",
       "      <td>125.45500</td>\n",
       "    </tr>\n",
       "    <tr>\n",
       "      <th>2013-10-03</th>\n",
       "      <td>108.58483</td>\n",
       "    </tr>\n",
       "    <tr>\n",
       "      <th>2013-10-04</th>\n",
       "      <td>118.67466</td>\n",
       "    </tr>\n",
       "    <tr>\n",
       "      <th>2013-10-05</th>\n",
       "      <td>121.33866</td>\n",
       "    </tr>\n",
       "  </tbody>\n",
       "</table>\n",
       "</div>"
      ],
      "text/plain": [
       "                Price\n",
       "Date                 \n",
       "2013-10-01  123.65499\n",
       "2013-10-02  125.45500\n",
       "2013-10-03  108.58483\n",
       "2013-10-04  118.67466\n",
       "2013-10-05  121.33866"
      ]
     },
     "execution_count": 7,
     "metadata": {},
     "output_type": "execute_result"
    }
   ],
   "source": [
    "bitcoin_prices = pd.DataFrame(df[\"Closing Price (USD)\"]).rename(columns={\"Closing Price (USD)\": \"Price\"})\n",
    "bitcoin_prices.head()"
   ]
  },
  {
   "cell_type": "code",
   "execution_count": 8,
   "metadata": {},
   "outputs": [
    {
     "data": {
      "text/plain": [
       "array(['2013-10-01T00:00:00.000000000', '2013-10-02T00:00:00.000000000',\n",
       "       '2013-10-03T00:00:00.000000000', '2013-10-04T00:00:00.000000000',\n",
       "       '2013-10-05T00:00:00.000000000', '2013-10-06T00:00:00.000000000',\n",
       "       '2013-10-07T00:00:00.000000000', '2013-10-08T00:00:00.000000000',\n",
       "       '2013-10-09T00:00:00.000000000', '2013-10-10T00:00:00.000000000'],\n",
       "      dtype='datetime64[ns]')"
      ]
     },
     "execution_count": 8,
     "metadata": {},
     "output_type": "execute_result"
    }
   ],
   "source": [
    "timesteps =bitcoin_prices.index.to_numpy()\n",
    "prices =bitcoin_prices[\"Price\"].to_numpy()\n",
    "timesteps[:10]"
   ]
  },
  {
   "cell_type": "code",
   "execution_count": 9,
   "metadata": {},
   "outputs": [
    {
     "data": {
      "text/plain": [
       "(2229, 2229, 558)"
      ]
     },
     "execution_count": 9,
     "metadata": {},
     "output_type": "execute_result"
    }
   ],
   "source": [
    "split_size= int(0.8 * len(prices))\n",
    "\n",
    "X_train, y_train = timesteps[:split_size], prices[:split_size]\n",
    "X_test, y_test = timesteps[split_size:], prices[split_size:]\n",
    "len(X_train),len(y_train), len(X_test)"
   ]
  },
  {
   "cell_type": "code",
   "execution_count": 10,
   "metadata": {},
   "outputs": [
    {
     "data": {
      "image/png": "[encoded data removed]",
      "text/plain": [
       "<Figure size 720x504 with 1 Axes>"
      ]
     },
     "metadata": {
      "needs_background": "light"
     },
     "output_type": "display_data"
    }
   ],
   "source": [
    "plt.figure(figsize=(10,7))\n",
    "plt.scatter(X_train, y_train, s=5, label=\"Train_data\")\n",
    "plt.scatter(X_test,y_test,s=5, label= \"Test data\")\n",
    "plt.xlabel(\"Date\")\n",
    "plt.ylabel(\"BTC Price\")\n",
    "plt.legend(fontsize=14)\n",
    "plt.show()\n"
   ]
  },
  {
   "cell_type": "code",
   "execution_count": null,
   "metadata": {},
   "outputs": [],
   "source": []
  },
  {
   "cell_type": "code",
   "execution_count": 11,
   "metadata": {},
   "outputs": [],
   "source": [
    "def plot_time(timesteps, values,format= \".\", start=0, end=None, label=None ):\n",
    "    plt.plot(timesteps[start:end],values[start:end], format, label=label)\n",
    "    plt.xlabel(\"Time\")\n",
    "    plt.ylabel(\"BTC Price\")\n",
    "    if label:\n",
    "        plt.legend(fontsize=14)\n",
    "    plt.grid(True)"
   ]
  },
  {
   "cell_type": "code",
   "execution_count": 12,
   "metadata": {},
   "outputs": [
    {
     "data": {
      "image/png": "[encoded data removed]",
      "text/plain": [
       "<Figure size 720x504 with 1 Axes>"
      ]
     },
     "metadata": {
      "needs_background": "light"
     },
     "output_type": "display_data"
    }
   ],
   "source": [
    "plt.figure(figsize= (10,7))\n",
    "plot_time(timesteps= X_train, values=y_train, label=\"Train Data\")\n",
    "plot_time(timesteps= X_test, values= y_test,label=\"Test Data\")"
   ]
  },
  {
   "cell_type": "code",
   "execution_count": 13,
   "metadata": {},
   "outputs": [],
   "source": [
    "def mean_absolute_scaled_error(y_true, y_pred):\n",
    "    mae= tf.reduce_mean(tf.abs(y_true-y_pred))\n",
    "\n",
    "    mae_naive_no_season= tf.reduce_mean(tf.abs(y_true[1:]- y_true[:-1]))\n",
    "\n",
    "    return mae/mae_naive_no_season\n"
   ]
  },
  {
   "cell_type": "code",
   "execution_count": 14,
   "metadata": {},
   "outputs": [],
   "source": [
    "def evaluate_preds(y_true, y_pred):\n",
    "    y_true = tf.cast(y_true, dtype=tf.float32)\n",
    "    y_pred = tf.cast(y_pred, dtype=tf.float32)\n",
    "    mae= tf.keras.metrics.mean_absolute_error(y_true,y_pred)\n",
    "    mse= tf.keras.metrics.mean_squared_error(y_true,y_pred)\n",
    "    rmse=tf.sqrt(mse)\n",
    "    mape= tf.keras.metrics.mean_absolute_percentage_error(y_true,y_pred)\n",
    "    mase= mean_absolute_scaled_error(y_true,y_pred)\n",
    "    \n",
    "    return {\"mae\" : mae.numpy(),\n",
    "            \"mse\" : mse.numpy(),\n",
    "            \"rmse\": rmse.numpy(),\n",
    "            \"mape\": mape.numpy(),\n",
    "            \"mase\": mase.numpy()}\n"
   ]
  },
  {
   "cell_type": "code",
   "execution_count": 15,
   "metadata": {},
   "outputs": [
    {
     "data": {
      "text/plain": [
       "{'mae': 567.9802,\n",
       " 'mse': 1147547.0,\n",
       " 'rmse': 1071.2362,\n",
       " 'mape': 2.516525,\n",
       " 'mase': 0.99957}"
      ]
     },
     "execution_count": 15,
     "metadata": {},
     "output_type": "execute_result"
    }
   ],
   "source": [
    "naive_res= evaluate_preds(y_true=y_test[1:],y_pred=y_test[:-1])\n",
    "\n",
    "naive_res"
   ]
  },
  {
   "cell_type": "code",
   "execution_count": 16,
   "metadata": {},
   "outputs": [
    {
     "data": {
      "text/plain": [
       "(array([123.65499, 125.455  , 108.58483, 118.67466, 121.33866, 120.65533,\n",
       "        121.795  ]),\n",
       " 123.03299999999999)"
      ]
     },
     "execution_count": 16,
     "metadata": {},
     "output_type": "execute_result"
    }
   ],
   "source": [
    "prices[:7], prices[7]"
   ]
  },
  {
   "cell_type": "code",
   "execution_count": 17,
   "metadata": {},
   "outputs": [],
   "source": [
    "HORIZON = 1\n",
    "WINDOW_SIZE=7\n"
   ]
  },
  {
   "cell_type": "code",
   "execution_count": 18,
   "metadata": {},
   "outputs": [],
   "source": [
    "def get_labelled_window(x, horizon=HORIZON):\n",
    "    return x[:,:-horizon], x[:,-horizon:]"
   ]
  },
  {
   "cell_type": "code",
   "execution_count": 19,
   "metadata": {},
   "outputs": [
    {
     "data": {
      "text/plain": [
       "array([[1, 2, 3, 4, 5, 6, 7]])"
      ]
     },
     "execution_count": 19,
     "metadata": {},
     "output_type": "execute_result"
    }
   ],
   "source": [
    "import numpy as np\n",
    "test_window,test_label =get_labelled_window(tf.expand_dims(tf.range(8)+1,axis=0))\n",
    "test_window.numpy()"
   ]
  },
  {
   "cell_type": "code",
   "execution_count": 20,
   "metadata": {},
   "outputs": [],
   "source": [
    "def make_windows(x, window_size=WINDOW_SIZE, horizon= HORIZON):\n",
    "\n",
    "    window_step= np.expand_dims(np.arange(window_size+horizon),axis=0)\n",
    "\n",
    "    window_indexes= window_step+ np.expand_dims(np.arange(len(x)-(window_size + horizon-1)),axis=0).T\n",
    "\n",
    "    windowed_array= x[window_indexes]\n",
    "\n",
    "    windows,labels= get_labelled_window(windowed_array,horizon=horizon)\n",
    "    return windows,labels"
   ]
  },
  {
   "cell_type": "code",
   "execution_count": 21,
   "metadata": {},
   "outputs": [
    {
     "data": {
      "text/plain": [
       "(2780, 2780)"
      ]
     },
     "execution_count": 21,
     "metadata": {},
     "output_type": "execute_result"
    }
   ],
   "source": [
    "full_windows, full_labels= make_windows(prices,window_size=WINDOW_SIZE,horizon=HORIZON)\n",
    "len(full_windows), len(full_labels)"
   ]
  },
  {
   "cell_type": "code",
   "execution_count": 22,
   "metadata": {},
   "outputs": [
    {
     "name": "stdout",
     "output_type": "stream",
     "text": [
      "Window: [123.65499 125.455   108.58483 118.67466 121.33866 120.65533 121.795  ] -> Label: [123.033]\n",
      "Window: [125.455   108.58483 118.67466 121.33866 120.65533 121.795   123.033  ] -> Label: [124.049]\n",
      "Window: [108.58483 118.67466 121.33866 120.65533 121.795   123.033   124.049  ] -> Label: [125.96116]\n"
     ]
    }
   ],
   "source": [
    "for i in range(3):\n",
    "    print(f\"Window: {full_windows[i]} -> Label: {full_labels[i]}\")"
   ]
  },
  {
   "cell_type": "code",
   "execution_count": 23,
   "metadata": {},
   "outputs": [],
   "source": [
    "inp = prices[:-7]\n",
    "target= prices[7:]\n",
    "dataset= tf.keras.preprocessing.timeseries_dataset_from_array(inp,target,sequence_length=7)\n"
   ]
  },
  {
   "cell_type": "code",
   "execution_count": 24,
   "metadata": {},
   "outputs": [],
   "source": [
    "def make_train_test_split(windows, labels, test_split=0.2):\n",
    "\n",
    "    split_size= int(len(windows) * (1-test_split))\n",
    "    train_windows= windows[:split_size]\n",
    "    train_labels= labels[:split_size]\n",
    "    test_windows= windows[split_size:]\n",
    "    test_labels= labels[split_size:]\n",
    "    return train_windows,test_windows,train_labels,test_labels"
   ]
  },
  {
   "cell_type": "code",
   "execution_count": 25,
   "metadata": {},
   "outputs": [
    {
     "data": {
      "text/plain": [
       "(2224, 556)"
      ]
     },
     "execution_count": 25,
     "metadata": {},
     "output_type": "execute_result"
    }
   ],
   "source": [
    "train_windows, test_windows,train_labels,test_labels = make_train_test_split(full_windows,full_labels)\n",
    "len(train_windows),len(test_labels)"
   ]
  },
  {
   "cell_type": "code",
   "execution_count": 26,
   "metadata": {},
   "outputs": [],
   "source": [
    "import os\n",
    "\n",
    "\n",
    "def create_model_checkpoint(model_name, save_path=\"model_experiments\"):\n",
    "    return tf.keras.callbacks.ModelCheckpoint(filepath=os.path.join(save_path, model_name), \n",
    "                                            verbose=0, \n",
    "                                            save_best_only=True)\n"
   ]
  },
  {
   "cell_type": "code",
   "execution_count": 27,
   "metadata": {},
   "outputs": [
    {
     "name": "stdout",
     "output_type": "stream",
     "text": [
      "Epoch 1/100\n",
      "11/18 [=================>............] - ETA: 0s - loss: 1014.9537 - mae: 1014.9537 - mse: 3358914.2500 INFO:tensorflow:Assets written to: model_experiments\\model_1_dense\\assets\n",
      "18/18 [==============================] - 4s 63ms/step - loss: 780.3455 - mae: 780.3455 - mse: 2312725.7500 - val_loss: 2279.6528 - val_mae: 2279.6528 - val_mse: 12772731.0000\n",
      "Epoch 2/100\n",
      "18/18 [==============================] - ETA: 0s - loss: 247.6756 - mae: 247.6756 - mse: 285481.2188INFO:tensorflow:Assets written to: model_experiments\\model_1_dense\\assets\n",
      "18/18 [==============================] - 1s 58ms/step - loss: 247.6756 - mae: 247.6756 - mse: 285481.2188 - val_loss: 1005.9992 - val_mae: 1005.9992 - val_mse: 3441833.5000\n",
      "Epoch 3/100\n",
      "12/18 [===================>..........] - ETA: 0s - loss: 195.2224 - mae: 195.2224 - mse: 187263.9531INFO:tensorflow:Assets written to: model_experiments\\model_1_dense\\assets\n",
      "18/18 [==============================] - 1s 38ms/step - loss: 188.4116 - mae: 188.4116 - mse: 171891.6094 - val_loss: 923.2863 - val_mae: 923.2863 - val_mse: 2868221.2500\n",
      "Epoch 4/100\n",
      "10/18 [===============>..............] - ETA: 0s - loss: 183.5800 - mae: 183.5800 - mse: 184122.8281INFO:tensorflow:Assets written to: model_experiments\\model_1_dense\\assets\n",
      "18/18 [==============================] - 1s 33ms/step - loss: 169.4340 - mae: 169.4340 - mse: 151700.5625 - val_loss: 900.5871 - val_mae: 900.5871 - val_mse: 2683715.0000\n",
      "Epoch 5/100\n",
      "13/18 [====================>.........] - ETA: 0s - loss: 170.8947 - mae: 170.8947 - mse: 155509.5156INFO:tensorflow:Assets written to: model_experiments\\model_1_dense\\assets\n",
      "18/18 [==============================] - 1s 39ms/step - loss: 165.0895 - mae: 165.0895 - mse: 145490.7812 - val_loss: 895.2237 - val_mae: 895.2237 - val_mse: 2564574.0000\n",
      "Epoch 6/100\n",
      "16/18 [=========================>....] - ETA: 0s - loss: 156.0607 - mae: 156.0607 - mse: 123573.0078INFO:tensorflow:Assets written to: model_experiments\\model_1_dense\\assets\n",
      "18/18 [==============================] - 1s 47ms/step - loss: 158.5210 - mae: 158.5210 - mse: 133817.7344 - val_loss: 855.1984 - val_mae: 855.1984 - val_mse: 2481873.0000\n",
      "Epoch 7/100\n",
      "12/18 [===================>..........] - ETA: 0s - loss: 157.8310 - mae: 157.8310 - mse: 136339.4688INFO:tensorflow:Assets written to: model_experiments\\model_1_dense\\assets\n",
      "18/18 [==============================] - 1s 40ms/step - loss: 151.3566 - mae: 151.3566 - mse: 123446.9766 - val_loss: 840.9167 - val_mae: 840.9167 - val_mse: 2276452.2500\n",
      "Epoch 8/100\n",
      "12/18 [===================>..........] - ETA: 0s - loss: 143.8714 - mae: 143.8714 - mse: 116661.8438INFO:tensorflow:Assets written to: model_experiments\\model_1_dense\\assets\n",
      "18/18 [==============================] - 1s 37ms/step - loss: 145.2560 - mae: 145.2560 - mse: 117694.5000 - val_loss: 803.5958 - val_mae: 803.5958 - val_mse: 2140574.0000\n",
      "Epoch 9/100\n",
      "13/18 [====================>.........] - ETA: 0s - loss: 142.7814 - mae: 142.7814 - mse: 113417.6094INFO:tensorflow:Assets written to: model_experiments\\model_1_dense\\assets\n",
      "18/18 [==============================] - 1s 42ms/step - loss: 144.3546 - mae: 144.3546 - mse: 115269.3125 - val_loss: 799.5454 - val_mae: 799.5454 - val_mse: 2049207.7500\n",
      "Epoch 10/100\n",
      "11/18 [=================>............] - ETA: 0s - loss: 137.0522 - mae: 137.0522 - mse: 98716.6953 INFO:tensorflow:Assets written to: model_experiments\\model_1_dense\\assets\n",
      "18/18 [==============================] - 1s 38ms/step - loss: 141.2943 - mae: 141.2943 - mse: 112394.5938 - val_loss: 763.5010 - val_mae: 763.5010 - val_mse: 1933141.0000\n",
      "Epoch 11/100\n",
      "18/18 [==============================] - 0s 11ms/step - loss: 135.6595 - mae: 135.6595 - mse: 104118.2656 - val_loss: 771.3356 - val_mae: 771.3356 - val_mse: 1885849.7500\n",
      "Epoch 12/100\n",
      "18/18 [==============================] - 0s 9ms/step - loss: 134.1700 - mae: 134.1700 - mse: 101780.8516 - val_loss: 782.8079 - val_mae: 782.8079 - val_mse: 1881727.2500\n",
      "Epoch 13/100\n",
      "18/18 [==============================] - 0s 11ms/step - loss: 134.6015 - mae: 134.6015 - mse: 102345.2344 - val_loss: 784.4448 - val_mae: 784.4448 - val_mse: 1860996.2500\n",
      "Epoch 14/100\n",
      " 8/18 [============>.................] - ETA: 0s - loss: 125.1539 - mae: 125.1539 - mse: 95959.5703INFO:tensorflow:Assets written to: model_experiments\\model_1_dense\\assets\n",
      "18/18 [==============================] - 1s 33ms/step - loss: 130.6127 - mae: 130.6127 - mse: 96225.1406 - val_loss: 751.3232 - val_mae: 751.3232 - val_mse: 1749609.1250\n",
      "Epoch 15/100\n",
      "15/18 [========================>.....] - ETA: 0s - loss: 130.4053 - mae: 130.4053 - mse: 99336.8438INFO:tensorflow:Assets written to: model_experiments\\model_1_dense\\assets\n",
      "18/18 [==============================] - 1s 33ms/step - loss: 128.8347 - mae: 128.8347 - mse: 94307.0000 - val_loss: 696.5756 - val_mae: 696.5756 - val_mse: 1606352.5000\n",
      "Epoch 16/100\n",
      "18/18 [==============================] - 0s 7ms/step - loss: 124.7739 - mae: 124.7739 - mse: 90394.9297 - val_loss: 702.4698 - val_mae: 702.4698 - val_mse: 1592416.6250\n",
      "Epoch 17/100\n",
      "18/18 [==============================] - 0s 6ms/step - loss: 123.4474 - mae: 123.4474 - mse: 89247.6953 - val_loss: 704.9238 - val_mae: 704.9238 - val_mse: 1580782.6250\n",
      "Epoch 18/100\n",
      "13/18 [====================>.........] - ETA: 0s - loss: 128.4065 - mae: 128.4065 - mse: 95061.4688INFO:tensorflow:Assets written to: model_experiments\\model_1_dense\\assets\n",
      "18/18 [==============================] - 1s 35ms/step - loss: 122.2105 - mae: 122.2105 - mse: 87607.5938 - val_loss: 667.9723 - val_mae: 667.9723 - val_mse: 1498881.1250\n",
      "Epoch 19/100\n",
      "18/18 [==============================] - 0s 8ms/step - loss: 121.7263 - mae: 121.7263 - mse: 86632.2500 - val_loss: 718.8795 - val_mae: 718.8795 - val_mse: 1589298.8750\n",
      "Epoch 20/100\n",
      "11/18 [=================>............] - ETA: 0s - loss: 123.0690 - mae: 123.0690 - mse: 90230.2500 INFO:tensorflow:Assets written to: model_experiments\\model_1_dense\\assets\n",
      "18/18 [==============================] - 1s 34ms/step - loss: 119.2420 - mae: 119.2420 - mse: 84334.3203 - val_loss: 657.0667 - val_mae: 657.0667 - val_mse: 1447501.0000\n",
      "Epoch 21/100\n",
      "13/18 [====================>.........] - ETA: 0s - loss: 119.8308 - mae: 119.8308 - mse: 78497.4297INFO:tensorflow:Assets written to: model_experiments\\model_1_dense\\assets\n",
      "18/18 [==============================] - 1s 39ms/step - loss: 121.2275 - mae: 121.2275 - mse: 85743.3906 - val_loss: 637.0330 - val_mae: 637.0330 - val_mse: 1401773.2500\n",
      "Epoch 22/100\n",
      "18/18 [==============================] - 0s 7ms/step - loss: 119.9544 - mae: 119.9544 - mse: 84050.1172 - val_loss: 671.2487 - val_mae: 671.2487 - val_mse: 1447895.5000\n",
      "Epoch 23/100\n",
      "18/18 [==============================] - ETA: 0s - loss: 121.9248 - mae: 121.9248 - mse: 83746.1328INFO:tensorflow:Assets written to: model_experiments\\model_1_dense\\assets\n",
      "18/18 [==============================] - 1s 35ms/step - loss: 121.9248 - mae: 121.9248 - mse: 83746.1328 - val_loss: 633.3590 - val_mae: 633.3590 - val_mse: 1367377.5000\n",
      "Epoch 24/100\n",
      "13/18 [====================>.........] - ETA: 0s - loss: 118.6288 - mae: 118.6288 - mse: 89586.0156INFO:tensorflow:Assets written to: model_experiments\\model_1_dense\\assets\n",
      "18/18 [==============================] - 1s 42ms/step - loss: 116.3665 - mae: 116.3665 - mse: 81446.6719 - val_loss: 624.4850 - val_mae: 624.4850 - val_mse: 1348960.1250\n",
      "Epoch 25/100\n",
      "13/18 [====================>.........] - ETA: 0s - loss: 117.7777 - mae: 117.7777 - mse: 80317.2656INFO:tensorflow:Assets written to: model_experiments\\model_1_dense\\assets\n",
      "18/18 [==============================] - 1s 33ms/step - loss: 114.6816 - mae: 114.6816 - mse: 78912.8516 - val_loss: 619.7572 - val_mae: 619.7572 - val_mse: 1351089.7500\n",
      "Epoch 26/100\n",
      "16/18 [=========================>....] - ETA: 0s - loss: 118.2556 - mae: 118.2556 - mse: 78681.4062INFO:tensorflow:Assets written to: model_experiments\\model_1_dense\\assets\n",
      "18/18 [==============================] - 1s 32ms/step - loss: 116.4456 - mae: 116.4456 - mse: 79365.5859 - val_loss: 615.6364 - val_mae: 615.6364 - val_mse: 1321514.3750\n",
      "Epoch 27/100\n",
      "18/18 [==============================] - 0s 9ms/step - loss: 116.5868 - mae: 116.5868 - mse: 78672.9297 - val_loss: 615.9630 - val_mae: 615.9630 - val_mse: 1313077.8750\n",
      "Epoch 28/100\n",
      "12/18 [===================>..........] - ETA: 0s - loss: 114.3223 - mae: 114.3223 - mse: 76418.4453INFO:tensorflow:Assets written to: model_experiments\\model_1_dense\\assets\n",
      "18/18 [==============================] - 1s 37ms/step - loss: 113.4691 - mae: 113.4691 - mse: 77440.0938 - val_loss: 608.0920 - val_mae: 608.0920 - val_mse: 1309775.3750\n",
      "Epoch 29/100\n",
      "18/18 [==============================] - 0s 6ms/step - loss: 113.7598 - mae: 113.7598 - mse: 78506.9531 - val_loss: 621.9304 - val_mae: 621.9304 - val_mse: 1313324.6250\n",
      "Epoch 30/100\n",
      "14/18 [======================>.......] - ETA: 0s - loss: 117.3913 - mae: 117.3913 - mse: 77817.2500INFO:tensorflow:Assets written to: model_experiments\\model_1_dense\\assets\n",
      "18/18 [==============================] - 0s 29ms/step - loss: 116.8613 - mae: 116.8613 - mse: 79236.4609 - val_loss: 604.4056 - val_mae: 604.4056 - val_mse: 1283407.7500\n",
      "Epoch 31/100\n",
      "18/18 [==============================] - 0s 9ms/step - loss: 111.9375 - mae: 111.9375 - mse: 74849.0625 - val_loss: 609.3881 - val_mae: 609.3881 - val_mse: 1284506.1250\n",
      "Epoch 32/100\n",
      " 9/18 [==============>...............] - ETA: 0s - loss: 115.4255 - mae: 115.4255 - mse: 77662.4219INFO:tensorflow:Assets written to: model_experiments\\model_1_dense\\assets\n",
      "18/18 [==============================] - 1s 38ms/step - loss: 112.4175 - mae: 112.4175 - mse: 77178.5938 - val_loss: 603.0586 - val_mae: 603.0586 - val_mse: 1273058.7500\n",
      "Epoch 33/100\n",
      "18/18 [==============================] - 0s 10ms/step - loss: 112.6697 - mae: 112.6697 - mse: 75787.9844 - val_loss: 645.6971 - val_mae: 645.6971 - val_mse: 1353254.8750\n",
      "Epoch 34/100\n",
      "18/18 [==============================] - 0s 10ms/step - loss: 111.9867 - mae: 111.9867 - mse: 77245.7188 - val_loss: 604.7635 - val_mae: 604.7635 - val_mse: 1289360.5000\n",
      "Epoch 35/100\n",
      "12/18 [===================>..........] - ETA: 0s - loss: 112.6920 - mae: 112.6920 - mse: 75658.5078INFO:tensorflow:Assets written to: model_experiments\\model_1_dense\\assets\n",
      "18/18 [==============================] - 1s 52ms/step - loss: 110.9451 - mae: 110.9451 - mse: 75301.7812 - val_loss: 593.4648 - val_mae: 593.4648 - val_mse: 1250491.3750\n",
      "Epoch 36/100\n",
      "18/18 [==============================] - 0s 10ms/step - loss: 114.4816 - mae: 114.4816 - mse: 76138.5391 - val_loss: 608.0072 - val_mae: 608.0072 - val_mse: 1269271.5000\n",
      "Epoch 37/100\n",
      "18/18 [==============================] - 0s 7ms/step - loss: 110.2016 - mae: 110.2016 - mse: 74635.3047 - val_loss: 597.2308 - val_mae: 597.2308 - val_mse: 1248474.2500\n",
      "Epoch 38/100\n",
      "18/18 [==============================] - 0s 9ms/step - loss: 112.2372 - mae: 112.2372 - mse: 75821.7109 - val_loss: 637.9801 - val_mae: 637.9801 - val_mse: 1366131.7500\n",
      "Epoch 39/100\n",
      "12/18 [===================>..........] - ETA: 0s - loss: 116.3627 - mae: 116.3627 - mse: 80992.7578 INFO:tensorflow:Assets written to: model_experiments\\model_1_dense\\assets\n",
      "18/18 [==============================] - 1s 40ms/step - loss: 115.1289 - mae: 115.1289 - mse: 76339.6641 - val_loss: 587.4679 - val_mae: 587.4679 - val_mse: 1233512.1250\n",
      "Epoch 40/100\n",
      "18/18 [==============================] - 0s 6ms/step - loss: 110.0854 - mae: 110.0854 - mse: 73528.4922 - val_loss: 592.7119 - val_mae: 592.7119 - val_mse: 1251474.7500\n",
      "Epoch 41/100\n",
      "18/18 [==============================] - 0s 6ms/step - loss: 110.6344 - mae: 110.6344 - mse: 73528.8047 - val_loss: 593.8999 - val_mae: 593.8999 - val_mse: 1253678.8750\n",
      "Epoch 42/100\n",
      "18/18 [==============================] - 0s 7ms/step - loss: 113.5762 - mae: 113.5762 - mse: 77076.6875 - val_loss: 636.3671 - val_mae: 636.3671 - val_mse: 1317283.0000\n",
      "Epoch 43/100\n",
      "18/18 [==============================] - 0s 8ms/step - loss: 116.2285 - mae: 116.2285 - mse: 74712.1953 - val_loss: 662.9268 - val_mae: 662.9268 - val_mse: 1419203.2500\n",
      "Epoch 44/100\n",
      "18/18 [==============================] - 0s 8ms/step - loss: 120.0192 - mae: 120.0192 - mse: 80971.8906 - val_loss: 635.6365 - val_mae: 635.6365 - val_mse: 1346000.6250\n",
      "Epoch 45/100\n",
      "18/18 [==============================] - 0s 9ms/step - loss: 110.9675 - mae: 110.9675 - mse: 74941.2969 - val_loss: 601.9924 - val_mae: 601.9924 - val_mse: 1244816.3750\n",
      "Epoch 46/100\n",
      "18/18 [==============================] - 0s 10ms/step - loss: 111.6012 - mae: 111.6012 - mse: 74565.6250 - val_loss: 593.3533 - val_mae: 593.3533 - val_mse: 1248764.7500\n",
      "Epoch 47/100\n",
      "18/18 [==============================] - 0s 7ms/step - loss: 109.6160 - mae: 109.6160 - mse: 74190.7188 - val_loss: 637.0010 - val_mae: 637.0010 - val_mse: 1314969.7500\n",
      "Epoch 48/100\n",
      "18/18 [==============================] - 0s 6ms/step - loss: 109.1368 - mae: 109.1368 - mse: 72792.5547 - val_loss: 598.4196 - val_mae: 598.4196 - val_mse: 1234610.0000\n",
      "Epoch 49/100\n",
      "12/18 [===================>..........] - ETA: 0s - loss: 119.1200 - mae: 119.1200 - mse: 87492.3125 INFO:tensorflow:Assets written to: model_experiments\\model_1_dense\\assets\n",
      "18/18 [==============================] - 1s 34ms/step - loss: 112.4355 - mae: 112.4355 - mse: 73980.3359 - val_loss: 579.7042 - val_mae: 579.7042 - val_mse: 1208301.8750\n",
      "Epoch 50/100\n",
      "18/18 [==============================] - 0s 8ms/step - loss: 110.2108 - mae: 110.2108 - mse: 72939.7031 - val_loss: 639.2330 - val_mae: 639.2330 - val_mse: 1347994.7500\n",
      "Epoch 51/100\n",
      "18/18 [==============================] - 0s 12ms/step - loss: 111.0958 - mae: 111.0958 - mse: 73281.9219 - val_loss: 597.3571 - val_mae: 597.3571 - val_mse: 1229791.1250\n",
      "Epoch 52/100\n",
      "18/18 [==============================] - 0s 7ms/step - loss: 110.7351 - mae: 110.7351 - mse: 74529.6172 - val_loss: 580.7229 - val_mae: 580.7229 - val_mse: 1215477.7500\n",
      "Epoch 53/100\n",
      "18/18 [==============================] - 0s 7ms/step - loss: 111.1785 - mae: 111.1785 - mse: 74149.4688 - val_loss: 648.3583 - val_mae: 648.3583 - val_mse: 1336950.3750\n",
      "Epoch 54/100\n",
      "18/18 [==============================] - 0s 8ms/step - loss: 114.0831 - mae: 114.0831 - mse: 74815.0938 - val_loss: 593.2006 - val_mae: 593.2006 - val_mse: 1220661.1250\n",
      "Epoch 55/100\n",
      "11/18 [=================>............] - ETA: 0s - loss: 118.6235 - mae: 118.6235 - mse: 85689.1328 INFO:tensorflow:Assets written to: model_experiments\\model_1_dense\\assets\n",
      "18/18 [==============================] - 1s 35ms/step - loss: 110.4910 - mae: 110.4910 - mse: 74711.2422 - val_loss: 579.5067 - val_mae: 579.5067 - val_mse: 1211580.2500\n",
      "Epoch 56/100\n",
      "18/18 [==============================] - 0s 9ms/step - loss: 108.0488 - mae: 108.0488 - mse: 71844.1719 - val_loss: 807.3854 - val_mae: 807.3854 - val_mse: 1859293.5000\n",
      "Epoch 57/100\n",
      "18/18 [==============================] - 0s 7ms/step - loss: 125.0614 - mae: 125.0614 - mse: 84025.2578 - val_loss: 674.1660 - val_mae: 674.1660 - val_mse: 1437688.0000\n",
      "Epoch 58/100\n",
      "18/18 [==============================] - 0s 7ms/step - loss: 115.4340 - mae: 115.4340 - mse: 73710.7656 - val_loss: 582.2697 - val_mae: 582.2697 - val_mse: 1202679.5000\n",
      "Epoch 59/100\n",
      "18/18 [==============================] - 0s 7ms/step - loss: 110.0881 - mae: 110.0881 - mse: 72845.1016 - val_loss: 606.7642 - val_mae: 606.7642 - val_mse: 1267544.1250\n",
      "Epoch 60/100\n",
      "18/18 [==============================] - 0s 7ms/step - loss: 108.7156 - mae: 108.7156 - mse: 72675.7578 - val_loss: 602.3098 - val_mae: 602.3098 - val_mse: 1234689.7500\n",
      "Epoch 61/100\n",
      "14/18 [======================>.......] - ETA: 0s - loss: 108.0080 - mae: 108.0080 - mse: 72060.4297INFO:tensorflow:Assets written to: model_experiments\\model_1_dense\\assets\n",
      "18/18 [==============================] - 1s 30ms/step - loss: 108.1525 - mae: 108.1525 - mse: 72252.1250 - val_loss: 573.9990 - val_mae: 573.9990 - val_mse: 1189583.8750\n",
      "Epoch 62/100\n",
      "18/18 [==============================] - 0s 8ms/step - loss: 107.3727 - mae: 107.3727 - mse: 70822.7969 - val_loss: 581.7014 - val_mae: 581.7014 - val_mse: 1214006.5000\n",
      "Epoch 63/100\n",
      "18/18 [==============================] - 0s 8ms/step - loss: 110.7667 - mae: 110.7667 - mse: 73178.4609 - val_loss: 637.5244 - val_mae: 637.5244 - val_mse: 1311202.1250\n",
      "Epoch 64/100\n",
      "18/18 [==============================] - 0s 8ms/step - loss: 110.1539 - mae: 110.1539 - mse: 72588.2188 - val_loss: 586.6597 - val_mae: 586.6597 - val_mse: 1207116.1250\n",
      "Epoch 65/100\n",
      "14/18 [======================>.......] - ETA: 0s - loss: 108.0963 - mae: 108.0963 - mse: 72668.1484 INFO:tensorflow:Assets written to: model_experiments\\model_1_dense\\assets\n",
      "18/18 [==============================] - 1s 31ms/step - loss: 108.2325 - mae: 108.2325 - mse: 71962.0469 - val_loss: 573.5618 - val_mae: 573.5618 - val_mse: 1188986.3750\n",
      "Epoch 66/100\n",
      "14/18 [======================>.......] - ETA: 0s - loss: 107.4139 - mae: 107.4139 - mse: 66383.5859INFO:tensorflow:Assets written to: model_experiments\\model_1_dense\\assets\n",
      "18/18 [==============================] - 1s 33ms/step - loss: 108.6825 - mae: 108.6825 - mse: 71026.3516 - val_loss: 572.2206 - val_mae: 572.2206 - val_mse: 1187818.5000\n",
      "Epoch 67/100\n",
      "18/18 [==============================] - 0s 6ms/step - loss: 106.6371 - mae: 106.6371 - mse: 70166.2500 - val_loss: 646.6358 - val_mae: 646.6358 - val_mse: 1356392.5000\n",
      "Epoch 68/100\n",
      "18/18 [==============================] - 0s 7ms/step - loss: 114.1603 - mae: 114.1603 - mse: 71297.3203 - val_loss: 681.8569 - val_mae: 681.8569 - val_mse: 1455430.0000\n",
      "Epoch 69/100\n",
      "18/18 [==============================] - 0s 7ms/step - loss: 124.5514 - mae: 124.5514 - mse: 81238.9688 - val_loss: 655.9891 - val_mae: 655.9891 - val_mse: 1383324.5000\n",
      "Epoch 70/100\n",
      "18/18 [==============================] - 0s 7ms/step - loss: 125.0234 - mae: 125.0234 - mse: 83058.2188 - val_loss: 601.0038 - val_mae: 601.0038 - val_mse: 1256963.1250\n",
      "Epoch 71/100\n",
      "18/18 [==============================] - 0s 7ms/step - loss: 110.3652 - mae: 110.3652 - mse: 71691.5000 - val_loss: 595.3957 - val_mae: 595.3957 - val_mse: 1222771.1250\n",
      "Epoch 72/100\n",
      "18/18 [==============================] - 0s 7ms/step - loss: 107.9285 - mae: 107.9285 - mse: 71745.5469 - val_loss: 573.7085 - val_mae: 573.7085 - val_mse: 1192818.1250\n",
      "Epoch 73/100\n",
      "18/18 [==============================] - 0s 6ms/step - loss: 109.5085 - mae: 109.5085 - mse: 71691.1328 - val_loss: 580.4183 - val_mae: 580.4183 - val_mse: 1211317.6250\n",
      "Epoch 74/100\n",
      "18/18 [==============================] - 0s 8ms/step - loss: 108.7380 - mae: 108.7380 - mse: 72051.1172 - val_loss: 576.1216 - val_mae: 576.1216 - val_mse: 1199671.0000\n",
      "Epoch 75/100\n",
      "18/18 [==============================] - 0s 8ms/step - loss: 107.9404 - mae: 107.9404 - mse: 71043.1328 - val_loss: 591.1470 - val_mae: 591.1470 - val_mse: 1211107.2500\n",
      "Epoch 76/100\n",
      "18/18 [==============================] - 0s 6ms/step - loss: 109.4232 - mae: 109.4232 - mse: 72295.0469 - val_loss: 597.8613 - val_mae: 597.8613 - val_mse: 1243936.5000\n",
      "Epoch 77/100\n",
      "13/18 [====================>.........] - ETA: 0s - loss: 109.7977 - mae: 109.7977 - mse: 71929.3203INFO:tensorflow:Assets written to: model_experiments\\model_1_dense\\assets\n",
      "18/18 [==============================] - 1s 31ms/step - loss: 107.5879 - mae: 107.5879 - mse: 70333.8359 - val_loss: 571.9300 - val_mae: 571.9300 - val_mse: 1186830.1250\n",
      "Epoch 78/100\n",
      "18/18 [==============================] - 0s 7ms/step - loss: 108.1598 - mae: 108.1598 - mse: 70200.0938 - val_loss: 575.2386 - val_mae: 575.2386 - val_mse: 1195317.6250\n",
      "Epoch 79/100\n",
      "18/18 [==============================] - 0s 7ms/step - loss: 107.9175 - mae: 107.9175 - mse: 72451.6016 - val_loss: 617.3086 - val_mae: 617.3086 - val_mse: 1285513.0000\n",
      "Epoch 80/100\n",
      "18/18 [==============================] - 0s 7ms/step - loss: 108.9510 - mae: 108.9510 - mse: 72158.7969 - val_loss: 583.4841 - val_mae: 583.4841 - val_mse: 1194357.1250\n",
      "Epoch 81/100\n",
      "10/18 [===============>..............] - ETA: 0s - loss: 106.5954 - mae: 106.5954 - mse: 74373.6562INFO:tensorflow:Assets written to: model_experiments\\model_1_dense\\assets\n",
      "18/18 [==============================] - 1s 38ms/step - loss: 106.0505 - mae: 106.0505 - mse: 69690.9062 - val_loss: 570.0801 - val_mae: 570.0801 - val_mse: 1177237.8750\n",
      "Epoch 82/100\n",
      "18/18 [==============================] - 0s 7ms/step - loss: 115.6827 - mae: 115.6827 - mse: 76903.5000 - val_loss: 575.7388 - val_mae: 575.7388 - val_mse: 1194662.7500\n",
      "Epoch 83/100\n",
      "18/18 [==============================] - 0s 7ms/step - loss: 110.9379 - mae: 110.9379 - mse: 72968.3047 - val_loss: 659.6583 - val_mae: 659.6583 - val_mse: 1388831.2500\n",
      "Epoch 84/100\n",
      "18/18 [==============================] - 0s 7ms/step - loss: 111.4837 - mae: 111.4837 - mse: 73017.9531 - val_loss: 570.1957 - val_mae: 570.1957 - val_mse: 1177491.7500\n",
      "Epoch 85/100\n",
      "18/18 [==============================] - 0s 7ms/step - loss: 107.5948 - mae: 107.5948 - mse: 70728.2344 - val_loss: 601.5936 - val_mae: 601.5936 - val_mse: 1228450.7500\n",
      "Epoch 86/100\n",
      "18/18 [==============================] - 0s 10ms/step - loss: 108.9426 - mae: 108.9426 - mse: 70066.7734 - val_loss: 592.8099 - val_mae: 592.8099 - val_mse: 1209679.8750\n",
      "Epoch 87/100\n",
      "18/18 [==============================] - 0s 7ms/step - loss: 105.7717 - mae: 105.7717 - mse: 68382.3672 - val_loss: 603.6179 - val_mae: 603.6179 - val_mse: 1252410.6250\n",
      "Epoch 88/100\n",
      "13/18 [====================>.........] - ETA: 0s - loss: 111.3054 - mae: 111.3054 - mse: 79345.4062 INFO:tensorflow:Assets written to: model_experiments\\model_1_dense\\assets\n",
      "18/18 [==============================] - 1s 41ms/step - loss: 107.9218 - mae: 107.9218 - mse: 71668.0547 - val_loss: 569.0501 - val_mae: 569.0501 - val_mse: 1174588.5000\n",
      "Epoch 89/100\n",
      "12/18 [===================>..........] - ETA: 0s - loss: 98.7952 - mae: 98.7952 - mse: 64548.8711  INFO:tensorflow:Assets written to: model_experiments\\model_1_dense\\assets\n",
      "18/18 [==============================] - 1s 32ms/step - loss: 106.0344 - mae: 106.0344 - mse: 68979.1328 - val_loss: 568.9510 - val_mae: 568.9510 - val_mse: 1171743.5000\n",
      "Epoch 90/100\n",
      "18/18 [==============================] - 0s 6ms/step - loss: 105.4977 - mae: 105.4977 - mse: 67516.4844 - val_loss: 581.7675 - val_mae: 581.7675 - val_mse: 1190160.1250\n",
      "Epoch 91/100\n",
      "18/18 [==============================] - 0s 6ms/step - loss: 108.8468 - mae: 108.8468 - mse: 71112.3281 - val_loss: 573.6026 - val_mae: 573.6026 - val_mse: 1185216.2500\n",
      "Epoch 92/100\n",
      "18/18 [==============================] - 0s 6ms/step - loss: 110.8884 - mae: 110.8884 - mse: 73287.8281 - val_loss: 576.8242 - val_mae: 576.8242 - val_mse: 1181628.0000\n",
      "Epoch 93/100\n",
      "18/18 [==============================] - 0s 7ms/step - loss: 113.8781 - mae: 113.8781 - mse: 75236.4688 - val_loss: 608.3027 - val_mae: 608.3027 - val_mse: 1264207.3750\n",
      "Epoch 94/100\n",
      "18/18 [==============================] - 0s 12ms/step - loss: 110.5763 - mae: 110.5763 - mse: 72590.8906 - val_loss: 601.6040 - val_mae: 601.6040 - val_mse: 1229104.7500\n",
      "Epoch 95/100\n",
      "18/18 [==============================] - 0s 10ms/step - loss: 106.5906 - mae: 106.5906 - mse: 68612.3281 - val_loss: 570.3650 - val_mae: 570.3650 - val_mse: 1175759.2500\n",
      "Epoch 96/100\n",
      "18/18 [==============================] - 0s 13ms/step - loss: 116.9515 - mae: 116.9515 - mse: 75082.1328 - val_loss: 615.2590 - val_mae: 615.2590 - val_mse: 1277125.6250\n",
      "Epoch 97/100\n",
      "18/18 [==============================] - 0s 10ms/step - loss: 108.0739 - mae: 108.0739 - mse: 71321.4375 - val_loss: 580.3078 - val_mae: 580.3078 - val_mse: 1202622.8750\n",
      "Epoch 98/100\n",
      "18/18 [==============================] - 0s 9ms/step - loss: 108.7102 - mae: 108.7102 - mse: 70248.1094 - val_loss: 586.6507 - val_mae: 586.6507 - val_mse: 1200830.8750\n",
      "Epoch 99/100\n",
      "18/18 [==============================] - 0s 10ms/step - loss: 109.0488 - mae: 109.0488 - mse: 70913.1719 - val_loss: 570.0627 - val_mae: 570.0627 - val_mse: 1177064.0000\n",
      "Epoch 100/100\n",
      "18/18 [==============================] - 0s 11ms/step - loss: 106.1845 - mae: 106.1845 - mse: 68681.7188 - val_loss: 585.9756 - val_mae: 585.9756 - val_mse: 1197802.1250\n"
     ]
    },
    {
     "data": {
      "text/plain": [
       "<keras.callbacks.History at 0x1a90f0539d0>"
      ]
     },
     "execution_count": 27,
     "metadata": {},
     "output_type": "execute_result"
    }
   ],
   "source": [
    "from gc import callbacks\n",
    "from pickletools import optimize\n",
    "import tensorflow\n",
    "from tensorflow.keras import layers\n",
    "\n",
    "tf.random.set_seed(42)\n",
    "\n",
    "model_1 = tf.keras.Sequential([\n",
    "    layers.Dense(128, activation=\"relu\"),\n",
    "    layers.Dense(HORIZON, activation=\"linear\")\n",
    "\n",
    "], name=\"model_1_dense\")\n",
    "\n",
    "model_1.compile(loss=\"mae\",\n",
    "                 optimizer=tf.keras.optimizers.Adam(),\n",
    "                 metrics=['mae', 'mse'])\n",
    "\n",
    "model_1.fit(x=train_windows,\n",
    "            y=train_labels,\n",
    "            epochs=100,\n",
    "            verbose=1,\n",
    "            batch_size=128,\n",
    "            validation_data =(test_windows,test_labels),\n",
    "            callbacks=[create_model_checkpoint(model_name=model_1.name)])"
   ]
  },
  {
   "cell_type": "code",
   "execution_count": 28,
   "metadata": {},
   "outputs": [
    {
     "name": "stdout",
     "output_type": "stream",
     "text": [
      "18/18 [==============================] - 0s 7ms/step - loss: 585.9756 - mae: 585.9756 - mse: 1197802.0000\n"
     ]
    },
    {
     "data": {
      "text/plain": [
       "[585.9755859375, 585.9755859375, 1197802.0]"
      ]
     },
     "execution_count": 28,
     "metadata": {},
     "output_type": "execute_result"
    }
   ],
   "source": [
    "model_1.evaluate(test_windows,test_labels)"
   ]
  },
  {
   "cell_type": "code",
   "execution_count": 29,
   "metadata": {},
   "outputs": [
    {
     "name": "stdout",
     "output_type": "stream",
     "text": [
      "18/18 [==============================] - 0s 4ms/step - loss: 568.9510 - mae: 568.9510 - mse: 1171743.7500\n"
     ]
    },
    {
     "data": {
      "text/plain": [
       "[568.9509887695312, 568.9509887695312, 1171743.75]"
      ]
     },
     "execution_count": 29,
     "metadata": {},
     "output_type": "execute_result"
    }
   ],
   "source": [
    "model_1= tf.keras.models.load_model(\"model_experiments/model_1_dense/\")\n",
    "model_1.evaluate(test_windows,test_labels)"
   ]
  },
  {
   "cell_type": "code",
   "execution_count": 30,
   "metadata": {},
   "outputs": [],
   "source": [
    "def make_preds(model, input_data):\n",
    "\n",
    "    forecast= model.predict(input_data)\n",
    "    return tf.squeeze(forecast)"
   ]
  },
  {
   "cell_type": "code",
   "execution_count": 31,
   "metadata": {},
   "outputs": [
    {
     "name": "stdout",
     "output_type": "stream",
     "text": [
      "18/18 [==============================] - 0s 3ms/step\n"
     ]
    },
    {
     "data": {
      "text/plain": [
       "(556,\n",
       " <tf.Tensor: shape=(10,), dtype=float32, numpy=\n",
       " array([8861.712, 8769.886, 9015.712, 8795.519, 8723.811, 8730.112,\n",
       "        8691.953, 8502.054, 8460.96 , 8516.548], dtype=float32)>)"
      ]
     },
     "execution_count": 31,
     "metadata": {},
     "output_type": "execute_result"
    }
   ],
   "source": [
    "model_1_preds= make_preds(model_1,test_windows)\n",
    "len(model_1_preds), model_1_preds[:10]"
   ]
  },
  {
   "cell_type": "code",
   "execution_count": 32,
   "metadata": {},
   "outputs": [
    {
     "data": {
      "text/plain": [
       "(556, 1)"
      ]
     },
     "execution_count": 32,
     "metadata": {},
     "output_type": "execute_result"
    }
   ],
   "source": [
    "test_labels.shape"
   ]
  },
  {
   "cell_type": "code",
   "execution_count": 33,
   "metadata": {},
   "outputs": [
    {
     "data": {
      "text/plain": [
       "{'mae': 568.95105,\n",
       " 'mse': 1171743.6,\n",
       " 'rmse': 1082.4711,\n",
       " 'mape': 2.5448983,\n",
       " 'mase': 0.9994894}"
      ]
     },
     "execution_count": 33,
     "metadata": {},
     "output_type": "execute_result"
    }
   ],
   "source": [
    "models_1_results = evaluate_preds(y_true=tf.squeeze(test_labels),y_pred=model_1_preds)\n",
    "models_1_results\n"
   ]
  },
  {
   "cell_type": "code",
   "execution_count": 34,
   "metadata": {},
   "outputs": [
    {
     "data": {
      "text/plain": [
       "{'mae': 567.9802,\n",
       " 'mse': 1147547.0,\n",
       " 'rmse': 1071.2362,\n",
       " 'mape': 2.516525,\n",
       " 'mase': 0.99957}"
      ]
     },
     "execution_count": 34,
     "metadata": {},
     "output_type": "execute_result"
    }
   ],
   "source": [
    "naive_res"
   ]
  },
  {
   "cell_type": "code",
   "execution_count": 35,
   "metadata": {},
   "outputs": [
    {
     "data": {
      "image/png": "[encoded data removed]",
      "text/plain": [
       "<Figure size 720x504 with 1 Axes>"
      ]
     },
     "metadata": {
      "needs_background": "light"
     },
     "output_type": "display_data"
    }
   ],
   "source": [
    "offset=400\n",
    "plt.figure(figsize=(10,7))\n",
    "plot_time(timesteps=X_test[-len(test_windows):],values=test_labels[:,0],start=offset,label=\"Test Data\")\n",
    "\n",
    "plot_time(timesteps=X_test[-len(test_windows):],\n",
    "         values=model_1_preds,\n",
    "         start=offset,\n",
    "         format=\"-\",\n",
    "         label='model_1_preds')"
   ]
  },
  {
   "cell_type": "code",
   "execution_count": 36,
   "metadata": {},
   "outputs": [
    {
     "data": {
      "text/plain": [
       "2757"
      ]
     },
     "execution_count": 36,
     "metadata": {},
     "output_type": "execute_result"
    }
   ],
   "source": [
    "HORIZON=1\n",
    "WINDOW_SIZE=30\n",
    "\n",
    "full_windows,full_labels= make_windows(prices, window_size=WINDOW_SIZE, horizon=HORIZON)\n",
    "len(full_windows)"
   ]
  },
  {
   "cell_type": "code",
   "execution_count": 37,
   "metadata": {},
   "outputs": [
    {
     "data": {
      "text/plain": [
       "(2205, 552)"
      ]
     },
     "execution_count": 37,
     "metadata": {},
     "output_type": "execute_result"
    }
   ],
   "source": [
    "train_windows, test_windows, train_labels, test_labels = make_train_test_split(windows=full_windows,\n",
    "                                                                               labels=full_labels,\n",
    "                                                                               test_split=0.2)\n",
    "len(train_windows),len(test_windows)\n"
   ]
  },
  {
   "cell_type": "code",
   "execution_count": 38,
   "metadata": {},
   "outputs": [
    {
     "name": "stdout",
     "output_type": "stream",
     "text": [
      "INFO:tensorflow:Assets written to: model_experiments\\model_2_dense\\assets\n",
      "INFO:tensorflow:Assets written to: model_experiments\\model_2_dense\\assets\n",
      "INFO:tensorflow:Assets written to: model_experiments\\model_2_dense\\assets\n",
      "INFO:tensorflow:Assets written to: model_experiments\\model_2_dense\\assets\n",
      "INFO:tensorflow:Assets written to: model_experiments\\model_2_dense\\assets\n",
      "INFO:tensorflow:Assets written to: model_experiments\\model_2_dense\\assets\n",
      "INFO:tensorflow:Assets written to: model_experiments\\model_2_dense\\assets\n",
      "INFO:tensorflow:Assets written to: model_experiments\\model_2_dense\\assets\n",
      "INFO:tensorflow:Assets written to: model_experiments\\model_2_dense\\assets\n",
      "INFO:tensorflow:Assets written to: model_experiments\\model_2_dense\\assets\n",
      "INFO:tensorflow:Assets written to: model_experiments\\model_2_dense\\assets\n",
      "INFO:tensorflow:Assets written to: model_experiments\\model_2_dense\\assets\n",
      "INFO:tensorflow:Assets written to: model_experiments\\model_2_dense\\assets\n",
      "INFO:tensorflow:Assets written to: model_experiments\\model_2_dense\\assets\n",
      "INFO:tensorflow:Assets written to: model_experiments\\model_2_dense\\assets\n",
      "INFO:tensorflow:Assets written to: model_experiments\\model_2_dense\\assets\n",
      "INFO:tensorflow:Assets written to: model_experiments\\model_2_dense\\assets\n",
      "INFO:tensorflow:Assets written to: model_experiments\\model_2_dense\\assets\n",
      "INFO:tensorflow:Assets written to: model_experiments\\model_2_dense\\assets\n",
      "INFO:tensorflow:Assets written to: model_experiments\\model_2_dense\\assets\n",
      "INFO:tensorflow:Assets written to: model_experiments\\model_2_dense\\assets\n",
      "INFO:tensorflow:Assets written to: model_experiments\\model_2_dense\\assets\n",
      "INFO:tensorflow:Assets written to: model_experiments\\model_2_dense\\assets\n",
      "INFO:tensorflow:Assets written to: model_experiments\\model_2_dense\\assets\n",
      "INFO:tensorflow:Assets written to: model_experiments\\model_2_dense\\assets\n",
      "INFO:tensorflow:Assets written to: model_experiments\\model_2_dense\\assets\n",
      "INFO:tensorflow:Assets written to: model_experiments\\model_2_dense\\assets\n",
      "INFO:tensorflow:Assets written to: model_experiments\\model_2_dense\\assets\n",
      "INFO:tensorflow:Assets written to: model_experiments\\model_2_dense\\assets\n"
     ]
    },
    {
     "data": {
      "text/plain": [
       "<keras.callbacks.History at 0x1a926686340>"
      ]
     },
     "execution_count": 38,
     "metadata": {},
     "output_type": "execute_result"
    }
   ],
   "source": [
    "tf.random.set_seed(42)\n",
    "\n",
    "model_2 = tf.keras.Sequential([\n",
    "    layers.Dense(128, activation='relu'),\n",
    "    layers.Dense(HORIZON)\n",
    "], name='model_2_dense')\n",
    "\n",
    "model_2.compile(loss='mae',\n",
    "                optimizer=tf.keras.optimizers.Adam())\n",
    "\n",
    "model_2.fit(train_windows,\n",
    "            train_labels,\n",
    "            epochs=100,\n",
    "            batch_size=128,\n",
    "            verbose=0,\n",
    "            validation_data=(test_windows,test_labels),\n",
    "            callbacks=[create_model_checkpoint(model_name=model_2.name)])\n"
   ]
  },
  {
   "cell_type": "code",
   "execution_count": 39,
   "metadata": {},
   "outputs": [
    {
     "name": "stdout",
     "output_type": "stream",
     "text": [
      "18/18 [==============================] - 0s 3ms/step - loss: 665.5611\n"
     ]
    },
    {
     "data": {
      "text/plain": [
       "665.5610961914062"
      ]
     },
     "execution_count": 39,
     "metadata": {},
     "output_type": "execute_result"
    }
   ],
   "source": [
    "model_2.evaluate(test_windows,test_labels)\n"
   ]
  },
  {
   "cell_type": "code",
   "execution_count": 40,
   "metadata": {},
   "outputs": [
    {
     "name": "stdout",
     "output_type": "stream",
     "text": [
      "18/18 [==============================] - 0s 4ms/step - loss: 616.3276\n"
     ]
    },
    {
     "data": {
      "text/plain": [
       "616.3275756835938"
      ]
     },
     "execution_count": 40,
     "metadata": {},
     "output_type": "execute_result"
    }
   ],
   "source": [
    "model_2= tf.keras.models.load_model(\"model_experiments/model_2_dense/\")\n",
    "model_2.evaluate(test_windows,test_labels)"
   ]
  },
  {
   "cell_type": "code",
   "execution_count": 41,
   "metadata": {},
   "outputs": [
    {
     "name": "stdout",
     "output_type": "stream",
     "text": [
      "18/18 [==============================] - 0s 2ms/step\n"
     ]
    }
   ],
   "source": [
    "model_2_preds= make_preds(model_2,input_data=test_windows)\n"
   ]
  },
  {
   "cell_type": "code",
   "execution_count": 42,
   "metadata": {},
   "outputs": [
    {
     "data": {
      "text/plain": [
       "(552, 1)"
      ]
     },
     "execution_count": 42,
     "metadata": {},
     "output_type": "execute_result"
    }
   ],
   "source": [
    "test_labels.shape"
   ]
  },
  {
   "cell_type": "code",
   "execution_count": 43,
   "metadata": {},
   "outputs": [
    {
     "data": {
      "text/plain": [
       "{'mae': 616.3275,\n",
       " 'mse': 1309630.0,\n",
       " 'rmse': 1144.3907,\n",
       " 'mape': 2.8121033,\n",
       " 'mase': 1.0773466}"
      ]
     },
     "execution_count": 43,
     "metadata": {},
     "output_type": "execute_result"
    }
   ],
   "source": [
    "model_2_results= evaluate_preds(y_true= tf.squeeze(test_labels),y_pred=model_2_preds)\n",
    "model_2_results"
   ]
  },
  {
   "cell_type": "code",
   "execution_count": 44,
   "metadata": {},
   "outputs": [
    {
     "data": {
      "text/plain": [
       "{'mae': 568.95105,\n",
       " 'mse': 1171743.6,\n",
       " 'rmse': 1082.4711,\n",
       " 'mape': 2.5448983,\n",
       " 'mase': 0.9994894}"
      ]
     },
     "execution_count": 44,
     "metadata": {},
     "output_type": "execute_result"
    }
   ],
   "source": [
    "models_1_results"
   ]
  },
  {
   "cell_type": "code",
   "execution_count": 45,
   "metadata": {},
   "outputs": [
    {
     "data": {
      "image/png": "[encoded data removed]",
      "text/plain": [
       "<Figure size 720x504 with 1 Axes>"
      ]
     },
     "metadata": {
      "needs_background": "light"
     },
     "output_type": "display_data"
    }
   ],
   "source": [
    "offset =300\n",
    "plt.figure(figsize=(10,7))\n",
    "plot_time(timesteps=X_test[-len(test_windows):],values=test_labels[:,0],start=offset,label=\"test data\")\n",
    "\n",
    "plot_time(timesteps=X_test[-len(test_windows):] ,values= model_2_preds,start=offset,format=\"-\", label=\"model_2_preds\")"
   ]
  },
  {
   "cell_type": "code",
   "execution_count": 46,
   "metadata": {},
   "outputs": [
    {
     "data": {
      "text/plain": [
       "(2751, 2751)"
      ]
     },
     "execution_count": 46,
     "metadata": {},
     "output_type": "execute_result"
    }
   ],
   "source": [
    "HORIZON=7\n",
    "WINDOW_SIZE=30\n",
    "\n",
    "full_windows, full_labels = make_windows(prices,window_size=WINDOW_SIZE,horizon=HORIZON)\n",
    "len(full_windows),len(full_labels)"
   ]
  },
  {
   "cell_type": "code",
   "execution_count": 47,
   "metadata": {},
   "outputs": [
    {
     "data": {
      "text/plain": [
       "(2200, 551, 2200)"
      ]
     },
     "execution_count": 47,
     "metadata": {},
     "output_type": "execute_result"
    }
   ],
   "source": [
    "train_windows, test_windows, train_labels, test_labels = make_train_test_split(\n",
    "    windows=full_windows, labels=full_labels)\n",
    "\n",
    "len(train_windows),len(test_windows),len(train_labels)"
   ]
  },
  {
   "cell_type": "code",
   "execution_count": 48,
   "metadata": {},
   "outputs": [
    {
     "name": "stdout",
     "output_type": "stream",
     "text": [
      "Epoch 1/100\n",
      "17/18 [===========================>..] - ETA: 0s - loss: 1485.1279INFO:tensorflow:Assets written to: model_experiments\\model_3_dense\\assets\n",
      "18/18 [==============================] - 1s 53ms/step - loss: 1476.6752 - val_loss: 3088.5613\n",
      "Epoch 2/100\n",
      "15/18 [========================>.....] - ETA: 0s - loss: 556.5342INFO:tensorflow:Assets written to: model_experiments\\model_3_dense\\assets\n",
      "18/18 [==============================] - 1s 46ms/step - loss: 552.8943 - val_loss: 2462.4548\n",
      "Epoch 3/100\n",
      "11/18 [=================>............] - ETA: 0s - loss: 439.5783INFO:tensorflow:Assets written to: model_experiments\\model_3_dense\\assets\n",
      "18/18 [==============================] - 1s 42ms/step - loss: 435.1978 - val_loss: 2283.1484\n",
      "Epoch 4/100\n",
      "17/18 [===========================>..] - ETA: 0s - loss: 392.7372INFO:tensorflow:Assets written to: model_experiments\\model_3_dense\\assets\n",
      "18/18 [==============================] - 1s 53ms/step - loss: 391.9787 - val_loss: 1975.1218\n",
      "Epoch 5/100\n",
      "18/18 [==============================] - 0s 8ms/step - loss: 357.9485 - val_loss: 2000.1556\n",
      "Epoch 6/100\n",
      "11/18 [=================>............] - ETA: 0s - loss: 340.3838INFO:tensorflow:Assets written to: model_experiments\\model_3_dense\\assets\n",
      "18/18 [==============================] - 1s 39ms/step - loss: 332.6704 - val_loss: 1723.4186\n",
      "Epoch 7/100\n",
      "11/18 [=================>............] - ETA: 0s - loss: 303.9187INFO:tensorflow:Assets written to: model_experiments\\model_3_dense\\assets\n",
      "18/18 [==============================] - 1s 45ms/step - loss: 309.9903 - val_loss: 1591.9688\n",
      "Epoch 8/100\n",
      "15/18 [========================>.....] - ETA: 0s - loss: 303.9484INFO:tensorflow:Assets written to: model_experiments\\model_3_dense\\assets\n",
      "18/18 [==============================] - 1s 34ms/step - loss: 302.4123 - val_loss: 1579.8518\n",
      "Epoch 9/100\n",
      "18/18 [==============================] - 0s 6ms/step - loss: 293.9170 - val_loss: 1602.9116\n",
      "Epoch 10/100\n",
      "10/18 [===============>..............] - ETA: 0s - loss: 294.2438INFO:tensorflow:Assets written to: model_experiments\\model_3_dense\\assets\n",
      "18/18 [==============================] - 1s 47ms/step - loss: 291.5431 - val_loss: 1504.9114\n",
      "Epoch 11/100\n",
      "12/18 [===================>..........] - ETA: 0s - loss: 282.1191INFO:tensorflow:Assets written to: model_experiments\\model_3_dense\\assets\n",
      "18/18 [==============================] - 1s 53ms/step - loss: 282.3861 - val_loss: 1474.9521\n",
      "Epoch 12/100\n",
      "18/18 [==============================] - 0s 9ms/step - loss: 276.0491 - val_loss: 1539.4847\n",
      "Epoch 13/100\n",
      " 9/18 [==============>...............] - ETA: 0s - loss: 275.7711INFO:tensorflow:Assets written to: model_experiments\\model_3_dense\\assets\n",
      "18/18 [==============================] - 1s 34ms/step - loss: 272.3232 - val_loss: 1459.5269\n",
      "Epoch 14/100\n",
      "15/18 [========================>.....] - ETA: 0s - loss: 260.7679INFO:tensorflow:Assets written to: model_experiments\\model_3_dense\\assets\n",
      "18/18 [==============================] - 1s 36ms/step - loss: 270.6817 - val_loss: 1417.0792\n",
      "Epoch 15/100\n",
      "18/18 [==============================] - 0s 9ms/step - loss: 263.8875 - val_loss: 1541.0621\n",
      "Epoch 16/100\n",
      "18/18 [==============================] - 0s 7ms/step - loss: 265.9065 - val_loss: 1441.2795\n",
      "Epoch 17/100\n",
      "18/18 [==============================] - 0s 6ms/step - loss: 262.9132 - val_loss: 1505.8213\n",
      "Epoch 18/100\n",
      "18/18 [==============================] - 0s 6ms/step - loss: 260.1363 - val_loss: 1446.3213\n",
      "Epoch 19/100\n",
      "18/18 [==============================] - 0s 6ms/step - loss: 258.2223 - val_loss: 1522.3828\n",
      "Epoch 20/100\n",
      "18/18 [==============================] - 0s 8ms/step - loss: 263.9978 - val_loss: 1425.1411\n",
      "Epoch 21/100\n",
      "18/18 [==============================] - 0s 7ms/step - loss: 255.4174 - val_loss: 1460.1968\n",
      "Epoch 22/100\n",
      "18/18 [==============================] - 0s 7ms/step - loss: 255.3434 - val_loss: 1419.4122\n",
      "Epoch 23/100\n",
      "11/18 [=================>............] - ETA: 0s - loss: 261.7463INFO:tensorflow:Assets written to: model_experiments\\model_3_dense\\assets\n",
      "18/18 [==============================] - 1s 44ms/step - loss: 258.0463 - val_loss: 1384.9282\n",
      "Epoch 24/100\n",
      "18/18 [==============================] - ETA: 0s - loss: 269.2109INFO:tensorflow:Assets written to: model_experiments\\model_3_dense\\assets\n",
      "18/18 [==============================] - 1s 36ms/step - loss: 269.2109 - val_loss: 1377.6122\n",
      "Epoch 25/100\n",
      "18/18 [==============================] - 0s 12ms/step - loss: 253.5239 - val_loss: 1452.3351\n",
      "Epoch 26/100\n",
      "18/18 [==============================] - 0s 8ms/step - loss: 252.1648 - val_loss: 1388.5122\n",
      "Epoch 27/100\n",
      "18/18 [==============================] - 0s 7ms/step - loss: 251.8276 - val_loss: 1451.5784\n",
      "Epoch 28/100\n",
      "18/18 [==============================] - 0s 8ms/step - loss: 247.8791 - val_loss: 1391.4445\n",
      "Epoch 29/100\n",
      "18/18 [==============================] - 0s 7ms/step - loss: 246.0225 - val_loss: 1382.1858\n",
      "Epoch 30/100\n",
      "13/18 [====================>.........] - ETA: 0s - loss: 247.8809INFO:tensorflow:Assets written to: model_experiments\\model_3_dense\\assets\n",
      "18/18 [==============================] - 1s 59ms/step - loss: 248.2236 - val_loss: 1336.2773\n",
      "Epoch 31/100\n",
      "15/18 [========================>.....] - ETA: 0s - loss: 235.7213INFO:tensorflow:Assets written to: model_experiments\\model_3_dense\\assets\n",
      "18/18 [==============================] - 0s 29ms/step - loss: 242.1411 - val_loss: 1334.8569\n",
      "Epoch 32/100\n",
      "14/18 [======================>.......] - ETA: 0s - loss: 242.8755INFO:tensorflow:Assets written to: model_experiments\\model_3_dense\\assets\n",
      "18/18 [==============================] - 1s 35ms/step - loss: 245.8559 - val_loss: 1329.1195\n",
      "Epoch 33/100\n",
      "18/18 [==============================] - 0s 6ms/step - loss: 246.9277 - val_loss: 1372.8105\n",
      "Epoch 34/100\n",
      "18/18 [==============================] - 0s 6ms/step - loss: 244.2540 - val_loss: 1373.9778\n",
      "Epoch 35/100\n",
      "18/18 [==============================] - 0s 7ms/step - loss: 244.3824 - val_loss: 1349.5087\n",
      "Epoch 36/100\n",
      "18/18 [==============================] - 0s 5ms/step - loss: 241.3231 - val_loss: 1427.5961\n",
      "Epoch 37/100\n",
      "18/18 [==============================] - 0s 6ms/step - loss: 257.3803 - val_loss: 1363.9797\n",
      "Epoch 38/100\n",
      "18/18 [==============================] - 0s 5ms/step - loss: 240.1044 - val_loss: 1376.8528\n",
      "Epoch 39/100\n",
      "18/18 [==============================] - 0s 5ms/step - loss: 245.4610 - val_loss: 1412.0402\n",
      "Epoch 40/100\n",
      "18/18 [==============================] - 0s 5ms/step - loss: 239.6820 - val_loss: 1426.0742\n",
      "Epoch 41/100\n",
      "18/18 [==============================] - 0s 10ms/step - loss: 239.1188 - val_loss: 1442.6663\n",
      "Epoch 42/100\n",
      "18/18 [==============================] - 0s 5ms/step - loss: 246.8635 - val_loss: 1347.2452\n",
      "Epoch 43/100\n",
      "18/18 [==============================] - 0s 5ms/step - loss: 239.3242 - val_loss: 1365.7219\n",
      "Epoch 44/100\n",
      "18/18 [==============================] - ETA: 0s - loss: 250.1504INFO:tensorflow:Assets written to: model_experiments\\model_3_dense\\assets\n",
      "18/18 [==============================] - 0s 27ms/step - loss: 250.1504 - val_loss: 1293.0472\n",
      "Epoch 45/100\n",
      "18/18 [==============================] - 0s 6ms/step - loss: 243.7763 - val_loss: 1505.8341\n",
      "Epoch 46/100\n",
      "18/18 [==============================] - 0s 6ms/step - loss: 241.1997 - val_loss: 1299.8013\n",
      "Epoch 47/100\n",
      "18/18 [==============================] - 0s 5ms/step - loss: 236.0368 - val_loss: 1339.0396\n",
      "Epoch 48/100\n",
      "18/18 [==============================] - 0s 6ms/step - loss: 235.2749 - val_loss: 1329.4685\n",
      "Epoch 49/100\n",
      "18/18 [==============================] - 0s 9ms/step - loss: 238.4083 - val_loss: 1326.4941\n",
      "Epoch 50/100\n",
      "18/18 [==============================] - 0s 6ms/step - loss: 236.0985 - val_loss: 1318.6080\n",
      "Epoch 51/100\n",
      "18/18 [==============================] - 0s 5ms/step - loss: 247.4354 - val_loss: 1389.7017\n",
      "Epoch 52/100\n",
      "18/18 [==============================] - 0s 5ms/step - loss: 233.8826 - val_loss: 1293.4277\n",
      "Epoch 53/100\n",
      " 1/18 [>.............................] - ETA: 0s - loss: 176.6848INFO:tensorflow:Assets written to: model_experiments\\model_3_dense\\assets\n",
      "18/18 [==============================] - 0s 29ms/step - loss: 232.7012 - val_loss: 1284.7607\n",
      "Epoch 54/100\n",
      "15/18 [========================>.....] - ETA: 0s - loss: 234.7224INFO:tensorflow:Assets written to: model_experiments\\model_3_dense\\assets\n",
      "18/18 [==============================] - 1s 31ms/step - loss: 235.9017 - val_loss: 1284.3806\n",
      "Epoch 55/100\n",
      "18/18 [==============================] - 0s 6ms/step - loss: 232.9453 - val_loss: 1312.6141\n",
      "Epoch 56/100\n",
      "18/18 [==============================] - 0s 5ms/step - loss: 231.0590 - val_loss: 1355.7415\n",
      "Epoch 57/100\n",
      "18/18 [==============================] - 0s 6ms/step - loss: 235.9913 - val_loss: 1363.5928\n",
      "Epoch 58/100\n",
      "18/18 [==============================] - 0s 6ms/step - loss: 231.6387 - val_loss: 1306.6425\n",
      "Epoch 59/100\n",
      "18/18 [==============================] - 0s 6ms/step - loss: 230.8834 - val_loss: 1288.3002\n",
      "Epoch 60/100\n",
      "17/18 [===========================>..] - ETA: 0s - loss: 230.6600INFO:tensorflow:Assets written to: model_experiments\\model_3_dense\\assets\n",
      "18/18 [==============================] - 0s 28ms/step - loss: 230.1366 - val_loss: 1259.6017\n",
      "Epoch 61/100\n",
      "18/18 [==============================] - 0s 10ms/step - loss: 230.5381 - val_loss: 1406.2996\n",
      "Epoch 62/100\n",
      "18/18 [==============================] - 0s 8ms/step - loss: 231.8386 - val_loss: 1291.0713\n",
      "Epoch 63/100\n",
      "18/18 [==============================] - 0s 6ms/step - loss: 233.6788 - val_loss: 1368.6284\n",
      "Epoch 64/100\n",
      "13/18 [====================>.........] - ETA: 0s - loss: 243.2535INFO:tensorflow:Assets written to: model_experiments\\model_3_dense\\assets\n",
      "18/18 [==============================] - 1s 34ms/step - loss: 232.2232 - val_loss: 1251.2312\n",
      "Epoch 65/100\n",
      "18/18 [==============================] - 0s 8ms/step - loss: 232.8093 - val_loss: 1346.9840\n",
      "Epoch 66/100\n",
      "18/18 [==============================] - 0s 10ms/step - loss: 231.5086 - val_loss: 1429.1592\n",
      "Epoch 67/100\n",
      "18/18 [==============================] - 0s 7ms/step - loss: 234.4316 - val_loss: 1291.2920\n",
      "Epoch 68/100\n",
      "18/18 [==============================] - 0s 7ms/step - loss: 228.4419 - val_loss: 1320.3303\n",
      "Epoch 69/100\n",
      "18/18 [==============================] - 0s 8ms/step - loss: 227.7240 - val_loss: 1519.1730\n",
      "Epoch 70/100\n",
      "18/18 [==============================] - 0s 12ms/step - loss: 233.6939 - val_loss: 1278.3643\n",
      "Epoch 71/100\n",
      "18/18 [==============================] - 0s 10ms/step - loss: 227.1845 - val_loss: 1261.8005\n",
      "Epoch 72/100\n",
      "18/18 [==============================] - 0s 9ms/step - loss: 229.9134 - val_loss: 1251.5463\n",
      "Epoch 73/100\n",
      "18/18 [==============================] - 0s 10ms/step - loss: 227.0497 - val_loss: 1270.7107\n",
      "Epoch 74/100\n",
      "18/18 [==============================] - 0s 10ms/step - loss: 230.8764 - val_loss: 1387.2860\n",
      "Epoch 75/100\n",
      "18/18 [==============================] - 0s 9ms/step - loss: 228.8457 - val_loss: 1356.4390\n",
      "Epoch 76/100\n",
      "18/18 [==============================] - 0s 8ms/step - loss: 228.9847 - val_loss: 1287.2343\n",
      "Epoch 77/100\n",
      "11/18 [=================>............] - ETA: 0s - loss: 225.9684INFO:tensorflow:Assets written to: model_experiments\\model_3_dense\\assets\n",
      "18/18 [==============================] - 1s 35ms/step - loss: 225.3239 - val_loss: 1237.5065\n",
      "Epoch 78/100\n",
      "18/18 [==============================] - 0s 8ms/step - loss: 229.2194 - val_loss: 1248.6915\n",
      "Epoch 79/100\n",
      "18/18 [==============================] - 0s 9ms/step - loss: 227.7465 - val_loss: 1286.5439\n",
      "Epoch 80/100\n",
      "18/18 [==============================] - 0s 7ms/step - loss: 225.9967 - val_loss: 1329.9921\n",
      "Epoch 81/100\n",
      "18/18 [==============================] - 0s 7ms/step - loss: 228.1217 - val_loss: 1262.6129\n",
      "Epoch 82/100\n",
      "18/18 [==============================] - 0s 8ms/step - loss: 225.3166 - val_loss: 1273.8380\n",
      "Epoch 83/100\n",
      "18/18 [==============================] - 0s 10ms/step - loss: 225.2265 - val_loss: 1279.3624\n",
      "Epoch 84/100\n",
      "18/18 [==============================] - 0s 7ms/step - loss: 224.9336 - val_loss: 1249.8485\n",
      "Epoch 85/100\n",
      "18/18 [==============================] - 0s 7ms/step - loss: 226.8255 - val_loss: 1248.8396\n",
      "Epoch 86/100\n",
      "18/18 [==============================] - 0s 6ms/step - loss: 224.7192 - val_loss: 1295.6708\n",
      "Epoch 87/100\n",
      "18/18 [==============================] - 0s 7ms/step - loss: 227.7314 - val_loss: 1312.5576\n",
      "Epoch 88/100\n",
      "18/18 [==============================] - 0s 8ms/step - loss: 226.0089 - val_loss: 1531.1237\n",
      "Epoch 89/100\n",
      "18/18 [==============================] - 0s 9ms/step - loss: 232.9869 - val_loss: 1280.1622\n",
      "Epoch 90/100\n",
      "18/18 [==============================] - 0s 6ms/step - loss: 231.6928 - val_loss: 1342.9247\n",
      "Epoch 91/100\n",
      "18/18 [==============================] - 0s 5ms/step - loss: 226.7607 - val_loss: 1259.4495\n",
      "Epoch 92/100\n",
      "18/18 [==============================] - 0s 6ms/step - loss: 225.4304 - val_loss: 1244.5865\n",
      "Epoch 93/100\n",
      "18/18 [==============================] - 0s 6ms/step - loss: 232.3920 - val_loss: 1305.4160\n",
      "Epoch 94/100\n",
      "18/18 [==============================] - 0s 7ms/step - loss: 227.1455 - val_loss: 1278.3682\n",
      "Epoch 95/100\n",
      "18/18 [==============================] - 0s 7ms/step - loss: 226.4553 - val_loss: 1282.0594\n",
      "Epoch 96/100\n",
      "18/18 [==============================] - 0s 5ms/step - loss: 229.8147 - val_loss: 1359.4149\n",
      "Epoch 97/100\n",
      "18/18 [==============================] - 0s 8ms/step - loss: 226.3261 - val_loss: 1261.2341\n",
      "Epoch 98/100\n",
      "18/18 [==============================] - 0s 7ms/step - loss: 227.1718 - val_loss: 1369.7389\n",
      "Epoch 99/100\n",
      "18/18 [==============================] - 0s 7ms/step - loss: 228.8833 - val_loss: 1241.8301\n",
      "Epoch 100/100\n",
      "18/18 [==============================] - 0s 8ms/step - loss: 223.2735 - val_loss: 1300.1525\n"
     ]
    },
    {
     "data": {
      "text/plain": [
       "<keras.callbacks.History at 0x1a97f921df0>"
      ]
     },
     "execution_count": 48,
     "metadata": {},
     "output_type": "execute_result"
    }
   ],
   "source": [
    "tf.random.set_seed(42)\n",
    "\n",
    "model_3 = tf.keras.Sequential([\n",
    "    layers.Dense(128, activation=\"relu\"),\n",
    "    layers.Dense(HORIZON)\n",
    "\n",
    "], name=\"model_3_dense\")\n",
    "\n",
    "model_3.compile(loss=\"MAE\",\n",
    "                optimizer=tf.keras.optimizers.Adam())\n",
    "\n",
    "model_3.fit(train_windows,\n",
    "            train_labels, batch_size=128,\n",
    "            epochs=100,\n",
    "            validation_data= (test_windows,test_labels),\n",
    "            callbacks= [create_model_checkpoint(model_name=model_3.name)])\n"
   ]
  },
  {
   "cell_type": "code",
   "execution_count": 49,
   "metadata": {},
   "outputs": [
    {
     "name": "stdout",
     "output_type": "stream",
     "text": [
      "18/18 [==============================] - 0s 3ms/step - loss: 1300.1525\n"
     ]
    },
    {
     "data": {
      "text/plain": [
       "1300.1524658203125"
      ]
     },
     "execution_count": 49,
     "metadata": {},
     "output_type": "execute_result"
    }
   ],
   "source": [
    "model_3.evaluate(test_windows,test_labels)"
   ]
  },
  {
   "cell_type": "code",
   "execution_count": 50,
   "metadata": {},
   "outputs": [
    {
     "name": "stdout",
     "output_type": "stream",
     "text": [
      "18/18 [==============================] - 0s 5ms/step - loss: 1237.5063\n"
     ]
    },
    {
     "data": {
      "text/plain": [
       "1237.50634765625"
      ]
     },
     "execution_count": 50,
     "metadata": {},
     "output_type": "execute_result"
    }
   ],
   "source": [
    "model_3 =tf.keras.models.load_model(\"model_experiments/model_3_dense/\")\n",
    "model_3.evaluate(test_windows,test_labels)\n"
   ]
  },
  {
   "cell_type": "code",
   "execution_count": 51,
   "metadata": {},
   "outputs": [
    {
     "name": "stdout",
     "output_type": "stream",
     "text": [
      "18/18 [==============================] - 0s 2ms/step\n"
     ]
    },
    {
     "data": {
      "text/plain": [
       "<tf.Tensor: shape=(5, 7), dtype=float32, numpy=\n",
       "array([[9004.694 , 9048.1   , 9425.09  , 9258.256 , 9495.797 , 9558.453 ,\n",
       "        9357.3545],\n",
       "       [8735.506 , 8840.303 , 9247.793 , 8885.601 , 9097.186 , 9174.327 ,\n",
       "        9156.818 ],\n",
       "       [8672.508 , 8782.387 , 9123.857 , 8770.371 , 9007.13  , 9003.869 ,\n",
       "        9042.725 ],\n",
       "       [8874.399 , 8784.74  , 9043.902 , 8943.052 , 9033.477 , 9176.489 ,\n",
       "        9039.677 ],\n",
       "       [8825.89  , 8777.44  , 8926.78  , 8870.179 , 9213.232 , 9268.156 ,\n",
       "        8942.487 ]], dtype=float32)>"
      ]
     },
     "execution_count": 51,
     "metadata": {},
     "output_type": "execute_result"
    }
   ],
   "source": [
    "model_3_preds = make_preds(model_3, input_data=test_windows)\n",
    "model_3_preds[:5]"
   ]
  },
  {
   "cell_type": "code",
   "execution_count": 52,
   "metadata": {},
   "outputs": [
    {
     "data": {
      "text/plain": [
       "(TensorShape([551, 7]), TensorShape([552]))"
      ]
     },
     "execution_count": 52,
     "metadata": {},
     "output_type": "execute_result"
    }
   ],
   "source": [
    "model_3_preds.shape, model_2_preds.shape"
   ]
  },
  {
   "cell_type": "code",
   "execution_count": 53,
   "metadata": {},
   "outputs": [],
   "source": [
    "def evaluate_preds(y_true, y_pred):\n",
    "    y_true = tf.cast(y_true, dtype=tf.float32)\n",
    "    y_pred = tf.cast(y_pred, dtype=tf.float32)\n",
    "    mae = tf.keras.metrics.mean_absolute_error(y_true, y_pred)\n",
    "    mse = tf.keras.metrics.mean_squared_error(y_true, y_pred)\n",
    "    rmse = tf.sqrt(mse)\n",
    "    mape = tf.keras.metrics.mean_absolute_percentage_error(y_true, y_pred)\n",
    "    mase = mean_absolute_scaled_error(y_true, y_pred)\n",
    "\n",
    "    if mae.ndim > 0:\n",
    "        mae = tf.reduce_mean(mae)\n",
    "        mse = tf.reduce_mean(mse)\n",
    "        rmse = tf.reduce_mean(rmse)\n",
    "        mape = tf.reduce_mean(mape)\n",
    "        mase = tf.reduce_mean(mase)\n",
    "        \n",
    "    return {\"mae\": mae.numpy(),\n",
    "            \"mse\": mse.numpy(),\n",
    "            \"rmse\": rmse.numpy(),\n",
    "            \"mape\": mape.numpy(),\n",
    "            \"mase\": mase.numpy()}\n"
   ]
  },
  {
   "cell_type": "code",
   "execution_count": 54,
   "metadata": {},
   "outputs": [
    {
     "data": {
      "text/plain": [
       "{'mae': 1237.5063,\n",
       " 'mse': 5405198.5,\n",
       " 'rmse': 1425.7477,\n",
       " 'mape': 5.5588784,\n",
       " 'mase': 2.2020733}"
      ]
     },
     "execution_count": 54,
     "metadata": {},
     "output_type": "execute_result"
    }
   ],
   "source": [
    "model_3_results = evaluate_preds(y_true=tf.squeeze(test_labels),\n",
    "                                 y_pred=model_3_preds)\n",
    "model_3_results"
   ]
  },
  {
   "cell_type": "code",
   "execution_count": 55,
   "metadata": {},
   "outputs": [
    {
     "data": {
      "image/png": "[encoded data removed]",
      "text/plain": [
       "<Figure size 720x504 with 1 Axes>"
      ]
     },
     "metadata": {
      "needs_background": "light"
     },
     "output_type": "display_data"
    }
   ],
   "source": [
    "offset = 300\n",
    "plt.figure(figsize=(10, 7))\n",
    "plot_time(timesteps=X_test[-len(test_windows):],\n",
    "          values=test_labels[:, 0], start=offset, label=\"test data\")\n",
    "\n",
    "plot_time(timesteps=X_test[-len(test_windows):], values=model_3_preds,\n",
    "          start=offset, format=\"-\", label=\"model_3_preds\")\n"
   ]
  },
  {
   "cell_type": "code",
   "execution_count": 56,
   "metadata": {},
   "outputs": [
    {
     "data": {
      "image/png": "[encoded data removed]",
      "text/plain": [
       "<Figure size 720x504 with 1 Axes>"
      ]
     },
     "metadata": {
      "needs_background": "light"
     },
     "output_type": "display_data"
    }
   ],
   "source": [
    "offset =300\n",
    "plt.figure(figsize=(10,7))\n",
    "plot_time(timesteps=X_test[-len(test_windows):],values=test_labels[:,0],start=offset,label=\"test data\")\n",
    "\n",
    "plot_time(timesteps=X_test[-len(test_windows):] ,values=tf.reduce_mean(model_3_preds,axis=1),start=offset,format=\"-\", label=\"model_2_preds\")"
   ]
  },
  {
   "cell_type": "code",
   "execution_count": 57,
   "metadata": {},
   "outputs": [
    {
     "data": {
      "text/plain": [
       "<matplotlib.axes._subplots.AxesSubplot at 0x1a97eb14850>"
      ]
     },
     "execution_count": 57,
     "metadata": {},
     "output_type": "execute_result"
    },
    {
     "data": {
      "image/png": "[encoded data removed]",
      "text/plain": [
       "<Figure size 720x504 with 1 Axes>"
      ]
     },
     "metadata": {
      "needs_background": "light"
     },
     "output_type": "display_data"
    }
   ],
   "source": [
    "pd.DataFrame({\"naive\":naive_res[\"mae\"],\n",
    "\"horizon_1_window_7\": models_1_results[\"mae\"],\n",
    "\"horizon_1_window_30\":model_2_results[\"mae\"],\n",
    "\"horizon_7_window_30\":model_3_results[\"mae\"]},index= [\"mae\"]).plot(figsize=(10,7),kind=\"bar\")"
   ]
  },
  {
   "cell_type": "code",
   "execution_count": 58,
   "metadata": {},
   "outputs": [
    {
     "data": {
      "text/plain": [
       "(2780, 2780)"
      ]
     },
     "execution_count": 58,
     "metadata": {},
     "output_type": "execute_result"
    }
   ],
   "source": [
    "HORIZON=1\n",
    "WINDOW_SIZE=7\n",
    "\n",
    "full_windows, full_labels= make_windows(prices,window_size=WINDOW_SIZE, horizon=HORIZON)\n",
    "len(full_labels),len(full_windows)"
   ]
  },
  {
   "cell_type": "code",
   "execution_count": 59,
   "metadata": {},
   "outputs": [
    {
     "data": {
      "text/plain": [
       "(2224, 556)"
      ]
     },
     "execution_count": 59,
     "metadata": {},
     "output_type": "execute_result"
    }
   ],
   "source": [
    "train_windows,test_windows,train_labels,test_labels= make_train_test_split(full_windows,full_labels)\n",
    "len(train_windows),len(test_labels)"
   ]
  },
  {
   "cell_type": "code",
   "execution_count": 60,
   "metadata": {},
   "outputs": [
    {
     "data": {
      "text/plain": [
       "(7,)"
      ]
     },
     "execution_count": 60,
     "metadata": {},
     "output_type": "execute_result"
    }
   ],
   "source": [
    "train_windows[0].shape"
   ]
  },
  {
   "cell_type": "code",
   "execution_count": 61,
   "metadata": {},
   "outputs": [
    {
     "data": {
      "text/plain": [
       "<tf.Tensor: shape=(7,), dtype=float64, numpy=\n",
       "array([123.65499, 125.455  , 108.58483, 118.67466, 121.33866, 120.65533,\n",
       "       121.795  ])>"
      ]
     },
     "execution_count": 61,
     "metadata": {},
     "output_type": "execute_result"
    }
   ],
   "source": [
    "x=  tf.constant(train_windows[0])\n",
    "x"
   ]
  },
  {
   "cell_type": "code",
   "execution_count": 62,
   "metadata": {},
   "outputs": [
    {
     "data": {
      "text/plain": [
       "<tf.Tensor: shape=(7, 1), dtype=float32, numpy=\n",
       "array([[123.65499],\n",
       "       [125.455  ],\n",
       "       [108.58483],\n",
       "       [118.67466],\n",
       "       [121.33866],\n",
       "       [120.65533],\n",
       "       [121.795  ]], dtype=float32)>"
      ]
     },
     "execution_count": 62,
     "metadata": {},
     "output_type": "execute_result"
    }
   ],
   "source": [
    "expand_dim_layer = layers.Lambda(lambda x: tf.expand_dims(x,axis=1))\n",
    "expand_dim_layer(x)"
   ]
  },
  {
   "cell_type": "code",
   "execution_count": 63,
   "metadata": {},
   "outputs": [
    {
     "name": "stdout",
     "output_type": "stream",
     "text": [
      "Epoch 1/100\n",
      "18/18 [==============================] - ETA: 0s - loss: 1486.8540"
     ]
    },
    {
     "name": "stderr",
     "output_type": "stream",
     "text": [
      "WARNING:absl:Found untraced functions such as _jit_compiled_convolution_op while saving (showing 1 of 1). These functions will not be directly callable after loading.\n"
     ]
    },
    {
     "name": "stdout",
     "output_type": "stream",
     "text": [
      "INFO:tensorflow:Assets written to: model_experiments\\model_4_conv1D\\assets\n"
     ]
    },
    {
     "name": "stderr",
     "output_type": "stream",
     "text": [
      "INFO:tensorflow:Assets written to: model_experiments\\model_4_conv1D\\assets\n"
     ]
    },
    {
     "name": "stdout",
     "output_type": "stream",
     "text": [
      "18/18 [==============================] - 8s 97ms/step - loss: 1486.8540 - val_loss: 1494.0685\n",
      "Epoch 2/100\n",
      "18/18 [==============================] - 0s 10ms/step - loss: 359.4668 - val_loss: 1882.3083\n",
      "Epoch 3/100\n",
      "17/18 [===========================>..] - ETA: 0s - loss: 240.0226"
     ]
    },
    {
     "name": "stderr",
     "output_type": "stream",
     "text": [
      "WARNING:absl:Found untraced functions such as _jit_compiled_convolution_op while saving (showing 1 of 1). These functions will not be directly callable after loading.\n"
     ]
    },
    {
     "name": "stdout",
     "output_type": "stream",
     "text": [
      "INFO:tensorflow:Assets written to: model_experiments\\model_4_conv1D\\assets\n"
     ]
    },
    {
     "name": "stderr",
     "output_type": "stream",
     "text": [
      "INFO:tensorflow:Assets written to: model_experiments\\model_4_conv1D\\assets\n"
     ]
    },
    {
     "name": "stdout",
     "output_type": "stream",
     "text": [
      "18/18 [==============================] - 1s 64ms/step - loss: 237.6437 - val_loss: 1228.2827\n",
      "Epoch 4/100\n",
      "16/18 [=========================>....] - ETA: 0s - loss: 208.4415"
     ]
    },
    {
     "name": "stderr",
     "output_type": "stream",
     "text": [
      "WARNING:absl:Found untraced functions such as _jit_compiled_convolution_op while saving (showing 1 of 1). These functions will not be directly callable after loading.\n"
     ]
    },
    {
     "name": "stdout",
     "output_type": "stream",
     "text": [
      "INFO:tensorflow:Assets written to: model_experiments\\model_4_conv1D\\assets\n"
     ]
    },
    {
     "name": "stderr",
     "output_type": "stream",
     "text": [
      "INFO:tensorflow:Assets written to: model_experiments\\model_4_conv1D\\assets\n"
     ]
    },
    {
     "name": "stdout",
     "output_type": "stream",
     "text": [
      "18/18 [==============================] - 1s 58ms/step - loss: 208.5991 - val_loss: 1095.6582\n",
      "Epoch 5/100\n",
      " 9/18 [==============>...............] - ETA: 0s - loss: 218.5226"
     ]
    },
    {
     "name": "stderr",
     "output_type": "stream",
     "text": [
      "WARNING:absl:Found untraced functions such as _jit_compiled_convolution_op while saving (showing 1 of 1). These functions will not be directly callable after loading.\n"
     ]
    },
    {
     "name": "stdout",
     "output_type": "stream",
     "text": [
      "INFO:tensorflow:Assets written to: model_experiments\\model_4_conv1D\\assets\n"
     ]
    },
    {
     "name": "stderr",
     "output_type": "stream",
     "text": [
      "INFO:tensorflow:Assets written to: model_experiments\\model_4_conv1D\\assets\n"
     ]
    },
    {
     "name": "stdout",
     "output_type": "stream",
     "text": [
      "18/18 [==============================] - 1s 44ms/step - loss: 197.1485 - val_loss: 1087.9990\n",
      "Epoch 6/100\n",
      "13/18 [====================>.........] - ETA: 0s - loss: 188.3407"
     ]
    },
    {
     "name": "stderr",
     "output_type": "stream",
     "text": [
      "WARNING:absl:Found untraced functions such as _jit_compiled_convolution_op while saving (showing 1 of 1). These functions will not be directly callable after loading.\n"
     ]
    },
    {
     "name": "stdout",
     "output_type": "stream",
     "text": [
      "INFO:tensorflow:Assets written to: model_experiments\\model_4_conv1D\\assets\n"
     ]
    },
    {
     "name": "stderr",
     "output_type": "stream",
     "text": [
      "INFO:tensorflow:Assets written to: model_experiments\\model_4_conv1D\\assets\n"
     ]
    },
    {
     "name": "stdout",
     "output_type": "stream",
     "text": [
      "18/18 [==============================] - 1s 44ms/step - loss: 192.2835 - val_loss: 1075.7545\n",
      "Epoch 7/100\n",
      "14/18 [======================>.......] - ETA: 0s - loss: 198.0395"
     ]
    },
    {
     "name": "stderr",
     "output_type": "stream",
     "text": [
      "WARNING:absl:Found untraced functions such as _jit_compiled_convolution_op while saving (showing 1 of 1). These functions will not be directly callable after loading.\n"
     ]
    },
    {
     "name": "stdout",
     "output_type": "stream",
     "text": [
      "INFO:tensorflow:Assets written to: model_experiments\\model_4_conv1D\\assets\n"
     ]
    },
    {
     "name": "stderr",
     "output_type": "stream",
     "text": [
      "INFO:tensorflow:Assets written to: model_experiments\\model_4_conv1D\\assets\n"
     ]
    },
    {
     "name": "stdout",
     "output_type": "stream",
     "text": [
      "18/18 [==============================] - 1s 44ms/step - loss: 191.2741 - val_loss: 1050.4601\n",
      "Epoch 8/100\n",
      "18/18 [==============================] - 0s 11ms/step - loss: 186.0932 - val_loss: 1054.7797\n",
      "Epoch 9/100\n",
      "18/18 [==============================] - 0s 7ms/step - loss: 183.6489 - val_loss: 1061.0856\n",
      "Epoch 10/100\n",
      "13/18 [====================>.........] - ETA: 0s - loss: 175.3409"
     ]
    },
    {
     "name": "stderr",
     "output_type": "stream",
     "text": [
      "WARNING:absl:Found untraced functions such as _jit_compiled_convolution_op while saving (showing 1 of 1). These functions will not be directly callable after loading.\n"
     ]
    },
    {
     "name": "stdout",
     "output_type": "stream",
     "text": [
      "INFO:tensorflow:Assets written to: model_experiments\\model_4_conv1D\\assets\n"
     ]
    },
    {
     "name": "stderr",
     "output_type": "stream",
     "text": [
      "INFO:tensorflow:Assets written to: model_experiments\\model_4_conv1D\\assets\n"
     ]
    },
    {
     "name": "stdout",
     "output_type": "stream",
     "text": [
      "18/18 [==============================] - 1s 44ms/step - loss: 181.0739 - val_loss: 1007.3293\n",
      "Epoch 11/100\n",
      "18/18 [==============================] - ETA: 0s - loss: 177.9125"
     ]
    },
    {
     "name": "stderr",
     "output_type": "stream",
     "text": [
      "WARNING:absl:Found untraced functions such as _jit_compiled_convolution_op while saving (showing 1 of 1). These functions will not be directly callable after loading.\n"
     ]
    },
    {
     "name": "stdout",
     "output_type": "stream",
     "text": [
      "INFO:tensorflow:Assets written to: model_experiments\\model_4_conv1D\\assets\n"
     ]
    },
    {
     "name": "stderr",
     "output_type": "stream",
     "text": [
      "INFO:tensorflow:Assets written to: model_experiments\\model_4_conv1D\\assets\n"
     ]
    },
    {
     "name": "stdout",
     "output_type": "stream",
     "text": [
      "18/18 [==============================] - 1s 54ms/step - loss: 177.9125 - val_loss: 986.4636\n",
      "Epoch 12/100\n",
      "18/18 [==============================] - 0s 7ms/step - loss: 177.0196 - val_loss: 1027.5632\n",
      "Epoch 13/100\n",
      "18/18 [==============================] - 0s 8ms/step - loss: 173.0899 - val_loss: 998.0865\n",
      "Epoch 14/100\n",
      "12/18 [===================>..........] - ETA: 0s - loss: 164.1840"
     ]
    },
    {
     "name": "stderr",
     "output_type": "stream",
     "text": [
      "WARNING:absl:Found untraced functions such as _jit_compiled_convolution_op while saving (showing 1 of 1). These functions will not be directly callable after loading.\n"
     ]
    },
    {
     "name": "stdout",
     "output_type": "stream",
     "text": [
      "INFO:tensorflow:Assets written to: model_experiments\\model_4_conv1D\\assets\n"
     ]
    },
    {
     "name": "stderr",
     "output_type": "stream",
     "text": [
      "INFO:tensorflow:Assets written to: model_experiments\\model_4_conv1D\\assets\n"
     ]
    },
    {
     "name": "stdout",
     "output_type": "stream",
     "text": [
      "18/18 [==============================] - 1s 62ms/step - loss: 169.1068 - val_loss: 957.6586\n",
      "Epoch 15/100\n",
      "10/18 [===============>..............] - ETA: 0s - loss: 166.0920"
     ]
    },
    {
     "name": "stderr",
     "output_type": "stream",
     "text": [
      "WARNING:absl:Found untraced functions such as _jit_compiled_convolution_op while saving (showing 1 of 1). These functions will not be directly callable after loading.\n"
     ]
    },
    {
     "name": "stdout",
     "output_type": "stream",
     "text": [
      "INFO:tensorflow:Assets written to: model_experiments\\model_4_conv1D\\assets\n"
     ]
    },
    {
     "name": "stderr",
     "output_type": "stream",
     "text": [
      "INFO:tensorflow:Assets written to: model_experiments\\model_4_conv1D\\assets\n"
     ]
    },
    {
     "name": "stdout",
     "output_type": "stream",
     "text": [
      "18/18 [==============================] - 1s 53ms/step - loss: 168.9441 - val_loss: 951.0868\n",
      "Epoch 16/100\n",
      "10/18 [===============>..............] - ETA: 0s - loss: 163.3472"
     ]
    },
    {
     "name": "stderr",
     "output_type": "stream",
     "text": [
      "WARNING:absl:Found untraced functions such as _jit_compiled_convolution_op while saving (showing 1 of 1). These functions will not be directly callable after loading.\n"
     ]
    },
    {
     "name": "stdout",
     "output_type": "stream",
     "text": [
      "INFO:tensorflow:Assets written to: model_experiments\\model_4_conv1D\\assets\n"
     ]
    },
    {
     "name": "stderr",
     "output_type": "stream",
     "text": [
      "INFO:tensorflow:Assets written to: model_experiments\\model_4_conv1D\\assets\n"
     ]
    },
    {
     "name": "stdout",
     "output_type": "stream",
     "text": [
      "18/18 [==============================] - 1s 54ms/step - loss: 162.9818 - val_loss: 910.6179\n",
      "Epoch 17/100\n",
      "18/18 [==============================] - 0s 9ms/step - loss: 159.8224 - val_loss: 950.2710\n",
      "Epoch 18/100\n",
      "18/18 [==============================] - 0s 7ms/step - loss: 158.4490 - val_loss: 932.6097\n",
      "Epoch 19/100\n",
      "10/18 [===============>..............] - ETA: 0s - loss: 155.6641"
     ]
    },
    {
     "name": "stderr",
     "output_type": "stream",
     "text": [
      "WARNING:absl:Found untraced functions such as _jit_compiled_convolution_op while saving (showing 1 of 1). These functions will not be directly callable after loading.\n"
     ]
    },
    {
     "name": "stdout",
     "output_type": "stream",
     "text": [
      "INFO:tensorflow:Assets written to: model_experiments\\model_4_conv1D\\assets\n"
     ]
    },
    {
     "name": "stderr",
     "output_type": "stream",
     "text": [
      "INFO:tensorflow:Assets written to: model_experiments\\model_4_conv1D\\assets\n"
     ]
    },
    {
     "name": "stdout",
     "output_type": "stream",
     "text": [
      "18/18 [==============================] - 1s 42ms/step - loss: 155.9717 - val_loss: 865.1636\n",
      "Epoch 20/100\n",
      "14/18 [======================>.......] - ETA: 0s - loss: 155.1942"
     ]
    },
    {
     "name": "stderr",
     "output_type": "stream",
     "text": [
      "WARNING:absl:Found untraced functions such as _jit_compiled_convolution_op while saving (showing 1 of 1). These functions will not be directly callable after loading.\n"
     ]
    },
    {
     "name": "stdout",
     "output_type": "stream",
     "text": [
      "INFO:tensorflow:Assets written to: model_experiments\\model_4_conv1D\\assets\n"
     ]
    },
    {
     "name": "stderr",
     "output_type": "stream",
     "text": [
      "INFO:tensorflow:Assets written to: model_experiments\\model_4_conv1D\\assets\n"
     ]
    },
    {
     "name": "stdout",
     "output_type": "stream",
     "text": [
      "18/18 [==============================] - 1s 41ms/step - loss: 152.4890 - val_loss: 851.0286\n",
      "Epoch 21/100\n",
      "10/18 [===============>..............] - ETA: 0s - loss: 159.1158"
     ]
    },
    {
     "name": "stderr",
     "output_type": "stream",
     "text": [
      "WARNING:absl:Found untraced functions such as _jit_compiled_convolution_op while saving (showing 1 of 1). These functions will not be directly callable after loading.\n"
     ]
    },
    {
     "name": "stdout",
     "output_type": "stream",
     "text": [
      "INFO:tensorflow:Assets written to: model_experiments\\model_4_conv1D\\assets\n"
     ]
    },
    {
     "name": "stderr",
     "output_type": "stream",
     "text": [
      "INFO:tensorflow:Assets written to: model_experiments\\model_4_conv1D\\assets\n"
     ]
    },
    {
     "name": "stdout",
     "output_type": "stream",
     "text": [
      "18/18 [==============================] - 1s 42ms/step - loss: 150.2419 - val_loss: 823.7583\n",
      "Epoch 22/100\n",
      "16/18 [=========================>....] - ETA: 0s - loss: 149.0134"
     ]
    },
    {
     "name": "stderr",
     "output_type": "stream",
     "text": [
      "WARNING:absl:Found untraced functions such as _jit_compiled_convolution_op while saving (showing 1 of 1). These functions will not be directly callable after loading.\n"
     ]
    },
    {
     "name": "stdout",
     "output_type": "stream",
     "text": [
      "INFO:tensorflow:Assets written to: model_experiments\\model_4_conv1D\\assets\n"
     ]
    },
    {
     "name": "stderr",
     "output_type": "stream",
     "text": [
      "INFO:tensorflow:Assets written to: model_experiments\\model_4_conv1D\\assets\n"
     ]
    },
    {
     "name": "stdout",
     "output_type": "stream",
     "text": [
      "18/18 [==============================] - 1s 59ms/step - loss: 146.5942 - val_loss: 817.5502\n",
      "Epoch 23/100\n",
      "15/18 [========================>.....] - ETA: 0s - loss: 143.0672"
     ]
    },
    {
     "name": "stderr",
     "output_type": "stream",
     "text": [
      "WARNING:absl:Found untraced functions such as _jit_compiled_convolution_op while saving (showing 1 of 1). These functions will not be directly callable after loading.\n"
     ]
    },
    {
     "name": "stdout",
     "output_type": "stream",
     "text": [
      "INFO:tensorflow:Assets written to: model_experiments\\model_4_conv1D\\assets\n"
     ]
    },
    {
     "name": "stderr",
     "output_type": "stream",
     "text": [
      "INFO:tensorflow:Assets written to: model_experiments\\model_4_conv1D\\assets\n"
     ]
    },
    {
     "name": "stdout",
     "output_type": "stream",
     "text": [
      "18/18 [==============================] - 1s 45ms/step - loss: 143.0213 - val_loss: 815.2191\n",
      "Epoch 24/100\n",
      "13/18 [====================>.........] - ETA: 0s - loss: 140.5427"
     ]
    },
    {
     "name": "stderr",
     "output_type": "stream",
     "text": [
      "WARNING:absl:Found untraced functions such as _jit_compiled_convolution_op while saving (showing 1 of 1). These functions will not be directly callable after loading.\n"
     ]
    },
    {
     "name": "stdout",
     "output_type": "stream",
     "text": [
      "INFO:tensorflow:Assets written to: model_experiments\\model_4_conv1D\\assets\n"
     ]
    },
    {
     "name": "stderr",
     "output_type": "stream",
     "text": [
      "INFO:tensorflow:Assets written to: model_experiments\\model_4_conv1D\\assets\n"
     ]
    },
    {
     "name": "stdout",
     "output_type": "stream",
     "text": [
      "18/18 [==============================] - 1s 41ms/step - loss: 142.4472 - val_loss: 811.6649\n",
      "Epoch 25/100\n",
      "12/18 [===================>..........] - ETA: 0s - loss: 145.0165"
     ]
    },
    {
     "name": "stderr",
     "output_type": "stream",
     "text": [
      "WARNING:absl:Found untraced functions such as _jit_compiled_convolution_op while saving (showing 1 of 1). These functions will not be directly callable after loading.\n"
     ]
    },
    {
     "name": "stdout",
     "output_type": "stream",
     "text": [
      "INFO:tensorflow:Assets written to: model_experiments\\model_4_conv1D\\assets\n"
     ]
    },
    {
     "name": "stderr",
     "output_type": "stream",
     "text": [
      "INFO:tensorflow:Assets written to: model_experiments\\model_4_conv1D\\assets\n"
     ]
    },
    {
     "name": "stdout",
     "output_type": "stream",
     "text": [
      "18/18 [==============================] - 1s 38ms/step - loss: 138.6825 - val_loss: 773.2653\n",
      "Epoch 26/100\n",
      "16/18 [=========================>....] - ETA: 0s - loss: 137.9314"
     ]
    },
    {
     "name": "stderr",
     "output_type": "stream",
     "text": [
      "WARNING:absl:Found untraced functions such as _jit_compiled_convolution_op while saving (showing 1 of 1). These functions will not be directly callable after loading.\n"
     ]
    },
    {
     "name": "stdout",
     "output_type": "stream",
     "text": [
      "INFO:tensorflow:Assets written to: model_experiments\\model_4_conv1D\\assets\n"
     ]
    },
    {
     "name": "stderr",
     "output_type": "stream",
     "text": [
      "INFO:tensorflow:Assets written to: model_experiments\\model_4_conv1D\\assets\n"
     ]
    },
    {
     "name": "stdout",
     "output_type": "stream",
     "text": [
      "18/18 [==============================] - 1s 44ms/step - loss: 136.4112 - val_loss: 747.6426\n",
      "Epoch 27/100\n",
      "10/18 [===============>..............] - ETA: 0s - loss: 138.6364"
     ]
    },
    {
     "name": "stderr",
     "output_type": "stream",
     "text": [
      "WARNING:absl:Found untraced functions such as _jit_compiled_convolution_op while saving (showing 1 of 1). These functions will not be directly callable after loading.\n"
     ]
    },
    {
     "name": "stdout",
     "output_type": "stream",
     "text": [
      "INFO:tensorflow:Assets written to: model_experiments\\model_4_conv1D\\assets\n"
     ]
    },
    {
     "name": "stderr",
     "output_type": "stream",
     "text": [
      "INFO:tensorflow:Assets written to: model_experiments\\model_4_conv1D\\assets\n"
     ]
    },
    {
     "name": "stdout",
     "output_type": "stream",
     "text": [
      "18/18 [==============================] - 1s 55ms/step - loss: 135.5997 - val_loss: 736.6955\n",
      "Epoch 28/100\n",
      "12/18 [===================>..........] - ETA: 0s - loss: 131.6787"
     ]
    },
    {
     "name": "stderr",
     "output_type": "stream",
     "text": [
      "WARNING:absl:Found untraced functions such as _jit_compiled_convolution_op while saving (showing 1 of 1). These functions will not be directly callable after loading.\n"
     ]
    },
    {
     "name": "stdout",
     "output_type": "stream",
     "text": [
      "INFO:tensorflow:Assets written to: model_experiments\\model_4_conv1D\\assets\n"
     ]
    },
    {
     "name": "stderr",
     "output_type": "stream",
     "text": [
      "INFO:tensorflow:Assets written to: model_experiments\\model_4_conv1D\\assets\n"
     ]
    },
    {
     "name": "stdout",
     "output_type": "stream",
     "text": [
      "18/18 [==============================] - 1s 40ms/step - loss: 131.8269 - val_loss: 729.3217\n",
      "Epoch 29/100\n",
      "16/18 [=========================>....] - ETA: 0s - loss: 129.4232"
     ]
    },
    {
     "name": "stderr",
     "output_type": "stream",
     "text": [
      "WARNING:absl:Found untraced functions such as _jit_compiled_convolution_op while saving (showing 1 of 1). These functions will not be directly callable after loading.\n"
     ]
    },
    {
     "name": "stdout",
     "output_type": "stream",
     "text": [
      "INFO:tensorflow:Assets written to: model_experiments\\model_4_conv1D\\assets\n"
     ]
    },
    {
     "name": "stderr",
     "output_type": "stream",
     "text": [
      "INFO:tensorflow:Assets written to: model_experiments\\model_4_conv1D\\assets\n"
     ]
    },
    {
     "name": "stdout",
     "output_type": "stream",
     "text": [
      "18/18 [==============================] - 1s 45ms/step - loss: 130.4352 - val_loss: 715.5737\n",
      "Epoch 30/100\n",
      "18/18 [==============================] - 0s 8ms/step - loss: 132.4180 - val_loss: 827.3418\n",
      "Epoch 31/100\n",
      "18/18 [==============================] - 0s 7ms/step - loss: 144.1670 - val_loss: 841.3746\n",
      "Epoch 32/100\n",
      "12/18 [===================>..........] - ETA: 0s - loss: 141.2756"
     ]
    },
    {
     "name": "stderr",
     "output_type": "stream",
     "text": [
      "WARNING:absl:Found untraced functions such as _jit_compiled_convolution_op while saving (showing 1 of 1). These functions will not be directly callable after loading.\n"
     ]
    },
    {
     "name": "stdout",
     "output_type": "stream",
     "text": [
      "INFO:tensorflow:Assets written to: model_experiments\\model_4_conv1D\\assets\n"
     ]
    },
    {
     "name": "stderr",
     "output_type": "stream",
     "text": [
      "INFO:tensorflow:Assets written to: model_experiments\\model_4_conv1D\\assets\n"
     ]
    },
    {
     "name": "stdout",
     "output_type": "stream",
     "text": [
      "18/18 [==============================] - 1s 46ms/step - loss: 136.0106 - val_loss: 699.7341\n",
      "Epoch 33/100\n",
      "18/18 [==============================] - 0s 10ms/step - loss: 127.9241 - val_loss: 703.1788\n",
      "Epoch 34/100\n",
      "10/18 [===============>..............] - ETA: 0s - loss: 127.1697"
     ]
    },
    {
     "name": "stderr",
     "output_type": "stream",
     "text": [
      "WARNING:absl:Found untraced functions such as _jit_compiled_convolution_op while saving (showing 1 of 1). These functions will not be directly callable after loading.\n"
     ]
    },
    {
     "name": "stdout",
     "output_type": "stream",
     "text": [
      "INFO:tensorflow:Assets written to: model_experiments\\model_4_conv1D\\assets\n"
     ]
    },
    {
     "name": "stderr",
     "output_type": "stream",
     "text": [
      "INFO:tensorflow:Assets written to: model_experiments\\model_4_conv1D\\assets\n"
     ]
    },
    {
     "name": "stdout",
     "output_type": "stream",
     "text": [
      "18/18 [==============================] - 1s 55ms/step - loss: 124.6079 - val_loss: 687.4135\n",
      "Epoch 35/100\n",
      "10/18 [===============>..............] - ETA: 0s - loss: 122.1687"
     ]
    },
    {
     "name": "stderr",
     "output_type": "stream",
     "text": [
      "WARNING:absl:Found untraced functions such as _jit_compiled_convolution_op while saving (showing 1 of 1). These functions will not be directly callable after loading.\n"
     ]
    },
    {
     "name": "stdout",
     "output_type": "stream",
     "text": [
      "INFO:tensorflow:Assets written to: model_experiments\\model_4_conv1D\\assets\n"
     ]
    },
    {
     "name": "stderr",
     "output_type": "stream",
     "text": [
      "INFO:tensorflow:Assets written to: model_experiments\\model_4_conv1D\\assets\n"
     ]
    },
    {
     "name": "stdout",
     "output_type": "stream",
     "text": [
      "18/18 [==============================] - 1s 43ms/step - loss: 122.7475 - val_loss: 679.9236\n",
      "Epoch 36/100\n",
      "18/18 [==============================] - 0s 10ms/step - loss: 125.2610 - val_loss: 723.9998\n",
      "Epoch 37/100\n",
      "13/18 [====================>.........] - ETA: 0s - loss: 124.3294"
     ]
    },
    {
     "name": "stderr",
     "output_type": "stream",
     "text": [
      "WARNING:absl:Found untraced functions such as _jit_compiled_convolution_op while saving (showing 1 of 1). These functions will not be directly callable after loading.\n"
     ]
    },
    {
     "name": "stdout",
     "output_type": "stream",
     "text": [
      "INFO:tensorflow:Assets written to: model_experiments\\model_4_conv1D\\assets\n"
     ]
    },
    {
     "name": "stderr",
     "output_type": "stream",
     "text": [
      "INFO:tensorflow:Assets written to: model_experiments\\model_4_conv1D\\assets\n"
     ]
    },
    {
     "name": "stdout",
     "output_type": "stream",
     "text": [
      "18/18 [==============================] - 1s 40ms/step - loss: 123.2823 - val_loss: 657.9590\n",
      "Epoch 38/100\n",
      "13/18 [====================>.........] - ETA: 0s - loss: 124.1883"
     ]
    },
    {
     "name": "stderr",
     "output_type": "stream",
     "text": [
      "WARNING:absl:Found untraced functions such as _jit_compiled_convolution_op while saving (showing 1 of 1). These functions will not be directly callable after loading.\n"
     ]
    },
    {
     "name": "stdout",
     "output_type": "stream",
     "text": [
      "INFO:tensorflow:Assets written to: model_experiments\\model_4_conv1D\\assets\n"
     ]
    },
    {
     "name": "stderr",
     "output_type": "stream",
     "text": [
      "INFO:tensorflow:Assets written to: model_experiments\\model_4_conv1D\\assets\n"
     ]
    },
    {
     "name": "stdout",
     "output_type": "stream",
     "text": [
      "18/18 [==============================] - 1s 38ms/step - loss: 121.4682 - val_loss: 653.3034\n",
      "Epoch 39/100\n",
      "18/18 [==============================] - 0s 7ms/step - loss: 121.0963 - val_loss: 677.5060\n",
      "Epoch 40/100\n",
      "14/18 [======================>.......] - ETA: 0s - loss: 119.8153"
     ]
    },
    {
     "name": "stderr",
     "output_type": "stream",
     "text": [
      "WARNING:absl:Found untraced functions such as _jit_compiled_convolution_op while saving (showing 1 of 1). These functions will not be directly callable after loading.\n"
     ]
    },
    {
     "name": "stdout",
     "output_type": "stream",
     "text": [
      "INFO:tensorflow:Assets written to: model_experiments\\model_4_conv1D\\assets\n"
     ]
    },
    {
     "name": "stderr",
     "output_type": "stream",
     "text": [
      "INFO:tensorflow:Assets written to: model_experiments\\model_4_conv1D\\assets\n"
     ]
    },
    {
     "name": "stdout",
     "output_type": "stream",
     "text": [
      "18/18 [==============================] - 1s 37ms/step - loss: 118.3144 - val_loss: 649.8810\n",
      "Epoch 41/100\n",
      "14/18 [======================>.......] - ETA: 0s - loss: 121.4180"
     ]
    },
    {
     "name": "stderr",
     "output_type": "stream",
     "text": [
      "WARNING:absl:Found untraced functions such as _jit_compiled_convolution_op while saving (showing 1 of 1). These functions will not be directly callable after loading.\n"
     ]
    },
    {
     "name": "stdout",
     "output_type": "stream",
     "text": [
      "INFO:tensorflow:Assets written to: model_experiments\\model_4_conv1D\\assets\n"
     ]
    },
    {
     "name": "stderr",
     "output_type": "stream",
     "text": [
      "INFO:tensorflow:Assets written to: model_experiments\\model_4_conv1D\\assets\n"
     ]
    },
    {
     "name": "stdout",
     "output_type": "stream",
     "text": [
      "18/18 [==============================] - 1s 40ms/step - loss: 118.4313 - val_loss: 635.9150\n",
      "Epoch 42/100\n",
      "13/18 [====================>.........] - ETA: 0s - loss: 120.4263"
     ]
    },
    {
     "name": "stderr",
     "output_type": "stream",
     "text": [
      "WARNING:absl:Found untraced functions such as _jit_compiled_convolution_op while saving (showing 1 of 1). These functions will not be directly callable after loading.\n"
     ]
    },
    {
     "name": "stdout",
     "output_type": "stream",
     "text": [
      "INFO:tensorflow:Assets written to: model_experiments\\model_4_conv1D\\assets\n"
     ]
    },
    {
     "name": "stderr",
     "output_type": "stream",
     "text": [
      "INFO:tensorflow:Assets written to: model_experiments\\model_4_conv1D\\assets\n"
     ]
    },
    {
     "name": "stdout",
     "output_type": "stream",
     "text": [
      "18/18 [==============================] - 1s 38ms/step - loss: 121.4736 - val_loss: 633.3147\n",
      "Epoch 43/100\n",
      "18/18 [==============================] - 0s 10ms/step - loss: 116.5272 - val_loss: 652.6730\n",
      "Epoch 44/100\n",
      "14/18 [======================>.......] - ETA: 0s - loss: 116.0042"
     ]
    },
    {
     "name": "stderr",
     "output_type": "stream",
     "text": [
      "WARNING:absl:Found untraced functions such as _jit_compiled_convolution_op while saving (showing 1 of 1). These functions will not be directly callable after loading.\n"
     ]
    },
    {
     "name": "stdout",
     "output_type": "stream",
     "text": [
      "INFO:tensorflow:Assets written to: model_experiments\\model_4_conv1D\\assets\n"
     ]
    },
    {
     "name": "stderr",
     "output_type": "stream",
     "text": [
      "INFO:tensorflow:Assets written to: model_experiments\\model_4_conv1D\\assets\n"
     ]
    },
    {
     "name": "stdout",
     "output_type": "stream",
     "text": [
      "18/18 [==============================] - 1s 46ms/step - loss: 119.4422 - val_loss: 625.1489\n",
      "Epoch 45/100\n",
      "18/18 [==============================] - 0s 7ms/step - loss: 118.1001 - val_loss: 656.5295\n",
      "Epoch 46/100\n",
      "13/18 [====================>.........] - ETA: 0s - loss: 121.1135"
     ]
    },
    {
     "name": "stderr",
     "output_type": "stream",
     "text": [
      "WARNING:absl:Found untraced functions such as _jit_compiled_convolution_op while saving (showing 1 of 1). These functions will not be directly callable after loading.\n"
     ]
    },
    {
     "name": "stdout",
     "output_type": "stream",
     "text": [
      "INFO:tensorflow:Assets written to: model_experiments\\model_4_conv1D\\assets\n"
     ]
    },
    {
     "name": "stderr",
     "output_type": "stream",
     "text": [
      "INFO:tensorflow:Assets written to: model_experiments\\model_4_conv1D\\assets\n"
     ]
    },
    {
     "name": "stdout",
     "output_type": "stream",
     "text": [
      "18/18 [==============================] - 1s 39ms/step - loss: 117.7151 - val_loss: 618.1378\n",
      "Epoch 47/100\n",
      "18/18 [==============================] - 0s 6ms/step - loss: 118.6838 - val_loss: 691.4001\n",
      "Epoch 48/100\n",
      "18/18 [==============================] - 0s 6ms/step - loss: 116.0792 - val_loss: 641.4036\n",
      "Epoch 49/100\n",
      "18/18 [==============================] - 0s 6ms/step - loss: 115.9599 - val_loss: 619.1441\n",
      "Epoch 50/100\n",
      "18/18 [==============================] - 0s 7ms/step - loss: 116.6826 - val_loss: 619.1307\n",
      "Epoch 51/100\n",
      "18/18 [==============================] - 0s 6ms/step - loss: 114.2372 - val_loss: 622.6338\n",
      "Epoch 52/100\n",
      "12/18 [===================>..........] - ETA: 0s - loss: 124.2229"
     ]
    },
    {
     "name": "stderr",
     "output_type": "stream",
     "text": [
      "WARNING:absl:Found untraced functions such as _jit_compiled_convolution_op while saving (showing 1 of 1). These functions will not be directly callable after loading.\n"
     ]
    },
    {
     "name": "stdout",
     "output_type": "stream",
     "text": [
      "INFO:tensorflow:Assets written to: model_experiments\\model_4_conv1D\\assets\n"
     ]
    },
    {
     "name": "stderr",
     "output_type": "stream",
     "text": [
      "INFO:tensorflow:Assets written to: model_experiments\\model_4_conv1D\\assets\n"
     ]
    },
    {
     "name": "stdout",
     "output_type": "stream",
     "text": [
      "18/18 [==============================] - 1s 44ms/step - loss: 116.6652 - val_loss: 609.0569\n",
      "Epoch 53/100\n",
      "18/18 [==============================] - 0s 8ms/step - loss: 115.7129 - val_loss: 623.0092\n",
      "Epoch 54/100\n",
      "18/18 [==============================] - 0s 7ms/step - loss: 114.6851 - val_loss: 614.8851\n",
      "Epoch 55/100\n",
      "18/18 [==============================] - 0s 7ms/step - loss: 114.2360 - val_loss: 610.8499\n",
      "Epoch 56/100\n",
      "18/18 [==============================] - 0s 7ms/step - loss: 115.2769 - val_loss: 732.5936\n",
      "Epoch 57/100\n",
      "18/18 [==============================] - 0s 9ms/step - loss: 133.7723 - val_loss: 640.8218\n",
      "Epoch 58/100\n",
      "18/18 [==============================] - 0s 7ms/step - loss: 122.2335 - val_loss: 662.8841\n",
      "Epoch 59/100\n",
      "15/18 [========================>.....] - ETA: 0s - loss: 112.9547"
     ]
    },
    {
     "name": "stderr",
     "output_type": "stream",
     "text": [
      "WARNING:absl:Found untraced functions such as _jit_compiled_convolution_op while saving (showing 1 of 1). These functions will not be directly callable after loading.\n"
     ]
    },
    {
     "name": "stdout",
     "output_type": "stream",
     "text": [
      "INFO:tensorflow:Assets written to: model_experiments\\model_4_conv1D\\assets\n"
     ]
    },
    {
     "name": "stderr",
     "output_type": "stream",
     "text": [
      "INFO:tensorflow:Assets written to: model_experiments\\model_4_conv1D\\assets\n"
     ]
    },
    {
     "name": "stdout",
     "output_type": "stream",
     "text": [
      "18/18 [==============================] - 1s 41ms/step - loss: 111.8640 - val_loss: 597.4777\n",
      "Epoch 60/100\n",
      "18/18 [==============================] - 0s 9ms/step - loss: 112.1637 - val_loss: 637.3141\n",
      "Epoch 61/100\n",
      "18/18 [==============================] - 0s 11ms/step - loss: 112.4486 - val_loss: 602.3150\n",
      "Epoch 62/100\n",
      "18/18 [==============================] - 0s 10ms/step - loss: 110.3270 - val_loss: 597.6085\n",
      "Epoch 63/100\n",
      "10/18 [===============>..............] - ETA: 0s - loss: 122.5684"
     ]
    },
    {
     "name": "stderr",
     "output_type": "stream",
     "text": [
      "WARNING:absl:Found untraced functions such as _jit_compiled_convolution_op while saving (showing 1 of 1). These functions will not be directly callable after loading.\n"
     ]
    },
    {
     "name": "stdout",
     "output_type": "stream",
     "text": [
      "INFO:tensorflow:Assets written to: model_experiments\\model_4_conv1D\\assets\n"
     ]
    },
    {
     "name": "stderr",
     "output_type": "stream",
     "text": [
      "INFO:tensorflow:Assets written to: model_experiments\\model_4_conv1D\\assets\n"
     ]
    },
    {
     "name": "stdout",
     "output_type": "stream",
     "text": [
      "18/18 [==============================] - 1s 41ms/step - loss: 113.5292 - val_loss: 596.5160\n",
      "Epoch 64/100\n",
      "18/18 [==============================] - 0s 8ms/step - loss: 112.1835 - val_loss: 661.0568\n",
      "Epoch 65/100\n",
      "17/18 [===========================>..] - ETA: 0s - loss: 116.0010"
     ]
    },
    {
     "name": "stderr",
     "output_type": "stream",
     "text": [
      "WARNING:absl:Found untraced functions such as _jit_compiled_convolution_op while saving (showing 1 of 1). These functions will not be directly callable after loading.\n"
     ]
    },
    {
     "name": "stdout",
     "output_type": "stream",
     "text": [
      "INFO:tensorflow:Assets written to: model_experiments\\model_4_conv1D\\assets\n"
     ]
    },
    {
     "name": "stderr",
     "output_type": "stream",
     "text": [
      "INFO:tensorflow:Assets written to: model_experiments\\model_4_conv1D\\assets\n"
     ]
    },
    {
     "name": "stdout",
     "output_type": "stream",
     "text": [
      "18/18 [==============================] - 1s 52ms/step - loss: 114.9117 - val_loss: 591.5356\n",
      "Epoch 66/100\n",
      "10/18 [===============>..............] - ETA: 0s - loss: 108.7181"
     ]
    },
    {
     "name": "stderr",
     "output_type": "stream",
     "text": [
      "WARNING:absl:Found untraced functions such as _jit_compiled_convolution_op while saving (showing 1 of 1). These functions will not be directly callable after loading.\n"
     ]
    },
    {
     "name": "stdout",
     "output_type": "stream",
     "text": [
      "INFO:tensorflow:Assets written to: model_experiments\\model_4_conv1D\\assets\n"
     ]
    },
    {
     "name": "stderr",
     "output_type": "stream",
     "text": [
      "INFO:tensorflow:Assets written to: model_experiments\\model_4_conv1D\\assets\n"
     ]
    },
    {
     "name": "stdout",
     "output_type": "stream",
     "text": [
      "18/18 [==============================] - 1s 50ms/step - loss: 112.4425 - val_loss: 588.0613\n",
      "Epoch 67/100\n",
      "18/18 [==============================] - 0s 11ms/step - loss: 109.1343 - val_loss: 635.2735\n",
      "Epoch 68/100\n",
      "18/18 [==============================] - 0s 10ms/step - loss: 115.2148 - val_loss: 730.8604\n",
      "Epoch 69/100\n",
      "18/18 [==============================] - 0s 8ms/step - loss: 130.5157 - val_loss: 694.6175\n",
      "Epoch 70/100\n",
      "11/18 [=================>............] - ETA: 0s - loss: 118.7464"
     ]
    },
    {
     "name": "stderr",
     "output_type": "stream",
     "text": [
      "WARNING:absl:Found untraced functions such as _jit_compiled_convolution_op while saving (showing 1 of 1). These functions will not be directly callable after loading.\n"
     ]
    },
    {
     "name": "stdout",
     "output_type": "stream",
     "text": [
      "INFO:tensorflow:Assets written to: model_experiments\\model_4_conv1D\\assets\n"
     ]
    },
    {
     "name": "stderr",
     "output_type": "stream",
     "text": [
      "INFO:tensorflow:Assets written to: model_experiments\\model_4_conv1D\\assets\n"
     ]
    },
    {
     "name": "stdout",
     "output_type": "stream",
     "text": [
      "18/18 [==============================] - 1s 51ms/step - loss: 117.3485 - val_loss: 582.7703\n",
      "Epoch 71/100\n",
      "18/18 [==============================] - 0s 9ms/step - loss: 111.7962 - val_loss: 605.1554\n",
      "Epoch 72/100\n",
      "10/18 [===============>..............] - ETA: 0s - loss: 111.0231"
     ]
    },
    {
     "name": "stderr",
     "output_type": "stream",
     "text": [
      "WARNING:absl:Found untraced functions such as _jit_compiled_convolution_op while saving (showing 1 of 1). These functions will not be directly callable after loading.\n"
     ]
    },
    {
     "name": "stdout",
     "output_type": "stream",
     "text": [
      "INFO:tensorflow:Assets written to: model_experiments\\model_4_conv1D\\assets\n"
     ]
    },
    {
     "name": "stderr",
     "output_type": "stream",
     "text": [
      "INFO:tensorflow:Assets written to: model_experiments\\model_4_conv1D\\assets\n"
     ]
    },
    {
     "name": "stdout",
     "output_type": "stream",
     "text": [
      "18/18 [==============================] - 1s 49ms/step - loss: 110.5302 - val_loss: 581.5661\n",
      "Epoch 73/100\n",
      "18/18 [==============================] - 0s 11ms/step - loss: 111.2924 - val_loss: 614.2628\n",
      "Epoch 74/100\n",
      "18/18 [==============================] - 0s 8ms/step - loss: 110.3729 - val_loss: 586.3537\n",
      "Epoch 75/100\n",
      "18/18 [==============================] - 0s 8ms/step - loss: 109.9528 - val_loss: 598.8422\n",
      "Epoch 76/100\n",
      "18/18 [==============================] - 0s 7ms/step - loss: 111.0880 - val_loss: 584.3826\n",
      "Epoch 77/100\n",
      "17/18 [===========================>..] - ETA: 0s - loss: 110.6435"
     ]
    },
    {
     "name": "stderr",
     "output_type": "stream",
     "text": [
      "WARNING:absl:Found untraced functions such as _jit_compiled_convolution_op while saving (showing 1 of 1). These functions will not be directly callable after loading.\n"
     ]
    },
    {
     "name": "stdout",
     "output_type": "stream",
     "text": [
      "INFO:tensorflow:Assets written to: model_experiments\\model_4_conv1D\\assets\n"
     ]
    },
    {
     "name": "stderr",
     "output_type": "stream",
     "text": [
      "INFO:tensorflow:Assets written to: model_experiments\\model_4_conv1D\\assets\n"
     ]
    },
    {
     "name": "stdout",
     "output_type": "stream",
     "text": [
      "18/18 [==============================] - 1s 50ms/step - loss: 109.7770 - val_loss: 581.2430\n",
      "Epoch 78/100\n",
      "17/18 [===========================>..] - ETA: 0s - loss: 110.3119"
     ]
    },
    {
     "name": "stderr",
     "output_type": "stream",
     "text": [
      "WARNING:absl:Found untraced functions such as _jit_compiled_convolution_op while saving (showing 1 of 1). These functions will not be directly callable after loading.\n"
     ]
    },
    {
     "name": "stdout",
     "output_type": "stream",
     "text": [
      "INFO:tensorflow:Assets written to: model_experiments\\model_4_conv1D\\assets\n"
     ]
    },
    {
     "name": "stderr",
     "output_type": "stream",
     "text": [
      "INFO:tensorflow:Assets written to: model_experiments\\model_4_conv1D\\assets\n"
     ]
    },
    {
     "name": "stdout",
     "output_type": "stream",
     "text": [
      "18/18 [==============================] - 1s 49ms/step - loss: 109.4179 - val_loss: 578.7867\n",
      "Epoch 79/100\n",
      "18/18 [==============================] - 0s 7ms/step - loss: 110.2761 - val_loss: 598.5275\n",
      "Epoch 80/100\n",
      "18/18 [==============================] - 0s 7ms/step - loss: 108.8370 - val_loss: 595.3963\n",
      "Epoch 81/100\n",
      "13/18 [====================>.........] - ETA: 0s - loss: 105.4768"
     ]
    },
    {
     "name": "stderr",
     "output_type": "stream",
     "text": [
      "WARNING:absl:Found untraced functions such as _jit_compiled_convolution_op while saving (showing 1 of 1). These functions will not be directly callable after loading.\n"
     ]
    },
    {
     "name": "stdout",
     "output_type": "stream",
     "text": [
      "INFO:tensorflow:Assets written to: model_experiments\\model_4_conv1D\\assets\n"
     ]
    },
    {
     "name": "stderr",
     "output_type": "stream",
     "text": [
      "INFO:tensorflow:Assets written to: model_experiments\\model_4_conv1D\\assets\n"
     ]
    },
    {
     "name": "stdout",
     "output_type": "stream",
     "text": [
      "18/18 [==============================] - 1s 73ms/step - loss: 108.4690 - val_loss: 575.3317\n",
      "Epoch 82/100\n",
      "18/18 [==============================] - 0s 11ms/step - loss: 115.1399 - val_loss: 575.8415\n",
      "Epoch 83/100\n",
      "18/18 [==============================] - 0s 8ms/step - loss: 112.0317 - val_loss: 684.0499\n",
      "Epoch 84/100\n",
      "18/18 [==============================] - 0s 9ms/step - loss: 116.1538 - val_loss: 584.0786\n",
      "Epoch 85/100\n",
      "18/18 [==============================] - 0s 10ms/step - loss: 109.5261 - val_loss: 575.6066\n",
      "Epoch 86/100\n",
      "18/18 [==============================] - 0s 9ms/step - loss: 109.4162 - val_loss: 614.9030\n",
      "Epoch 87/100\n",
      "11/18 [=================>............] - ETA: 0s - loss: 112.2830"
     ]
    },
    {
     "name": "stderr",
     "output_type": "stream",
     "text": [
      "WARNING:absl:Found untraced functions such as _jit_compiled_convolution_op while saving (showing 1 of 1). These functions will not be directly callable after loading.\n"
     ]
    },
    {
     "name": "stdout",
     "output_type": "stream",
     "text": [
      "INFO:tensorflow:Assets written to: model_experiments\\model_4_conv1D\\assets\n"
     ]
    },
    {
     "name": "stderr",
     "output_type": "stream",
     "text": [
      "INFO:tensorflow:Assets written to: model_experiments\\model_4_conv1D\\assets\n"
     ]
    },
    {
     "name": "stdout",
     "output_type": "stream",
     "text": [
      "18/18 [==============================] - 1s 50ms/step - loss: 109.8334 - val_loss: 573.0805\n",
      "Epoch 88/100\n",
      "18/18 [==============================] - 0s 13ms/step - loss: 108.7679 - val_loss: 605.2974\n",
      "Epoch 89/100\n",
      "18/18 [==============================] - 0s 9ms/step - loss: 110.9292 - val_loss: 581.9467\n",
      "Epoch 90/100\n",
      "18/18 [==============================] - 0s 9ms/step - loss: 107.6792 - val_loss: 637.5426\n",
      "Epoch 91/100\n",
      "18/18 [==============================] - 0s 7ms/step - loss: 113.2019 - val_loss: 615.0516\n",
      "Epoch 92/100\n",
      "18/18 [==============================] - 0s 8ms/step - loss: 110.6723 - val_loss: 581.5013\n",
      "Epoch 93/100\n",
      "18/18 [==============================] - 0s 8ms/step - loss: 114.0798 - val_loss: 612.8642\n",
      "Epoch 94/100\n",
      "18/18 [==============================] - 0s 7ms/step - loss: 109.8304 - val_loss: 579.2548\n",
      "Epoch 95/100\n",
      "13/18 [====================>.........] - ETA: 0s - loss: 107.5263"
     ]
    },
    {
     "name": "stderr",
     "output_type": "stream",
     "text": [
      "WARNING:absl:Found untraced functions such as _jit_compiled_convolution_op while saving (showing 1 of 1). These functions will not be directly callable after loading.\n"
     ]
    },
    {
     "name": "stdout",
     "output_type": "stream",
     "text": [
      "INFO:tensorflow:Assets written to: model_experiments\\model_4_conv1D\\assets\n"
     ]
    },
    {
     "name": "stderr",
     "output_type": "stream",
     "text": [
      "INFO:tensorflow:Assets written to: model_experiments\\model_4_conv1D\\assets\n"
     ]
    },
    {
     "name": "stdout",
     "output_type": "stream",
     "text": [
      "18/18 [==============================] - 1s 46ms/step - loss: 108.3462 - val_loss: 572.3138\n",
      "Epoch 96/100\n",
      "18/18 [==============================] - 0s 8ms/step - loss: 114.8912 - val_loss: 635.6722\n",
      "Epoch 97/100\n",
      "18/18 [==============================] - 0s 9ms/step - loss: 111.8816 - val_loss: 606.7851\n",
      "Epoch 98/100\n",
      "18/18 [==============================] - 0s 9ms/step - loss: 111.1247 - val_loss: 576.2915\n",
      "Epoch 99/100\n",
      "16/18 [=========================>....] - ETA: 0s - loss: 108.8019"
     ]
    },
    {
     "name": "stderr",
     "output_type": "stream",
     "text": [
      "WARNING:absl:Found untraced functions such as _jit_compiled_convolution_op while saving (showing 1 of 1). These functions will not be directly callable after loading.\n"
     ]
    },
    {
     "name": "stdout",
     "output_type": "stream",
     "text": [
      "INFO:tensorflow:Assets written to: model_experiments\\model_4_conv1D\\assets\n"
     ]
    },
    {
     "name": "stderr",
     "output_type": "stream",
     "text": [
      "INFO:tensorflow:Assets written to: model_experiments\\model_4_conv1D\\assets\n"
     ]
    },
    {
     "name": "stdout",
     "output_type": "stream",
     "text": [
      "18/18 [==============================] - 1s 50ms/step - loss: 109.7499 - val_loss: 570.7388\n",
      "Epoch 100/100\n",
      "18/18 [==============================] - 0s 7ms/step - loss: 111.0033 - val_loss: 615.6099\n"
     ]
    },
    {
     "data": {
      "text/plain": [
       "<keras.callbacks.History at 0x1aa6a1821f0>"
      ]
     },
     "execution_count": 63,
     "metadata": {},
     "output_type": "execute_result"
    }
   ],
   "source": [
    "tf.random.set_seed(42)\n",
    "\n",
    "model_4 = tf.keras.Sequential([\n",
    "    layers.Lambda(lambda x: tf.expand_dims(x, axis=1)),\n",
    "    layers.Conv1D(filters=128, kernel_size=7,\n",
    "                  padding=\"causal\", activation=\"relu\"),\n",
    "    layers.Dense(HORIZON)\n",
    "\n",
    "], name=\"model_4_conv1D\")\n",
    "\n",
    "model_4.compile(loss=\"mae\",\n",
    "                optimizer=tf.keras.optimizers.Adam())\n",
    "\n",
    "model_4.fit(train_windows,\n",
    "            train_labels,\n",
    "            epochs=100,\n",
    "            batch_size=128,\n",
    "            verbose=1,\n",
    "            validation_data=(test_windows, test_labels),\n",
    "            callbacks=[create_model_checkpoint(model_name=model_4.name)])\n"
   ]
  },
  {
   "cell_type": "code",
   "execution_count": 64,
   "metadata": {},
   "outputs": [
    {
     "name": "stdout",
     "output_type": "stream",
     "text": [
      "Model: \"model_4_conv1D\"\n",
      "_________________________________________________________________\n",
      " Layer (type)                Output Shape              Param #   \n",
      "=================================================================\n",
      " lambda_1 (Lambda)           (None, 1, 7)              0         \n",
      "                                                                 \n",
      " conv1d (Conv1D)             (None, 1, 128)            6400      \n",
      "                                                                 \n",
      " dense_6 (Dense)             (None, 1, 1)              129       \n",
      "                                                                 \n",
      "=================================================================\n",
      "Total params: 6,529\n",
      "Trainable params: 6,529\n",
      "Non-trainable params: 0\n",
      "_________________________________________________________________\n"
     ]
    }
   ],
   "source": [
    "model_4.summary()"
   ]
  },
  {
   "cell_type": "code",
   "execution_count": 65,
   "metadata": {},
   "outputs": [
    {
     "name": "stdout",
     "output_type": "stream",
     "text": [
      "18/18 [==============================] - 0s 12ms/step - loss: 615.6098\n"
     ]
    },
    {
     "data": {
      "text/plain": [
       "615.6098022460938"
      ]
     },
     "execution_count": 65,
     "metadata": {},
     "output_type": "execute_result"
    }
   ],
   "source": [
    "model_4.evaluate(test_windows,test_labels)"
   ]
  },
  {
   "cell_type": "code",
   "execution_count": 66,
   "metadata": {},
   "outputs": [
    {
     "name": "stdout",
     "output_type": "stream",
     "text": [
      "18/18 [==============================] - 0s 4ms/step - loss: 570.7387\n"
     ]
    },
    {
     "data": {
      "text/plain": [
       "570.7387084960938"
      ]
     },
     "execution_count": 66,
     "metadata": {},
     "output_type": "execute_result"
    }
   ],
   "source": [
    "model_4= tf.keras.models.load_model(\"model_experiments/model_4_conv1D/\")\n",
    "model_4.evaluate(test_windows,test_labels)"
   ]
  },
  {
   "cell_type": "code",
   "execution_count": 67,
   "metadata": {},
   "outputs": [
    {
     "name": "stdout",
     "output_type": "stream",
     "text": [
      "18/18 [==============================] - 0s 3ms/step\n"
     ]
    },
    {
     "data": {
      "text/plain": [
       "<tf.Tensor: shape=(10,), dtype=float32, numpy=\n",
       "array([8893.43 , 8788.889, 9020.291, 8796.401, 8743.089, 8764.085,\n",
       "       8680.324, 8538.85 , 8475.117, 8526.651], dtype=float32)>"
      ]
     },
     "execution_count": 67,
     "metadata": {},
     "output_type": "execute_result"
    }
   ],
   "source": [
    "model_4_preds = make_preds(model_4,test_windows)\n",
    "model_4_preds[:10]"
   ]
  },
  {
   "cell_type": "code",
   "execution_count": 68,
   "metadata": {},
   "outputs": [
    {
     "data": {
      "text/plain": [
       "{'mae': 570.7388,\n",
       " 'mse': 1183499.8,\n",
       " 'rmse': 1087.8877,\n",
       " 'mape': 2.5461202,\n",
       " 'mase': 1.00263}"
      ]
     },
     "execution_count": 68,
     "metadata": {},
     "output_type": "execute_result"
    }
   ],
   "source": [
    "model_4_results = evaluate_preds(y_true=tf.squeeze(test_labels),\n",
    "                                 y_pred=model_4_preds)\n",
    "model_4_results"
   ]
  },
  {
   "cell_type": "code",
   "execution_count": 69,
   "metadata": {},
   "outputs": [
    {
     "data": {
      "text/plain": [
       "{'mae': 568.95105,\n",
       " 'mse': 1171743.6,\n",
       " 'rmse': 1082.4711,\n",
       " 'mape': 2.5448983,\n",
       " 'mase': 0.9994894}"
      ]
     },
     "execution_count": 69,
     "metadata": {},
     "output_type": "execute_result"
    }
   ],
   "source": [
    "models_1_results"
   ]
  },
  {
   "cell_type": "code",
   "execution_count": 70,
   "metadata": {},
   "outputs": [
    {
     "name": "stdout",
     "output_type": "stream",
     "text": [
      "WARNING:tensorflow:Layer lstm will not use cuDNN kernels since it doesn't meet the criteria. It will use a generic GPU kernel as fallback when running on GPU.\n"
     ]
    },
    {
     "name": "stderr",
     "output_type": "stream",
     "text": [
      "WARNING:tensorflow:Layer lstm will not use cuDNN kernels since it doesn't meet the criteria. It will use a generic GPU kernel as fallback when running on GPU.\n"
     ]
    },
    {
     "name": "stdout",
     "output_type": "stream",
     "text": [
      "Epoch 1/100\n",
      "18/18 [==============================] - 2s 21ms/step - loss: 2323.6082 - val_loss: 9222.6523\n",
      "Epoch 2/100\n",
      "18/18 [==============================] - 0s 9ms/step - loss: 695.4739 - val_loss: 1486.0555\n",
      "Epoch 3/100\n",
      "18/18 [==============================] - 0s 9ms/step - loss: 237.3967 - val_loss: 1298.9084\n",
      "Epoch 4/100\n",
      "18/18 [==============================] - 0s 9ms/step - loss: 181.9180 - val_loss: 966.6430\n",
      "Epoch 5/100\n",
      "18/18 [==============================] - 0s 17ms/step - loss: 173.4022 - val_loss: 970.9295\n",
      "Epoch 6/100\n",
      "18/18 [==============================] - 0s 10ms/step - loss: 173.5414 - val_loss: 941.4746\n",
      "Epoch 7/100\n",
      "18/18 [==============================] - 0s 8ms/step - loss: 170.3566 - val_loss: 898.5215\n",
      "Epoch 8/100\n",
      "18/18 [==============================] - 0s 9ms/step - loss: 157.6712 - val_loss: 914.8641\n",
      "Epoch 9/100\n",
      "18/18 [==============================] - 0s 10ms/step - loss: 166.5143 - val_loss: 1079.0775\n",
      "Epoch 10/100\n",
      "18/18 [==============================] - 0s 10ms/step - loss: 162.3369 - val_loss: 877.1689\n",
      "Epoch 11/100\n",
      "18/18 [==============================] - 0s 11ms/step - loss: 163.0841 - val_loss: 924.1126\n",
      "Epoch 12/100\n",
      "18/18 [==============================] - 0s 11ms/step - loss: 168.5598 - val_loss: 941.6025\n",
      "Epoch 13/100\n",
      "18/18 [==============================] - 0s 10ms/step - loss: 166.4727 - val_loss: 934.8435\n",
      "Epoch 14/100\n",
      "18/18 [==============================] - 0s 9ms/step - loss: 163.9537 - val_loss: 920.2159\n",
      "Epoch 15/100\n",
      "18/18 [==============================] - 0s 8ms/step - loss: 152.9470 - val_loss: 856.2653\n",
      "Epoch 16/100\n",
      "18/18 [==============================] - 0s 8ms/step - loss: 147.4420 - val_loss: 898.9912\n",
      "Epoch 17/100\n",
      "18/18 [==============================] - 0s 8ms/step - loss: 151.0533 - val_loss: 943.1415\n",
      "Epoch 18/100\n",
      "18/18 [==============================] - 0s 8ms/step - loss: 157.8232 - val_loss: 924.0045\n",
      "Epoch 19/100\n",
      "18/18 [==============================] - 0s 8ms/step - loss: 155.9198 - val_loss: 911.4751\n",
      "Epoch 20/100\n",
      "18/18 [==============================] - 0s 8ms/step - loss: 155.6456 - val_loss: 862.6679\n",
      "Epoch 21/100\n",
      "18/18 [==============================] - 0s 11ms/step - loss: 153.1514 - val_loss: 862.5831\n",
      "Epoch 22/100\n",
      "18/18 [==============================] - 0s 8ms/step - loss: 151.4883 - val_loss: 863.8171\n",
      "Epoch 23/100\n",
      "18/18 [==============================] - 0s 8ms/step - loss: 150.7770 - val_loss: 886.8352\n",
      "Epoch 24/100\n",
      "18/18 [==============================] - 0s 8ms/step - loss: 148.6539 - val_loss: 861.3268\n",
      "Epoch 25/100\n",
      "18/18 [==============================] - 0s 8ms/step - loss: 146.8467 - val_loss: 845.2780\n",
      "Epoch 26/100\n",
      "18/18 [==============================] - 0s 8ms/step - loss: 145.9843 - val_loss: 818.6807\n",
      "Epoch 27/100\n",
      "18/18 [==============================] - 0s 9ms/step - loss: 144.4289 - val_loss: 804.3278\n",
      "Epoch 28/100\n",
      "18/18 [==============================] - 0s 11ms/step - loss: 142.4610 - val_loss: 789.0858\n",
      "Epoch 29/100\n",
      "18/18 [==============================] - 0s 10ms/step - loss: 141.8738 - val_loss: 806.6756\n",
      "Epoch 30/100\n",
      "18/18 [==============================] - 0s 8ms/step - loss: 142.0521 - val_loss: 794.8835\n",
      "Epoch 31/100\n",
      "18/18 [==============================] - 0s 8ms/step - loss: 138.4690 - val_loss: 773.2811\n",
      "Epoch 32/100\n",
      "18/18 [==============================] - 0s 8ms/step - loss: 137.1986 - val_loss: 772.2625\n",
      "Epoch 33/100\n",
      "18/18 [==============================] - 0s 9ms/step - loss: 135.9342 - val_loss: 786.4801\n",
      "Epoch 34/100\n",
      "18/18 [==============================] - 0s 9ms/step - loss: 136.1931 - val_loss: 744.4506\n",
      "Epoch 35/100\n",
      "18/18 [==============================] - 0s 8ms/step - loss: 133.4514 - val_loss: 756.2968\n",
      "Epoch 36/100\n",
      "18/18 [==============================] - 0s 10ms/step - loss: 134.0992 - val_loss: 735.1729\n",
      "Epoch 37/100\n",
      "18/18 [==============================] - 0s 9ms/step - loss: 130.6932 - val_loss: 745.9096\n",
      "Epoch 38/100\n",
      "18/18 [==============================] - 0s 8ms/step - loss: 129.2891 - val_loss: 717.2498\n",
      "Epoch 39/100\n",
      "18/18 [==============================] - 0s 8ms/step - loss: 129.6088 - val_loss: 719.0669\n",
      "Epoch 40/100\n",
      "18/18 [==============================] - 0s 9ms/step - loss: 129.6111 - val_loss: 732.0630\n",
      "Epoch 41/100\n",
      "18/18 [==============================] - 0s 8ms/step - loss: 127.1393 - val_loss: 702.9354\n",
      "Epoch 42/100\n",
      "18/18 [==============================] - 0s 8ms/step - loss: 125.6113 - val_loss: 700.8699\n",
      "Epoch 43/100\n",
      "18/18 [==============================] - 0s 9ms/step - loss: 125.9959 - val_loss: 704.3680\n",
      "Epoch 44/100\n",
      "18/18 [==============================] - 0s 11ms/step - loss: 125.2330 - val_loss: 719.1411\n",
      "Epoch 45/100\n",
      "18/18 [==============================] - 0s 9ms/step - loss: 129.0878 - val_loss: 687.3796\n",
      "Epoch 46/100\n",
      "18/18 [==============================] - 0s 8ms/step - loss: 124.9461 - val_loss: 706.3905\n",
      "Epoch 47/100\n",
      "18/18 [==============================] - 0s 8ms/step - loss: 126.0465 - val_loss: 678.0845\n",
      "Epoch 48/100\n",
      "18/18 [==============================] - 0s 9ms/step - loss: 123.9412 - val_loss: 677.1480\n",
      "Epoch 49/100\n",
      "18/18 [==============================] - 0s 8ms/step - loss: 123.1814 - val_loss: 700.9755\n",
      "Epoch 50/100\n",
      "18/18 [==============================] - 0s 9ms/step - loss: 125.1446 - val_loss: 725.7572\n",
      "Epoch 51/100\n",
      "18/18 [==============================] - 0s 8ms/step - loss: 125.5208 - val_loss: 780.1040\n",
      "Epoch 52/100\n",
      "18/18 [==============================] - 0s 12ms/step - loss: 123.5061 - val_loss: 663.2543\n",
      "Epoch 53/100\n",
      "18/18 [==============================] - 0s 8ms/step - loss: 120.0524 - val_loss: 665.6277\n",
      "Epoch 54/100\n",
      "18/18 [==============================] - 0s 8ms/step - loss: 120.4394 - val_loss: 658.1812\n",
      "Epoch 55/100\n",
      "18/18 [==============================] - 0s 8ms/step - loss: 118.6817 - val_loss: 650.8017\n",
      "Epoch 56/100\n",
      "18/18 [==============================] - 0s 8ms/step - loss: 120.2385 - val_loss: 646.9162\n",
      "Epoch 57/100\n",
      "18/18 [==============================] - 0s 8ms/step - loss: 123.6108 - val_loss: 676.0363\n",
      "Epoch 58/100\n",
      "18/18 [==============================] - 0s 8ms/step - loss: 118.2166 - val_loss: 642.8526\n",
      "Epoch 59/100\n",
      "18/18 [==============================] - 0s 8ms/step - loss: 117.8050 - val_loss: 644.1140\n",
      "Epoch 60/100\n",
      "18/18 [==============================] - 0s 11ms/step - loss: 118.0277 - val_loss: 640.6298\n",
      "Epoch 61/100\n",
      "18/18 [==============================] - 0s 8ms/step - loss: 117.6757 - val_loss: 674.2546\n",
      "Epoch 62/100\n",
      "18/18 [==============================] - 0s 10ms/step - loss: 120.8419 - val_loss: 736.8734\n",
      "Epoch 63/100\n",
      "18/18 [==============================] - 0s 8ms/step - loss: 122.4814 - val_loss: 641.0597\n",
      "Epoch 64/100\n",
      "18/18 [==============================] - 0s 8ms/step - loss: 115.6879 - val_loss: 665.2364\n",
      "Epoch 65/100\n",
      "18/18 [==============================] - 0s 8ms/step - loss: 117.8764 - val_loss: 629.4848\n",
      "Epoch 66/100\n",
      "18/18 [==============================] - 0s 10ms/step - loss: 115.7342 - val_loss: 627.8654\n",
      "Epoch 67/100\n",
      "18/18 [==============================] - 0s 9ms/step - loss: 116.0720 - val_loss: 624.9843\n",
      "Epoch 68/100\n",
      "18/18 [==============================] - 0s 13ms/step - loss: 115.8544 - val_loss: 626.7468\n",
      "Epoch 69/100\n",
      "18/18 [==============================] - 0s 9ms/step - loss: 119.5743 - val_loss: 623.6360\n",
      "Epoch 70/100\n",
      "18/18 [==============================] - 0s 10ms/step - loss: 115.2881 - val_loss: 623.5431\n",
      "Epoch 71/100\n",
      "18/18 [==============================] - 0s 10ms/step - loss: 114.6981 - val_loss: 640.9242\n",
      "Epoch 72/100\n",
      "18/18 [==============================] - 0s 11ms/step - loss: 117.3488 - val_loss: 621.0178\n",
      "Epoch 73/100\n",
      "18/18 [==============================] - 0s 10ms/step - loss: 114.7942 - val_loss: 629.5701\n",
      "Epoch 74/100\n",
      "18/18 [==============================] - 0s 11ms/step - loss: 115.1500 - val_loss: 626.9415\n",
      "Epoch 75/100\n",
      "18/18 [==============================] - 0s 11ms/step - loss: 115.9312 - val_loss: 662.2502\n",
      "Epoch 76/100\n",
      "18/18 [==============================] - 0s 14ms/step - loss: 115.1412 - val_loss: 620.8359\n",
      "Epoch 77/100\n",
      "18/18 [==============================] - 0s 9ms/step - loss: 117.6456 - val_loss: 668.2390\n",
      "Epoch 78/100\n",
      "18/18 [==============================] - 0s 8ms/step - loss: 117.0707 - val_loss: 628.1731\n",
      "Epoch 79/100\n",
      "18/18 [==============================] - 0s 9ms/step - loss: 113.6489 - val_loss: 610.1957\n",
      "Epoch 80/100\n",
      "18/18 [==============================] - 0s 8ms/step - loss: 113.0044 - val_loss: 624.5187\n",
      "Epoch 81/100\n",
      "18/18 [==============================] - 0s 9ms/step - loss: 113.2803 - val_loss: 632.4530\n",
      "Epoch 82/100\n",
      "18/18 [==============================] - 0s 9ms/step - loss: 115.9831 - val_loss: 607.7241\n",
      "Epoch 83/100\n",
      "18/18 [==============================] - 0s 8ms/step - loss: 113.7448 - val_loss: 622.1393\n",
      "Epoch 84/100\n",
      "18/18 [==============================] - 0s 8ms/step - loss: 114.0071 - val_loss: 619.6950\n",
      "Epoch 85/100\n",
      "18/18 [==============================] - 0s 8ms/step - loss: 114.1199 - val_loss: 640.6756\n",
      "Epoch 86/100\n",
      "18/18 [==============================] - 0s 8ms/step - loss: 115.0656 - val_loss: 613.5978\n",
      "Epoch 87/100\n",
      "18/18 [==============================] - 0s 9ms/step - loss: 112.2010 - val_loss: 607.8956\n",
      "Epoch 88/100\n",
      "18/18 [==============================] - 0s 8ms/step - loss: 112.1981 - val_loss: 601.7839\n",
      "Epoch 89/100\n",
      "18/18 [==============================] - 0s 10ms/step - loss: 112.8817 - val_loss: 647.1225\n",
      "Epoch 90/100\n",
      "18/18 [==============================] - 0s 10ms/step - loss: 118.4780 - val_loss: 660.7481\n",
      "Epoch 91/100\n",
      "18/18 [==============================] - 0s 9ms/step - loss: 118.6482 - val_loss: 685.7650\n",
      "Epoch 92/100\n",
      "18/18 [==============================] - 0s 8ms/step - loss: 114.3789 - val_loss: 622.2435\n",
      "Epoch 93/100\n",
      "18/18 [==============================] - 0s 8ms/step - loss: 113.3837 - val_loss: 599.4068\n",
      "Epoch 94/100\n",
      "18/18 [==============================] - 0s 8ms/step - loss: 111.0267 - val_loss: 600.6318\n",
      "Epoch 95/100\n",
      "18/18 [==============================] - 0s 8ms/step - loss: 111.1373 - val_loss: 597.5020\n",
      "Epoch 96/100\n",
      "18/18 [==============================] - 0s 8ms/step - loss: 111.1646 - val_loss: 603.2917\n",
      "Epoch 97/100\n",
      "18/18 [==============================] - 0s 10ms/step - loss: 111.7010 - val_loss: 618.8985\n",
      "Epoch 98/100\n",
      "18/18 [==============================] - 0s 10ms/step - loss: 111.8481 - val_loss: 598.4055\n",
      "Epoch 99/100\n",
      "18/18 [==============================] - 0s 8ms/step - loss: 110.7292 - val_loss: 596.6447\n",
      "Epoch 100/100\n",
      "18/18 [==============================] - 0s 9ms/step - loss: 112.5656 - val_loss: 597.1186\n"
     ]
    },
    {
     "data": {
      "text/plain": [
       "<keras.callbacks.History at 0x1aa6a1b9b80>"
      ]
     },
     "execution_count": 70,
     "metadata": {},
     "output_type": "execute_result"
    }
   ],
   "source": [
    "tf.random.set_seed(42)\n",
    "\n",
    "inputs = layers.Input(shape=(WINDOW_SIZE))\n",
    "x = layers.Lambda(lambda x: tf.expand_dims(x, axis=1))(inputs)\n",
    "# x = layers.LSTM(128, return_sequences=True)(x)\n",
    "x = layers.LSTM(128,activation=\"relu\")(x)\n",
    "# x=layers.\n",
    "output = layers.Dense(HORIZON)(x)\n",
    "model_5 = tf.keras.Model(inputs=inputs, outputs=output, name=\"model_5_LSTM\")\n",
    "\n",
    "model_5.compile(loss=\"mae\",\n",
    "                optimizer=tf.keras.optimizers.Adam())\n",
    "\n",
    "model_5.fit(train_windows,\n",
    "            train_labels,\n",
    "            epochs=100,\n",
    "            verbose=1,\n",
    "            batch_size=128,\n",
    "            validation_data=(test_windows,test_labels))\n"
   ]
  },
  {
   "cell_type": "code",
   "execution_count": 71,
   "metadata": {},
   "outputs": [
    {
     "name": "stdout",
     "output_type": "stream",
     "text": [
      "WARNING:tensorflow:Layer lstm_6 will not use cuDNN kernels since it doesn't meet the criteria. It will use a generic GPU kernel as fallback when running on GPU.\n"
     ]
    },
    {
     "name": "stderr",
     "output_type": "stream",
     "text": [
      "WARNING:tensorflow:Layer lstm_6 will not use cuDNN kernels since it doesn't meet the criteria. It will use a generic GPU kernel as fallback when running on GPU.\n"
     ]
    },
    {
     "name": "stdout",
     "output_type": "stream",
     "text": [
      "18/18 [==============================] - 2s 6ms/step - loss: 19694.8984\n"
     ]
    },
    {
     "data": {
      "text/plain": [
       "19694.8984375"
      ]
     },
     "execution_count": 71,
     "metadata": {},
     "output_type": "execute_result"
    }
   ],
   "source": [
    "model_5= tf.keras.models.load_model(\"model_experiments/model_5_LSTM/\")\n",
    "model_5.evaluate(test_windows,test_labels)"
   ]
  },
  {
   "cell_type": "code",
   "execution_count": 72,
   "metadata": {},
   "outputs": [
    {
     "name": "stdout",
     "output_type": "stream",
     "text": [
      "18/18 [==============================] - 1s 4ms/step\n"
     ]
    },
    {
     "data": {
      "text/plain": [
       "<tf.Tensor: shape=(5,), dtype=float32, numpy=\n",
       "array([401.49185, 401.49185, 401.49185, 401.49185, 401.49185],\n",
       "      dtype=float32)>"
      ]
     },
     "execution_count": 72,
     "metadata": {},
     "output_type": "execute_result"
    }
   ],
   "source": [
    "model_5_preds = make_preds(model_5, test_windows)\n",
    "model_5_preds[:5]"
   ]
  },
  {
   "cell_type": "code",
   "execution_count": 73,
   "metadata": {},
   "outputs": [
    {
     "data": {
      "text/plain": [
       "{'mae': 19694.9,\n",
       " 'mse': 695085060.0,\n",
       " 'rmse': 26364.465,\n",
       " 'mape': 96.632904,\n",
       " 'mase': 34.598484}"
      ]
     },
     "execution_count": 73,
     "metadata": {},
     "output_type": "execute_result"
    }
   ],
   "source": [
    "model_5_results = evaluate_preds(y_true=tf.squeeze(test_labels),\n",
    "                                 y_pred=model_5_preds)\n",
    "model_5_results\n"
   ]
  },
  {
   "cell_type": "code",
   "execution_count": 74,
   "metadata": {},
   "outputs": [],
   "source": [
    "block_reward_1= 50\n",
    "block_reward_2= 25\n",
    "block_reward_3= 12.5\n",
    "block_reward_4= 6.25\n",
    "\n",
    "block_reward_2_datetime= np.datetime64(\"2012-11-28\")\n",
    "block_reward_3_datetime= np.datetime64(\"2016-07-09\")\n",
    "block_reward_4_datetime= np.datetime64(\"2020-05-18\")"
   ]
  },
  {
   "cell_type": "code",
   "execution_count": 75,
   "metadata": {},
   "outputs": [
    {
     "data": {
      "text/plain": [
       "2421"
      ]
     },
     "execution_count": 75,
     "metadata": {},
     "output_type": "execute_result"
    }
   ],
   "source": [
    "block_reward_2_days = (block_reward_3_datetime - bitcoin_prices.index[0]).days\n",
    "block_reward_3_days = (block_reward_4_datetime-bitcoin_prices.index[0]).days\n",
    "\n",
    "block_reward_3_days\n"
   ]
  },
  {
   "cell_type": "code",
   "execution_count": 76,
   "metadata": {},
   "outputs": [
    {
     "data": {
      "text/html": [
       "<div>\n",
       "<style scoped>\n",
       "    .dataframe tbody tr th:only-of-type {\n",
       "        vertical-align: middle;\n",
       "    }\n",
       "\n",
       "    .dataframe tbody tr th {\n",
       "        vertical-align: top;\n",
       "    }\n",
       "\n",
       "    .dataframe thead th {\n",
       "        text-align: right;\n",
       "    }\n",
       "</style>\n",
       "<table border=\"1\" class=\"dataframe\">\n",
       "  <thead>\n",
       "    <tr style=\"text-align: right;\">\n",
       "      <th></th>\n",
       "      <th>Price</th>\n",
       "      <th>block_reward</th>\n",
       "    </tr>\n",
       "    <tr>\n",
       "      <th>Date</th>\n",
       "      <th></th>\n",
       "      <th></th>\n",
       "    </tr>\n",
       "  </thead>\n",
       "  <tbody>\n",
       "    <tr>\n",
       "      <th>2021-05-14</th>\n",
       "      <td>49764.132082</td>\n",
       "      <td>6.25</td>\n",
       "    </tr>\n",
       "    <tr>\n",
       "      <th>2021-05-15</th>\n",
       "      <td>50032.693137</td>\n",
       "      <td>6.25</td>\n",
       "    </tr>\n",
       "    <tr>\n",
       "      <th>2021-05-16</th>\n",
       "      <td>47885.625255</td>\n",
       "      <td>6.25</td>\n",
       "    </tr>\n",
       "    <tr>\n",
       "      <th>2021-05-17</th>\n",
       "      <td>45604.615754</td>\n",
       "      <td>6.25</td>\n",
       "    </tr>\n",
       "    <tr>\n",
       "      <th>2021-05-18</th>\n",
       "      <td>43144.471291</td>\n",
       "      <td>6.25</td>\n",
       "    </tr>\n",
       "  </tbody>\n",
       "</table>\n",
       "</div>"
      ],
      "text/plain": [
       "                   Price block_reward\n",
       "Date                                 \n",
       "2021-05-14  49764.132082         6.25\n",
       "2021-05-15  50032.693137         6.25\n",
       "2021-05-16  47885.625255         6.25\n",
       "2021-05-17  45604.615754         6.25\n",
       "2021-05-18  43144.471291         6.25"
      ]
     },
     "execution_count": 76,
     "metadata": {},
     "output_type": "execute_result"
    }
   ],
   "source": [
    "bitcoin_prices_block= bitcoin_prices.copy()\n",
    "bitcoin_prices_block[\"block_reward\"]=None\n",
    "\n",
    "bitcoin_prices_block.iloc[:block_reward_2_days,-1]=block_reward_2\n",
    "bitcoin_prices_block.iloc[block_reward_2_days:block_reward_3_days,-1]=block_reward_3\n",
    "bitcoin_prices_block.iloc[block_reward_3_days:,-1]=block_reward_4\n",
    "bitcoin_prices_block.tail()"
   ]
  },
  {
   "cell_type": "code",
   "execution_count": 77,
   "metadata": {},
   "outputs": [
    {
     "data": {
      "image/png": "[encoded data removed]",
      "text/plain": [
       "<Figure size 720x504 with 1 Axes>"
      ]
     },
     "metadata": {
      "needs_background": "light"
     },
     "output_type": "display_data"
    }
   ],
   "source": [
    "from sklearn.preprocessing import minmax_scale\n",
    "from sklearn.preprocessing import minmax_scale\n",
    "scaled_price_block_df = pd.DataFrame(minmax_scale(bitcoin_prices_block[[\"Price\", \"block_reward\"]]),  # we need to scale the data first\n",
    "                                     columns=bitcoin_prices_block.columns,\n",
    "                                     index=bitcoin_prices_block.index)\n",
    "scaled_price_block_df.plot(figsize=(10, 7));\n"
   ]
  },
  {
   "cell_type": "code",
   "execution_count": 78,
   "metadata": {},
   "outputs": [],
   "source": [
    "HORIZON=1\n",
    "WINDOW_SIZE=7"
   ]
  },
  {
   "cell_type": "code",
   "execution_count": 79,
   "metadata": {},
   "outputs": [
    {
     "data": {
      "text/html": [
       "<div>\n",
       "<style scoped>\n",
       "    .dataframe tbody tr th:only-of-type {\n",
       "        vertical-align: middle;\n",
       "    }\n",
       "\n",
       "    .dataframe tbody tr th {\n",
       "        vertical-align: top;\n",
       "    }\n",
       "\n",
       "    .dataframe thead th {\n",
       "        text-align: right;\n",
       "    }\n",
       "</style>\n",
       "<table border=\"1\" class=\"dataframe\">\n",
       "  <thead>\n",
       "    <tr style=\"text-align: right;\">\n",
       "      <th></th>\n",
       "      <th>Price</th>\n",
       "      <th>block_reward</th>\n",
       "      <th>Price + 1</th>\n",
       "      <th>Price + 2</th>\n",
       "      <th>Price + 3</th>\n",
       "      <th>Price + 4</th>\n",
       "      <th>Price + 5</th>\n",
       "      <th>Price + 6</th>\n",
       "      <th>Price + 7</th>\n",
       "    </tr>\n",
       "    <tr>\n",
       "      <th>Date</th>\n",
       "      <th></th>\n",
       "      <th></th>\n",
       "      <th></th>\n",
       "      <th></th>\n",
       "      <th></th>\n",
       "      <th></th>\n",
       "      <th></th>\n",
       "      <th></th>\n",
       "      <th></th>\n",
       "    </tr>\n",
       "  </thead>\n",
       "  <tbody>\n",
       "    <tr>\n",
       "      <th>2013-10-01</th>\n",
       "      <td>123.65499</td>\n",
       "      <td>25</td>\n",
       "      <td>NaN</td>\n",
       "      <td>NaN</td>\n",
       "      <td>NaN</td>\n",
       "      <td>NaN</td>\n",
       "      <td>NaN</td>\n",
       "      <td>NaN</td>\n",
       "      <td>NaN</td>\n",
       "    </tr>\n",
       "    <tr>\n",
       "      <th>2013-10-02</th>\n",
       "      <td>125.45500</td>\n",
       "      <td>25</td>\n",
       "      <td>123.65499</td>\n",
       "      <td>NaN</td>\n",
       "      <td>NaN</td>\n",
       "      <td>NaN</td>\n",
       "      <td>NaN</td>\n",
       "      <td>NaN</td>\n",
       "      <td>NaN</td>\n",
       "    </tr>\n",
       "    <tr>\n",
       "      <th>2013-10-03</th>\n",
       "      <td>108.58483</td>\n",
       "      <td>25</td>\n",
       "      <td>125.45500</td>\n",
       "      <td>123.65499</td>\n",
       "      <td>NaN</td>\n",
       "      <td>NaN</td>\n",
       "      <td>NaN</td>\n",
       "      <td>NaN</td>\n",
       "      <td>NaN</td>\n",
       "    </tr>\n",
       "    <tr>\n",
       "      <th>2013-10-04</th>\n",
       "      <td>118.67466</td>\n",
       "      <td>25</td>\n",
       "      <td>108.58483</td>\n",
       "      <td>125.45500</td>\n",
       "      <td>123.65499</td>\n",
       "      <td>NaN</td>\n",
       "      <td>NaN</td>\n",
       "      <td>NaN</td>\n",
       "      <td>NaN</td>\n",
       "    </tr>\n",
       "    <tr>\n",
       "      <th>2013-10-05</th>\n",
       "      <td>121.33866</td>\n",
       "      <td>25</td>\n",
       "      <td>118.67466</td>\n",
       "      <td>108.58483</td>\n",
       "      <td>125.45500</td>\n",
       "      <td>123.65499</td>\n",
       "      <td>NaN</td>\n",
       "      <td>NaN</td>\n",
       "      <td>NaN</td>\n",
       "    </tr>\n",
       "  </tbody>\n",
       "</table>\n",
       "</div>"
      ],
      "text/plain": [
       "                Price block_reward  Price + 1  Price + 2  Price + 3  \\\n",
       "Date                                                                  \n",
       "2013-10-01  123.65499           25        NaN        NaN        NaN   \n",
       "2013-10-02  125.45500           25  123.65499        NaN        NaN   \n",
       "2013-10-03  108.58483           25  125.45500  123.65499        NaN   \n",
       "2013-10-04  118.67466           25  108.58483  125.45500  123.65499   \n",
       "2013-10-05  121.33866           25  118.67466  108.58483  125.45500   \n",
       "\n",
       "            Price + 4  Price + 5  Price + 6  Price + 7  \n",
       "Date                                                    \n",
       "2013-10-01        NaN        NaN        NaN        NaN  \n",
       "2013-10-02        NaN        NaN        NaN        NaN  \n",
       "2013-10-03        NaN        NaN        NaN        NaN  \n",
       "2013-10-04        NaN        NaN        NaN        NaN  \n",
       "2013-10-05  123.65499        NaN        NaN        NaN  "
      ]
     },
     "execution_count": 79,
     "metadata": {},
     "output_type": "execute_result"
    }
   ],
   "source": [
    "bitcoin_prices_windowed= bitcoin_prices_block.copy()\n",
    "\n",
    "for i in range(WINDOW_SIZE):\n",
    "    bitcoin_prices_windowed[f\"Price + {i+1}\"] = bitcoin_prices_windowed[\"Price\"].shift(periods=i+1)\n",
    "\n",
    "bitcoin_prices_windowed.head()"
   ]
  },
  {
   "cell_type": "code",
   "execution_count": 80,
   "metadata": {},
   "outputs": [
    {
     "data": {
      "text/html": [
       "<div>\n",
       "<style scoped>\n",
       "    .dataframe tbody tr th:only-of-type {\n",
       "        vertical-align: middle;\n",
       "    }\n",
       "\n",
       "    .dataframe tbody tr th {\n",
       "        vertical-align: top;\n",
       "    }\n",
       "\n",
       "    .dataframe thead th {\n",
       "        text-align: right;\n",
       "    }\n",
       "</style>\n",
       "<table border=\"1\" class=\"dataframe\">\n",
       "  <thead>\n",
       "    <tr style=\"text-align: right;\">\n",
       "      <th></th>\n",
       "      <th>block_reward</th>\n",
       "      <th>Price + 1</th>\n",
       "      <th>Price + 2</th>\n",
       "      <th>Price + 3</th>\n",
       "      <th>Price + 4</th>\n",
       "      <th>Price + 5</th>\n",
       "      <th>Price + 6</th>\n",
       "      <th>Price + 7</th>\n",
       "    </tr>\n",
       "    <tr>\n",
       "      <th>Date</th>\n",
       "      <th></th>\n",
       "      <th></th>\n",
       "      <th></th>\n",
       "      <th></th>\n",
       "      <th></th>\n",
       "      <th></th>\n",
       "      <th></th>\n",
       "      <th></th>\n",
       "    </tr>\n",
       "  </thead>\n",
       "  <tbody>\n",
       "    <tr>\n",
       "      <th>2013-10-08</th>\n",
       "      <td>25.0</td>\n",
       "      <td>121.794998</td>\n",
       "      <td>120.655327</td>\n",
       "      <td>121.338661</td>\n",
       "      <td>118.674660</td>\n",
       "      <td>108.584831</td>\n",
       "      <td>125.455002</td>\n",
       "      <td>123.654991</td>\n",
       "    </tr>\n",
       "    <tr>\n",
       "      <th>2013-10-09</th>\n",
       "      <td>25.0</td>\n",
       "      <td>123.032997</td>\n",
       "      <td>121.794998</td>\n",
       "      <td>120.655327</td>\n",
       "      <td>121.338661</td>\n",
       "      <td>118.674660</td>\n",
       "      <td>108.584831</td>\n",
       "      <td>125.455002</td>\n",
       "    </tr>\n",
       "    <tr>\n",
       "      <th>2013-10-10</th>\n",
       "      <td>25.0</td>\n",
       "      <td>124.049004</td>\n",
       "      <td>123.032997</td>\n",
       "      <td>121.794998</td>\n",
       "      <td>120.655327</td>\n",
       "      <td>121.338661</td>\n",
       "      <td>118.674660</td>\n",
       "      <td>108.584831</td>\n",
       "    </tr>\n",
       "    <tr>\n",
       "      <th>2013-10-11</th>\n",
       "      <td>25.0</td>\n",
       "      <td>125.961159</td>\n",
       "      <td>124.049004</td>\n",
       "      <td>123.032997</td>\n",
       "      <td>121.794998</td>\n",
       "      <td>120.655327</td>\n",
       "      <td>121.338661</td>\n",
       "      <td>118.674660</td>\n",
       "    </tr>\n",
       "    <tr>\n",
       "      <th>2013-10-12</th>\n",
       "      <td>25.0</td>\n",
       "      <td>125.279663</td>\n",
       "      <td>125.961159</td>\n",
       "      <td>124.049004</td>\n",
       "      <td>123.032997</td>\n",
       "      <td>121.794998</td>\n",
       "      <td>120.655327</td>\n",
       "      <td>121.338661</td>\n",
       "    </tr>\n",
       "  </tbody>\n",
       "</table>\n",
       "</div>"
      ],
      "text/plain": [
       "            block_reward   Price + 1   Price + 2   Price + 3   Price + 4  \\\n",
       "Date                                                                       \n",
       "2013-10-08          25.0  121.794998  120.655327  121.338661  118.674660   \n",
       "2013-10-09          25.0  123.032997  121.794998  120.655327  121.338661   \n",
       "2013-10-10          25.0  124.049004  123.032997  121.794998  120.655327   \n",
       "2013-10-11          25.0  125.961159  124.049004  123.032997  121.794998   \n",
       "2013-10-12          25.0  125.279663  125.961159  124.049004  123.032997   \n",
       "\n",
       "             Price + 5   Price + 6   Price + 7  \n",
       "Date                                            \n",
       "2013-10-08  108.584831  125.455002  123.654991  \n",
       "2013-10-09  118.674660  108.584831  125.455002  \n",
       "2013-10-10  121.338661  118.674660  108.584831  \n",
       "2013-10-11  120.655327  121.338661  118.674660  \n",
       "2013-10-12  121.794998  120.655327  121.338661  "
      ]
     },
     "execution_count": 80,
     "metadata": {},
     "output_type": "execute_result"
    }
   ],
   "source": [
    "X= bitcoin_prices_windowed.dropna().drop(\"Price\",axis=1).astype(np.float32)\n",
    "y= bitcoin_prices_windowed.dropna()[\"Price\"].astype(np.float32)\n",
    "X.head()"
   ]
  },
  {
   "cell_type": "code",
   "execution_count": 81,
   "metadata": {},
   "outputs": [
    {
     "data": {
      "text/plain": [
       "(2224, 556)"
      ]
     },
     "execution_count": 81,
     "metadata": {},
     "output_type": "execute_result"
    }
   ],
   "source": [
    "split_size= int(len(X)*0.8)\n",
    "X_train,y_train = X[:split_size],y[:split_size]\n",
    "X_test, y_test = X[split_size:], y[split_size:]\n",
    "len(X_train),len(y_test)"
   ]
  },
  {
   "cell_type": "code",
   "execution_count": 82,
   "metadata": {},
   "outputs": [
    {
     "data": {
      "text/html": [
       "<div>\n",
       "<style scoped>\n",
       "    .dataframe tbody tr th:only-of-type {\n",
       "        vertical-align: middle;\n",
       "    }\n",
       "\n",
       "    .dataframe tbody tr th {\n",
       "        vertical-align: top;\n",
       "    }\n",
       "\n",
       "    .dataframe thead th {\n",
       "        text-align: right;\n",
       "    }\n",
       "</style>\n",
       "<table border=\"1\" class=\"dataframe\">\n",
       "  <thead>\n",
       "    <tr style=\"text-align: right;\">\n",
       "      <th></th>\n",
       "      <th>block_reward</th>\n",
       "      <th>Price + 1</th>\n",
       "      <th>Price + 2</th>\n",
       "      <th>Price + 3</th>\n",
       "      <th>Price + 4</th>\n",
       "      <th>Price + 5</th>\n",
       "      <th>Price + 6</th>\n",
       "      <th>Price + 7</th>\n",
       "    </tr>\n",
       "    <tr>\n",
       "      <th>Date</th>\n",
       "      <th></th>\n",
       "      <th></th>\n",
       "      <th></th>\n",
       "      <th></th>\n",
       "      <th></th>\n",
       "      <th></th>\n",
       "      <th></th>\n",
       "      <th></th>\n",
       "    </tr>\n",
       "  </thead>\n",
       "  <tbody>\n",
       "    <tr>\n",
       "      <th>2013-10-08</th>\n",
       "      <td>25.0</td>\n",
       "      <td>121.794998</td>\n",
       "      <td>120.655327</td>\n",
       "      <td>121.338661</td>\n",
       "      <td>118.674660</td>\n",
       "      <td>108.584831</td>\n",
       "      <td>125.455002</td>\n",
       "      <td>123.654991</td>\n",
       "    </tr>\n",
       "    <tr>\n",
       "      <th>2013-10-09</th>\n",
       "      <td>25.0</td>\n",
       "      <td>123.032997</td>\n",
       "      <td>121.794998</td>\n",
       "      <td>120.655327</td>\n",
       "      <td>121.338661</td>\n",
       "      <td>118.674660</td>\n",
       "      <td>108.584831</td>\n",
       "      <td>125.455002</td>\n",
       "    </tr>\n",
       "    <tr>\n",
       "      <th>2013-10-10</th>\n",
       "      <td>25.0</td>\n",
       "      <td>124.049004</td>\n",
       "      <td>123.032997</td>\n",
       "      <td>121.794998</td>\n",
       "      <td>120.655327</td>\n",
       "      <td>121.338661</td>\n",
       "      <td>118.674660</td>\n",
       "      <td>108.584831</td>\n",
       "    </tr>\n",
       "    <tr>\n",
       "      <th>2013-10-11</th>\n",
       "      <td>25.0</td>\n",
       "      <td>125.961159</td>\n",
       "      <td>124.049004</td>\n",
       "      <td>123.032997</td>\n",
       "      <td>121.794998</td>\n",
       "      <td>120.655327</td>\n",
       "      <td>121.338661</td>\n",
       "      <td>118.674660</td>\n",
       "    </tr>\n",
       "    <tr>\n",
       "      <th>2013-10-12</th>\n",
       "      <td>25.0</td>\n",
       "      <td>125.279663</td>\n",
       "      <td>125.961159</td>\n",
       "      <td>124.049004</td>\n",
       "      <td>123.032997</td>\n",
       "      <td>121.794998</td>\n",
       "      <td>120.655327</td>\n",
       "      <td>121.338661</td>\n",
       "    </tr>\n",
       "  </tbody>\n",
       "</table>\n",
       "</div>"
      ],
      "text/plain": [
       "            block_reward   Price + 1   Price + 2   Price + 3   Price + 4  \\\n",
       "Date                                                                       \n",
       "2013-10-08          25.0  121.794998  120.655327  121.338661  118.674660   \n",
       "2013-10-09          25.0  123.032997  121.794998  120.655327  121.338661   \n",
       "2013-10-10          25.0  124.049004  123.032997  121.794998  120.655327   \n",
       "2013-10-11          25.0  125.961159  124.049004  123.032997  121.794998   \n",
       "2013-10-12          25.0  125.279663  125.961159  124.049004  123.032997   \n",
       "\n",
       "             Price + 5   Price + 6   Price + 7  \n",
       "Date                                            \n",
       "2013-10-08  108.584831  125.455002  123.654991  \n",
       "2013-10-09  118.674660  108.584831  125.455002  \n",
       "2013-10-10  121.338661  118.674660  108.584831  \n",
       "2013-10-11  120.655327  121.338661  118.674660  \n",
       "2013-10-12  121.794998  120.655327  121.338661  "
      ]
     },
     "execution_count": 82,
     "metadata": {},
     "output_type": "execute_result"
    }
   ],
   "source": [
    "X_train.head()"
   ]
  },
  {
   "cell_type": "code",
   "execution_count": 83,
   "metadata": {},
   "outputs": [
    {
     "name": "stdout",
     "output_type": "stream",
     "text": [
      "Epoch 1/100\n",
      "14/18 [======================>.......] - ETA: 0s - loss: 813.5538 INFO:tensorflow:Assets written to: model_experiments\\model_6_dense_multivariate\\assets\n"
     ]
    },
    {
     "name": "stderr",
     "output_type": "stream",
     "text": [
      "INFO:tensorflow:Assets written to: model_experiments\\model_6_dense_multivariate\\assets\n"
     ]
    },
    {
     "name": "stdout",
     "output_type": "stream",
     "text": [
      "18/18 [==============================] - 1s 41ms/step - loss: 708.7571 - val_loss: 2263.3035\n",
      "Epoch 2/100\n",
      "10/18 [===============>..............] - ETA: 0s - loss: 234.4329INFO:tensorflow:Assets written to: model_experiments\\model_6_dense_multivariate\\assets\n"
     ]
    },
    {
     "name": "stderr",
     "output_type": "stream",
     "text": [
      "INFO:tensorflow:Assets written to: model_experiments\\model_6_dense_multivariate\\assets\n"
     ]
    },
    {
     "name": "stdout",
     "output_type": "stream",
     "text": [
      "18/18 [==============================] - 1s 39ms/step - loss: 209.3599 - val_loss: 882.9350\n",
      "Epoch 3/100\n",
      "14/18 [======================>.......] - ETA: 0s - loss: 158.7038INFO:tensorflow:Assets written to: model_experiments\\model_6_dense_multivariate\\assets\n"
     ]
    },
    {
     "name": "stderr",
     "output_type": "stream",
     "text": [
      "INFO:tensorflow:Assets written to: model_experiments\\model_6_dense_multivariate\\assets\n"
     ]
    },
    {
     "name": "stdout",
     "output_type": "stream",
     "text": [
      "18/18 [==============================] - 1s 42ms/step - loss: 155.8662 - val_loss: 819.8378\n",
      "Epoch 4/100\n",
      "10/18 [===============>..............] - ETA: 0s - loss: 159.7892INFO:tensorflow:Assets written to: model_experiments\\model_6_dense_multivariate\\assets\n"
     ]
    },
    {
     "name": "stderr",
     "output_type": "stream",
     "text": [
      "INFO:tensorflow:Assets written to: model_experiments\\model_6_dense_multivariate\\assets\n"
     ]
    },
    {
     "name": "stdout",
     "output_type": "stream",
     "text": [
      "18/18 [==============================] - 1s 42ms/step - loss: 146.5632 - val_loss: 799.7484\n",
      "Epoch 5/100\n",
      "15/18 [========================>.....] - ETA: 0s - loss: 134.0419INFO:tensorflow:Assets written to: model_experiments\\model_6_dense_multivariate\\assets\n"
     ]
    },
    {
     "name": "stderr",
     "output_type": "stream",
     "text": [
      "INFO:tensorflow:Assets written to: model_experiments\\model_6_dense_multivariate\\assets\n"
     ]
    },
    {
     "name": "stdout",
     "output_type": "stream",
     "text": [
      "18/18 [==============================] - 1s 50ms/step - loss: 132.3965 - val_loss: 693.0831\n",
      "Epoch 6/100\n",
      "14/18 [======================>.......] - ETA: 0s - loss: 123.0042INFO:tensorflow:Assets written to: model_experiments\\model_6_dense_multivariate\\assets\n"
     ]
    },
    {
     "name": "stderr",
     "output_type": "stream",
     "text": [
      "INFO:tensorflow:Assets written to: model_experiments\\model_6_dense_multivariate\\assets\n"
     ]
    },
    {
     "name": "stdout",
     "output_type": "stream",
     "text": [
      "18/18 [==============================] - 1s 37ms/step - loss: 125.7849 - val_loss: 659.4670\n",
      "Epoch 7/100\n",
      "18/18 [==============================] - 0s 7ms/step - loss: 122.0054 - val_loss: 715.4888\n",
      "Epoch 8/100\n",
      "14/18 [======================>.......] - ETA: 0s - loss: 119.7870INFO:tensorflow:Assets written to: model_experiments\\model_6_dense_multivariate\\assets\n"
     ]
    },
    {
     "name": "stderr",
     "output_type": "stream",
     "text": [
      "INFO:tensorflow:Assets written to: model_experiments\\model_6_dense_multivariate\\assets\n"
     ]
    },
    {
     "name": "stdout",
     "output_type": "stream",
     "text": [
      "18/18 [==============================] - 1s 36ms/step - loss: 120.0701 - val_loss: 636.3212\n",
      "Epoch 9/100\n",
      "18/18 [==============================] - 0s 6ms/step - loss: 118.8690 - val_loss: 813.5287\n",
      "Epoch 10/100\n",
      "18/18 [==============================] - 0s 6ms/step - loss: 142.6461 - val_loss: 798.1339\n",
      "Epoch 11/100\n",
      "18/18 [==============================] - 0s 6ms/step - loss: 132.8748 - val_loss: 954.1594\n",
      "Epoch 12/100\n",
      "18/18 [==============================] - 0s 11ms/step - loss: 141.3553 - val_loss: 760.2547\n",
      "Epoch 13/100\n",
      "18/18 [==============================] - 0s 6ms/step - loss: 121.1712 - val_loss: 744.8667\n",
      "Epoch 14/100\n",
      "18/18 [==============================] - 0s 7ms/step - loss: 118.9032 - val_loss: 676.4731\n",
      "Epoch 15/100\n",
      "18/18 [==============================] - 0s 9ms/step - loss: 128.2026 - val_loss: 650.1197\n",
      "Epoch 16/100\n",
      "10/18 [===============>..............] - ETA: 0s - loss: 117.9232INFO:tensorflow:Assets written to: model_experiments\\model_6_dense_multivariate\\assets\n"
     ]
    },
    {
     "name": "stderr",
     "output_type": "stream",
     "text": [
      "INFO:tensorflow:Assets written to: model_experiments\\model_6_dense_multivariate\\assets\n"
     ]
    },
    {
     "name": "stdout",
     "output_type": "stream",
     "text": [
      "18/18 [==============================] - 1s 48ms/step - loss: 120.1517 - val_loss: 607.5733\n",
      "Epoch 17/100\n",
      "18/18 [==============================] - 0s 7ms/step - loss: 112.3910 - val_loss: 613.7139\n",
      "Epoch 18/100\n",
      "13/18 [====================>.........] - ETA: 0s - loss: 118.0961INFO:tensorflow:Assets written to: model_experiments\\model_6_dense_multivariate\\assets\n"
     ]
    },
    {
     "name": "stderr",
     "output_type": "stream",
     "text": [
      "INFO:tensorflow:Assets written to: model_experiments\\model_6_dense_multivariate\\assets\n"
     ]
    },
    {
     "name": "stdout",
     "output_type": "stream",
     "text": [
      "18/18 [==============================] - 1s 47ms/step - loss: 111.6833 - val_loss: 594.0025\n",
      "Epoch 19/100\n",
      "12/18 [===================>..........] - ETA: 0s - loss: 113.0931INFO:tensorflow:Assets written to: model_experiments\\model_6_dense_multivariate\\assets\n"
     ]
    },
    {
     "name": "stderr",
     "output_type": "stream",
     "text": [
      "INFO:tensorflow:Assets written to: model_experiments\\model_6_dense_multivariate\\assets\n"
     ]
    },
    {
     "name": "stdout",
     "output_type": "stream",
     "text": [
      "18/18 [==============================] - 1s 50ms/step - loss: 115.6327 - val_loss: 587.0793\n",
      "Epoch 20/100\n",
      "18/18 [==============================] - 0s 9ms/step - loss: 108.1031 - val_loss: 610.2455\n",
      "Epoch 21/100\n",
      "18/18 [==============================] - 0s 10ms/step - loss: 113.3326 - val_loss: 746.6416\n",
      "Epoch 22/100\n",
      "15/18 [========================>.....] - ETA: 0s - loss: 124.7246INFO:tensorflow:Assets written to: model_experiments\\model_6_dense_multivariate\\assets\n"
     ]
    },
    {
     "name": "stderr",
     "output_type": "stream",
     "text": [
      "INFO:tensorflow:Assets written to: model_experiments\\model_6_dense_multivariate\\assets\n"
     ]
    },
    {
     "name": "stdout",
     "output_type": "stream",
     "text": [
      "18/18 [==============================] - 1s 55ms/step - loss: 119.9599 - val_loss: 584.4871\n",
      "Epoch 23/100\n",
      "18/18 [==============================] - 0s 10ms/step - loss: 108.9238 - val_loss: 633.5175\n",
      "Epoch 24/100\n",
      "18/18 [==============================] - 0s 6ms/step - loss: 113.8530 - val_loss: 744.4082\n",
      "Epoch 25/100\n",
      "18/18 [==============================] - 0s 8ms/step - loss: 111.2092 - val_loss: 621.2402\n",
      "Epoch 26/100\n",
      "18/18 [==============================] - 0s 9ms/step - loss: 110.4809 - val_loss: 616.5059\n",
      "Epoch 27/100\n",
      "18/18 [==============================] - 0s 8ms/step - loss: 107.2301 - val_loss: 586.4800\n",
      "Epoch 28/100\n",
      "12/18 [===================>..........] - ETA: 0s - loss: 107.9863INFO:tensorflow:Assets written to: model_experiments\\model_6_dense_multivariate\\assets\n"
     ]
    },
    {
     "name": "stderr",
     "output_type": "stream",
     "text": [
      "INFO:tensorflow:Assets written to: model_experiments\\model_6_dense_multivariate\\assets\n"
     ]
    },
    {
     "name": "stdout",
     "output_type": "stream",
     "text": [
      "18/18 [==============================] - 1s 51ms/step - loss: 107.8962 - val_loss: 577.8256\n",
      "Epoch 29/100\n",
      "18/18 [==============================] - 0s 10ms/step - loss: 104.8487 - val_loss: 605.5060\n",
      "Epoch 30/100\n",
      "18/18 [==============================] - 0s 8ms/step - loss: 110.9190 - val_loss: 622.7371\n",
      "Epoch 31/100\n",
      "18/18 [==============================] - 0s 9ms/step - loss: 108.3989 - val_loss: 583.1699\n",
      "Epoch 32/100\n",
      "17/18 [===========================>..] - ETA: 0s - loss: 111.3495INFO:tensorflow:Assets written to: model_experiments\\model_6_dense_multivariate\\assets\n"
     ]
    },
    {
     "name": "stderr",
     "output_type": "stream",
     "text": [
      "INFO:tensorflow:Assets written to: model_experiments\\model_6_dense_multivariate\\assets\n"
     ]
    },
    {
     "name": "stdout",
     "output_type": "stream",
     "text": [
      "18/18 [==============================] - 1s 66ms/step - loss: 110.4221 - val_loss: 574.4394\n",
      "Epoch 33/100\n",
      "18/18 [==============================] - 0s 8ms/step - loss: 109.4232 - val_loss: 584.2970\n",
      "Epoch 34/100\n",
      "18/18 [==============================] - 0s 9ms/step - loss: 106.3021 - val_loss: 681.6039\n",
      "Epoch 35/100\n",
      "18/18 [==============================] - 0s 9ms/step - loss: 110.6243 - val_loss: 685.6689\n",
      "Epoch 36/100\n",
      "18/18 [==============================] - 0s 8ms/step - loss: 113.9770 - val_loss: 589.9265\n",
      "Epoch 37/100\n",
      "18/18 [==============================] - 0s 7ms/step - loss: 110.6149 - val_loss: 610.3576\n",
      "Epoch 38/100\n",
      "18/18 [==============================] - 0s 8ms/step - loss: 114.3095 - val_loss: 629.7596\n",
      "Epoch 39/100\n",
      "18/18 [==============================] - 0s 9ms/step - loss: 111.1903 - val_loss: 576.9446\n",
      "Epoch 40/100\n",
      "18/18 [==============================] - 0s 8ms/step - loss: 107.4169 - val_loss: 577.9577\n",
      "Epoch 41/100\n",
      "18/18 [==============================] - 0s 7ms/step - loss: 107.9132 - val_loss: 585.7652\n",
      "Epoch 42/100\n",
      "18/18 [==============================] - 0s 8ms/step - loss: 112.8143 - val_loss: 654.1026\n",
      "Epoch 43/100\n",
      "12/18 [===================>..........] - ETA: 0s - loss: 108.7132INFO:tensorflow:Assets written to: model_experiments\\model_6_dense_multivariate\\assets\n"
     ]
    },
    {
     "name": "stderr",
     "output_type": "stream",
     "text": [
      "INFO:tensorflow:Assets written to: model_experiments\\model_6_dense_multivariate\\assets\n"
     ]
    },
    {
     "name": "stdout",
     "output_type": "stream",
     "text": [
      "18/18 [==============================] - 1s 42ms/step - loss: 111.5022 - val_loss: 572.1923\n",
      "Epoch 44/100\n",
      "12/18 [===================>..........] - ETA: 0s - loss: 106.7142INFO:tensorflow:Assets written to: model_experiments\\model_6_dense_multivariate\\assets\n"
     ]
    },
    {
     "name": "stderr",
     "output_type": "stream",
     "text": [
      "INFO:tensorflow:Assets written to: model_experiments\\model_6_dense_multivariate\\assets\n"
     ]
    },
    {
     "name": "stdout",
     "output_type": "stream",
     "text": [
      "18/18 [==============================] - 1s 52ms/step - loss: 105.0783 - val_loss: 570.3766\n",
      "Epoch 45/100\n",
      "18/18 [==============================] - 0s 8ms/step - loss: 106.0239 - val_loss: 583.6285\n",
      "Epoch 46/100\n",
      "18/18 [==============================] - 0s 8ms/step - loss: 112.0586 - val_loss: 632.0323\n",
      "Epoch 47/100\n",
      "18/18 [==============================] - 0s 7ms/step - loss: 114.8050 - val_loss: 597.8693\n",
      "Epoch 48/100\n",
      " 1/18 [>.............................] - ETA: 0s - loss: 96.6132INFO:tensorflow:Assets written to: model_experiments\\model_6_dense_multivariate\\assets\n"
     ]
    },
    {
     "name": "stderr",
     "output_type": "stream",
     "text": [
      "INFO:tensorflow:Assets written to: model_experiments\\model_6_dense_multivariate\\assets\n"
     ]
    },
    {
     "name": "stdout",
     "output_type": "stream",
     "text": [
      "18/18 [==============================] - 1s 33ms/step - loss: 105.1643 - val_loss: 570.2968\n",
      "Epoch 49/100\n",
      "18/18 [==============================] - 0s 6ms/step - loss: 108.7897 - val_loss: 863.3896\n",
      "Epoch 50/100\n",
      "18/18 [==============================] - 0s 6ms/step - loss: 124.0439 - val_loss: 797.6614\n",
      "Epoch 51/100\n",
      "18/18 [==============================] - 0s 6ms/step - loss: 121.7918 - val_loss: 648.4113\n",
      "Epoch 52/100\n",
      "18/18 [==============================] - 0s 6ms/step - loss: 119.4072 - val_loss: 705.8711\n",
      "Epoch 53/100\n",
      "18/18 [==============================] - 0s 9ms/step - loss: 110.6556 - val_loss: 610.5171\n",
      "Epoch 54/100\n",
      "18/18 [==============================] - 0s 6ms/step - loss: 110.0141 - val_loss: 603.0489\n",
      "Epoch 55/100\n",
      "18/18 [==============================] - 0s 6ms/step - loss: 117.0033 - val_loss: 744.6332\n",
      "Epoch 56/100\n",
      "18/18 [==============================] - 0s 6ms/step - loss: 121.3403 - val_loss: 889.7563\n",
      "Epoch 57/100\n",
      "18/18 [==============================] - 0s 5ms/step - loss: 126.3842 - val_loss: 591.5115\n",
      "Epoch 58/100\n",
      "18/18 [==============================] - 0s 5ms/step - loss: 109.0939 - val_loss: 606.5194\n",
      "Epoch 59/100\n",
      "18/18 [==============================] - 0s 5ms/step - loss: 104.2990 - val_loss: 587.6760\n",
      "Epoch 60/100\n",
      "18/18 [==============================] - 0s 5ms/step - loss: 110.1446 - val_loss: 593.7014\n",
      "Epoch 61/100\n",
      "18/18 [==============================] - 0s 5ms/step - loss: 106.3898 - val_loss: 590.7787\n",
      "Epoch 62/100\n",
      "18/18 [==============================] - 0s 5ms/step - loss: 107.2730 - val_loss: 592.6041\n",
      "Epoch 63/100\n",
      "18/18 [==============================] - 0s 4ms/step - loss: 112.9778 - val_loss: 578.6823\n",
      "Epoch 64/100\n",
      "18/18 [==============================] - 0s 5ms/step - loss: 105.5587 - val_loss: 578.8480\n",
      "Epoch 65/100\n",
      "18/18 [==============================] - 0s 6ms/step - loss: 109.0413 - val_loss: 622.2095\n",
      "Epoch 66/100\n",
      "18/18 [==============================] - 0s 6ms/step - loss: 107.9248 - val_loss: 605.9525\n",
      "Epoch 67/100\n",
      "18/18 [==============================] - 0s 5ms/step - loss: 106.0414 - val_loss: 639.6353\n",
      "Epoch 68/100\n",
      "17/18 [===========================>..] - ETA: 0s - loss: 105.3232INFO:tensorflow:Assets written to: model_experiments\\model_6_dense_multivariate\\assets\n"
     ]
    },
    {
     "name": "stderr",
     "output_type": "stream",
     "text": [
      "INFO:tensorflow:Assets written to: model_experiments\\model_6_dense_multivariate\\assets\n"
     ]
    },
    {
     "name": "stdout",
     "output_type": "stream",
     "text": [
      "18/18 [==============================] - 1s 45ms/step - loss: 104.4472 - val_loss: 568.4493\n",
      "Epoch 69/100\n",
      "18/18 [==============================] - 0s 9ms/step - loss: 105.8395 - val_loss: 614.3586\n",
      "Epoch 70/100\n",
      "18/18 [==============================] - 0s 10ms/step - loss: 117.3848 - val_loss: 675.6927\n",
      "Epoch 71/100\n",
      "18/18 [==============================] - 0s 8ms/step - loss: 107.5268 - val_loss: 575.9049\n",
      "Epoch 72/100\n",
      "18/18 [==============================] - 0s 7ms/step - loss: 106.8737 - val_loss: 636.9819\n",
      "Epoch 73/100\n",
      "18/18 [==============================] - 0s 7ms/step - loss: 104.6579 - val_loss: 572.9103\n",
      "Epoch 74/100\n",
      "18/18 [==============================] - 0s 6ms/step - loss: 103.8628 - val_loss: 568.5963\n",
      "Epoch 75/100\n",
      "18/18 [==============================] - 0s 6ms/step - loss: 106.9379 - val_loss: 568.8134\n",
      "Epoch 76/100\n",
      "18/18 [==============================] - 0s 8ms/step - loss: 110.7746 - val_loss: 610.8448\n",
      "Epoch 77/100\n",
      "18/18 [==============================] - 0s 8ms/step - loss: 112.0712 - val_loss: 573.3514\n",
      "Epoch 78/100\n",
      "18/18 [==============================] - 0s 7ms/step - loss: 109.6709 - val_loss: 627.4223\n",
      "Epoch 79/100\n",
      "18/18 [==============================] - 0s 6ms/step - loss: 106.7073 - val_loss: 709.9752\n",
      "Epoch 80/100\n",
      "18/18 [==============================] - 0s 8ms/step - loss: 114.5397 - val_loss: 598.1426\n",
      "Epoch 81/100\n",
      "18/18 [==============================] - 0s 6ms/step - loss: 104.1561 - val_loss: 594.6947\n",
      "Epoch 82/100\n",
      "18/18 [==============================] - 0s 6ms/step - loss: 123.0223 - val_loss: 635.9693\n",
      "Epoch 83/100\n",
      "18/18 [==============================] - 0s 6ms/step - loss: 120.9153 - val_loss: 792.1438\n",
      "Epoch 84/100\n",
      "18/18 [==============================] - 0s 6ms/step - loss: 120.3705 - val_loss: 579.0364\n",
      "Epoch 85/100\n",
      "18/18 [==============================] - 0s 5ms/step - loss: 107.8564 - val_loss: 570.5085\n",
      "Epoch 86/100\n",
      "18/18 [==============================] - 0s 6ms/step - loss: 104.9363 - val_loss: 595.1650\n",
      "Epoch 87/100\n",
      "18/18 [==============================] - 0s 7ms/step - loss: 105.6692 - val_loss: 625.7866\n",
      "Epoch 88/100\n",
      "18/18 [==============================] - 0s 7ms/step - loss: 111.6226 - val_loss: 573.9911\n",
      "Epoch 89/100\n",
      "18/18 [==============================] - 0s 7ms/step - loss: 106.5269 - val_loss: 650.5389\n",
      "Epoch 90/100\n",
      "18/18 [==============================] - 0s 10ms/step - loss: 109.4928 - val_loss: 573.4222\n",
      "Epoch 91/100\n",
      "18/18 [==============================] - 0s 6ms/step - loss: 109.4880 - val_loss: 595.0723\n",
      "Epoch 92/100\n",
      "18/18 [==============================] - 0s 8ms/step - loss: 115.1880 - val_loss: 816.1417\n",
      "Epoch 93/100\n",
      "18/18 [==============================] - 0s 7ms/step - loss: 124.6315 - val_loss: 618.1689\n",
      "Epoch 94/100\n",
      "18/18 [==============================] - 0s 8ms/step - loss: 120.7803 - val_loss: 611.8017\n",
      "Epoch 95/100\n",
      "18/18 [==============================] - 0s 7ms/step - loss: 106.8683 - val_loss: 568.6338\n",
      "Epoch 96/100\n",
      "18/18 [==============================] - 0s 6ms/step - loss: 105.8036 - val_loss: 570.4076\n",
      "Epoch 97/100\n",
      "18/18 [==============================] - 0s 7ms/step - loss: 105.8150 - val_loss: 568.9499\n",
      "Epoch 98/100\n",
      "18/18 [==============================] - 0s 8ms/step - loss: 104.7971 - val_loss: 588.6276\n",
      "Epoch 99/100\n",
      "18/18 [==============================] - 0s 7ms/step - loss: 113.8699 - val_loss: 581.5472\n",
      "Epoch 100/100\n",
      "18/18 [==============================] - 0s 9ms/step - loss: 123.8250 - val_loss: 797.5295\n"
     ]
    },
    {
     "data": {
      "text/plain": [
       "<keras.callbacks.History at 0x1aae12e0be0>"
      ]
     },
     "execution_count": 83,
     "metadata": {},
     "output_type": "execute_result"
    }
   ],
   "source": [
    "tf.random.set_seed(42)\n",
    "\n",
    "model_6 = tf.keras.Sequential([\n",
    "    tf.keras.layers.Dense(128, activation=\"relu\"),\n",
    "    layers.Dense(128, activation=\"relu\"),\n",
    "    layers.Dense(HORIZON)\n",
    "], name=\"model_6_dense_multivariate\")\n",
    "\n",
    "model_6.compile(loss=\"mae\",\n",
    "                optimizer=tf.keras.optimizers.Adam())\n",
    "\n",
    "model_6.fit(X_train,\n",
    "            y_train,\n",
    "            epochs=100,\n",
    "            batch_size=128,\n",
    "            verbose=1,\n",
    "            validation_data=(X_test,y_test),\n",
    "            callbacks=[create_model_checkpoint(model_name=model_6.name)])\n"
   ]
  },
  {
   "cell_type": "code",
   "execution_count": 84,
   "metadata": {},
   "outputs": [
    {
     "name": "stdout",
     "output_type": "stream",
     "text": [
      "18/18 [==============================] - 0s 5ms/step - loss: 797.5295\n"
     ]
    },
    {
     "data": {
      "text/plain": [
       "797.5294799804688"
      ]
     },
     "execution_count": 84,
     "metadata": {},
     "output_type": "execute_result"
    }
   ],
   "source": [
    "model_6.evaluate(X_test,y_test)"
   ]
  },
  {
   "cell_type": "code",
   "execution_count": 85,
   "metadata": {},
   "outputs": [
    {
     "name": "stdout",
     "output_type": "stream",
     "text": [
      "18/18 [==============================] - 0s 4ms/step - loss: 568.4493\n"
     ]
    },
    {
     "data": {
      "text/plain": [
       "568.4492797851562"
      ]
     },
     "execution_count": 85,
     "metadata": {},
     "output_type": "execute_result"
    }
   ],
   "source": [
    "model_6= tf.keras.models.load_model(\"model_experiments/model_6_dense_multivariate/\")\n",
    "model_6.evaluate(X_test,y_test)"
   ]
  },
  {
   "cell_type": "code",
   "execution_count": 86,
   "metadata": {},
   "outputs": [
    {
     "name": "stdout",
     "output_type": "stream",
     "text": [
      "18/18 [==============================] - 0s 3ms/step\n"
     ]
    },
    {
     "data": {
      "text/plain": [
       "<tf.Tensor: shape=(10,), dtype=float32, numpy=\n",
       "array([8813.427, 8767.834, 9045.074, 8723.28 , 8713.942, 8744.135,\n",
       "       8651.524, 8490.181, 8448.835, 8518.018], dtype=float32)>"
      ]
     },
     "execution_count": 86,
     "metadata": {},
     "output_type": "execute_result"
    }
   ],
   "source": [
    "model_6_preds= tf.squeeze(model_6.predict(X_test))\n",
    "model_6_preds[:10]"
   ]
  },
  {
   "cell_type": "code",
   "execution_count": 87,
   "metadata": {},
   "outputs": [
    {
     "data": {
      "text/plain": [
       "{'mae': 568.4493,\n",
       " 'mse': 1162442.2,\n",
       " 'rmse': 1078.1661,\n",
       " 'mape': 2.5558894,\n",
       " 'mase': 0.99860793}"
      ]
     },
     "execution_count": 87,
     "metadata": {},
     "output_type": "execute_result"
    }
   ],
   "source": [
    "model_6_results= evaluate_preds(y_test,model_6_preds)\n",
    "model_6_results"
   ]
  },
  {
   "cell_type": "code",
   "execution_count": 88,
   "metadata": {},
   "outputs": [
    {
     "data": {
      "text/plain": [
       "{'mae': 568.95105,\n",
       " 'mse': 1171743.6,\n",
       " 'rmse': 1082.4711,\n",
       " 'mape': 2.5448983,\n",
       " 'mase': 0.9994894}"
      ]
     },
     "execution_count": 88,
     "metadata": {},
     "output_type": "execute_result"
    }
   ],
   "source": [
    "models_1_results"
   ]
  },
  {
   "cell_type": "code",
   "execution_count": 89,
   "metadata": {},
   "outputs": [
    {
     "data": {
      "text/plain": [
       "{'mae': 567.9802,\n",
       " 'mse': 1147547.0,\n",
       " 'rmse': 1071.2362,\n",
       " 'mape': 2.516525,\n",
       " 'mase': 0.99957}"
      ]
     },
     "execution_count": 89,
     "metadata": {},
     "output_type": "execute_result"
    }
   ],
   "source": [
    "naive_res"
   ]
  },
  {
   "cell_type": "code",
   "execution_count": 90,
   "metadata": {},
   "outputs": [],
   "source": [
    "class NBeatsBlock(tf.keras.layers.Layer):\n",
    "    def __init__(self,\n",
    "                 input_size: int,\n",
    "                 theta_size: int,\n",
    "                 horizon: int,\n",
    "                 n_neurons: int,\n",
    "                 n_layers: int,\n",
    "                 **kwargs):\n",
    "        super().__init__(**kwargs)\n",
    "        self.input_size = input_size\n",
    "        self.theta_size = theta_size\n",
    "        self.horizon = horizon\n",
    "        self.n_neurons = n_neurons\n",
    "        self.n_layers = n_layers\n",
    "\n",
    "        self.hidden= [tf.keras.layers.Dense(n_neurons,activation=\"relu\") for _ in range(n_layers)]\n",
    "\n",
    "        self.theta_layer= tf.keras.layers.Dense(theta_size, activation=\"linear\",name=\"theta\")\n",
    "\n",
    "    def call(self,inputs):\n",
    "        x=inputs\n",
    "        for layer in self.hidden:\n",
    "            x=layer(x)\n",
    "        theta=self.theta_layer(x)\n",
    "\n",
    "        backcast,forecast= theta[:,:self.input_size], theta[:,-self.horizon:]\n",
    "        return backcast,forecast\n"
   ]
  },
  {
   "cell_type": "code",
   "execution_count": 91,
   "metadata": {},
   "outputs": [],
   "source": [
    "tf.random.set_seed(42)\n",
    "dummy_nbeats = NBeatsBlock(input_size=WINDOW_SIZE,\n",
    "                           theta_size=HORIZON+WINDOW_SIZE,\n",
    "                           horizon=HORIZON,\n",
    "                           n_neurons=128,\n",
    "                           n_layers=4)\n"
   ]
  },
  {
   "cell_type": "code",
   "execution_count": 92,
   "metadata": {},
   "outputs": [
    {
     "data": {
      "text/plain": [
       "<tf.Tensor: shape=(1, 7), dtype=int32, numpy=array([[1, 2, 3, 4, 5, 6, 7]])>"
      ]
     },
     "execution_count": 92,
     "metadata": {},
     "output_type": "execute_result"
    }
   ],
   "source": [
    "dummy_inputs= tf.expand_dims(tf.range(WINDOW_SIZE)+1,axis=0)\n",
    "dummy_inputs"
   ]
  },
  {
   "cell_type": "code",
   "execution_count": 93,
   "metadata": {},
   "outputs": [
    {
     "name": "stdout",
     "output_type": "stream",
     "text": [
      " Backcast: [ 0.07960155  0.32512054 -0.84286827 -0.69389844 -0.31720546 -0.5698734\n",
      " -0.6396661 ] Forecast: 1.0071649551391602\n"
     ]
    }
   ],
   "source": [
    "backcast,forecast= dummy_nbeats(dummy_inputs)\n",
    "print(f\" Backcast: {tf.squeeze(backcast.numpy())} Forecast: {tf.squeeze(forecast.numpy())}\")"
   ]
  },
  {
   "cell_type": "code",
   "execution_count": 94,
   "metadata": {},
   "outputs": [],
   "source": [
    "HORIZON=1\n",
    "WINDOW_SIZE =7"
   ]
  },
  {
   "cell_type": "code",
   "execution_count": 95,
   "metadata": {},
   "outputs": [
    {
     "data": {
      "text/html": [
       "<div>\n",
       "<style scoped>\n",
       "    .dataframe tbody tr th:only-of-type {\n",
       "        vertical-align: middle;\n",
       "    }\n",
       "\n",
       "    .dataframe tbody tr th {\n",
       "        vertical-align: top;\n",
       "    }\n",
       "\n",
       "    .dataframe thead th {\n",
       "        text-align: right;\n",
       "    }\n",
       "</style>\n",
       "<table border=\"1\" class=\"dataframe\">\n",
       "  <thead>\n",
       "    <tr style=\"text-align: right;\">\n",
       "      <th></th>\n",
       "      <th>Price</th>\n",
       "    </tr>\n",
       "    <tr>\n",
       "      <th>Date</th>\n",
       "      <th></th>\n",
       "    </tr>\n",
       "  </thead>\n",
       "  <tbody>\n",
       "    <tr>\n",
       "      <th>2013-10-01</th>\n",
       "      <td>123.65499</td>\n",
       "    </tr>\n",
       "    <tr>\n",
       "      <th>2013-10-02</th>\n",
       "      <td>125.45500</td>\n",
       "    </tr>\n",
       "    <tr>\n",
       "      <th>2013-10-03</th>\n",
       "      <td>108.58483</td>\n",
       "    </tr>\n",
       "    <tr>\n",
       "      <th>2013-10-04</th>\n",
       "      <td>118.67466</td>\n",
       "    </tr>\n",
       "    <tr>\n",
       "      <th>2013-10-05</th>\n",
       "      <td>121.33866</td>\n",
       "    </tr>\n",
       "  </tbody>\n",
       "</table>\n",
       "</div>"
      ],
      "text/plain": [
       "                Price\n",
       "Date                 \n",
       "2013-10-01  123.65499\n",
       "2013-10-02  125.45500\n",
       "2013-10-03  108.58483\n",
       "2013-10-04  118.67466\n",
       "2013-10-05  121.33866"
      ]
     },
     "execution_count": 95,
     "metadata": {},
     "output_type": "execute_result"
    }
   ],
   "source": [
    "bitcoin_prices.head()"
   ]
  },
  {
   "cell_type": "code",
   "execution_count": 96,
   "metadata": {},
   "outputs": [
    {
     "data": {
      "text/html": [
       "<div>\n",
       "<style scoped>\n",
       "    .dataframe tbody tr th:only-of-type {\n",
       "        vertical-align: middle;\n",
       "    }\n",
       "\n",
       "    .dataframe tbody tr th {\n",
       "        vertical-align: top;\n",
       "    }\n",
       "\n",
       "    .dataframe thead th {\n",
       "        text-align: right;\n",
       "    }\n",
       "</style>\n",
       "<table border=\"1\" class=\"dataframe\">\n",
       "  <thead>\n",
       "    <tr style=\"text-align: right;\">\n",
       "      <th></th>\n",
       "      <th>Price</th>\n",
       "      <th>Price+1</th>\n",
       "      <th>Price+2</th>\n",
       "      <th>Price+3</th>\n",
       "      <th>Price+4</th>\n",
       "      <th>Price+5</th>\n",
       "      <th>Price+6</th>\n",
       "      <th>Price+7</th>\n",
       "    </tr>\n",
       "    <tr>\n",
       "      <th>Date</th>\n",
       "      <th></th>\n",
       "      <th></th>\n",
       "      <th></th>\n",
       "      <th></th>\n",
       "      <th></th>\n",
       "      <th></th>\n",
       "      <th></th>\n",
       "      <th></th>\n",
       "    </tr>\n",
       "  </thead>\n",
       "  <tbody>\n",
       "    <tr>\n",
       "      <th>2013-10-01</th>\n",
       "      <td>123.65499</td>\n",
       "      <td>NaN</td>\n",
       "      <td>NaN</td>\n",
       "      <td>NaN</td>\n",
       "      <td>NaN</td>\n",
       "      <td>NaN</td>\n",
       "      <td>NaN</td>\n",
       "      <td>NaN</td>\n",
       "    </tr>\n",
       "    <tr>\n",
       "      <th>2013-10-02</th>\n",
       "      <td>125.45500</td>\n",
       "      <td>123.65499</td>\n",
       "      <td>NaN</td>\n",
       "      <td>NaN</td>\n",
       "      <td>NaN</td>\n",
       "      <td>NaN</td>\n",
       "      <td>NaN</td>\n",
       "      <td>NaN</td>\n",
       "    </tr>\n",
       "    <tr>\n",
       "      <th>2013-10-03</th>\n",
       "      <td>108.58483</td>\n",
       "      <td>125.45500</td>\n",
       "      <td>123.65499</td>\n",
       "      <td>NaN</td>\n",
       "      <td>NaN</td>\n",
       "      <td>NaN</td>\n",
       "      <td>NaN</td>\n",
       "      <td>NaN</td>\n",
       "    </tr>\n",
       "    <tr>\n",
       "      <th>2013-10-04</th>\n",
       "      <td>118.67466</td>\n",
       "      <td>108.58483</td>\n",
       "      <td>125.45500</td>\n",
       "      <td>123.65499</td>\n",
       "      <td>NaN</td>\n",
       "      <td>NaN</td>\n",
       "      <td>NaN</td>\n",
       "      <td>NaN</td>\n",
       "    </tr>\n",
       "    <tr>\n",
       "      <th>2013-10-05</th>\n",
       "      <td>121.33866</td>\n",
       "      <td>118.67466</td>\n",
       "      <td>108.58483</td>\n",
       "      <td>125.45500</td>\n",
       "      <td>123.65499</td>\n",
       "      <td>NaN</td>\n",
       "      <td>NaN</td>\n",
       "      <td>NaN</td>\n",
       "    </tr>\n",
       "  </tbody>\n",
       "</table>\n",
       "</div>"
      ],
      "text/plain": [
       "                Price    Price+1    Price+2    Price+3    Price+4  Price+5  \\\n",
       "Date                                                                         \n",
       "2013-10-01  123.65499        NaN        NaN        NaN        NaN      NaN   \n",
       "2013-10-02  125.45500  123.65499        NaN        NaN        NaN      NaN   \n",
       "2013-10-03  108.58483  125.45500  123.65499        NaN        NaN      NaN   \n",
       "2013-10-04  118.67466  108.58483  125.45500  123.65499        NaN      NaN   \n",
       "2013-10-05  121.33866  118.67466  108.58483  125.45500  123.65499      NaN   \n",
       "\n",
       "            Price+6  Price+7  \n",
       "Date                          \n",
       "2013-10-01      NaN      NaN  \n",
       "2013-10-02      NaN      NaN  \n",
       "2013-10-03      NaN      NaN  \n",
       "2013-10-04      NaN      NaN  \n",
       "2013-10-05      NaN      NaN  "
      ]
     },
     "execution_count": 96,
     "metadata": {},
     "output_type": "execute_result"
    }
   ],
   "source": [
    "bitcoin_prices_nbeats= bitcoin_prices.copy()\n",
    "for i in range(WINDOW_SIZE):\n",
    "    bitcoin_prices_nbeats[f\"Price+{i+1}\"]=bitcoin_prices_nbeats[\"Price\"].shift(periods=i+1)\n",
    "\n",
    "bitcoin_prices_nbeats.head()"
   ]
  },
  {
   "cell_type": "code",
   "execution_count": 97,
   "metadata": {},
   "outputs": [
    {
     "data": {
      "text/plain": [
       "(2224, 2224, 556, 556)"
      ]
     },
     "execution_count": 97,
     "metadata": {},
     "output_type": "execute_result"
    }
   ],
   "source": [
    "X=bitcoin_prices_nbeats.dropna().drop(\"Price\",axis=1)\n",
    "y=bitcoin_prices_nbeats.dropna()[\"Price\"]\n",
    "\n",
    "split_size= int(len(X)*0.8)\n",
    "X_train, y_train=  X[:split_size],y[:split_size]\n",
    "X_test,y_test= X[split_size:],y[split_size:]\n",
    "len(X_train),len(y_train),len(X_test),len(y_test)"
   ]
  },
  {
   "cell_type": "code",
   "execution_count": 98,
   "metadata": {},
   "outputs": [],
   "source": [
    "train_features_dataset= tf.data.Dataset.from_tensor_slices(X_train)\n",
    "train_labels_dataset= tf.data.Dataset.from_tensor_slices(y_train)\n",
    "\n",
    "test_features_dataset= tf.data.Dataset.from_tensor_slices(X_test)\n",
    "test_labels_dataset=tf.data.Dataset.from_tensor_slices(y_test)"
   ]
  },
  {
   "cell_type": "code",
   "execution_count": 99,
   "metadata": {},
   "outputs": [
    {
     "data": {
      "text/plain": [
       "(<PrefetchDataset element_spec=(TensorSpec(shape=(None, 7), dtype=tf.float64, name=None), TensorSpec(shape=(None,), dtype=tf.float64, name=None))>,\n",
       " <PrefetchDataset element_spec=(TensorSpec(shape=(None, 7), dtype=tf.float64, name=None), TensorSpec(shape=(None,), dtype=tf.float64, name=None))>)"
      ]
     },
     "execution_count": 99,
     "metadata": {},
     "output_type": "execute_result"
    }
   ],
   "source": [
    "train_dataset = tf.data.Dataset.zip(\n",
    "    (train_features_dataset, train_labels_dataset))\n",
    "test_dataset = tf.data.Dataset.zip(\n",
    "    (test_features_dataset, test_labels_dataset))\n",
    "\n",
    "BATCH_SIZE = 1024\n",
    "train_dataset = train_dataset.batch(BATCH_SIZE).prefetch(tf.data.AUTOTUNE)\n",
    "test_dataset = test_dataset.batch(BATCH_SIZE).prefetch(tf.data.AUTOTUNE)\n",
    "\n",
    "train_dataset,test_dataset"
   ]
  },
  {
   "cell_type": "code",
   "execution_count": 100,
   "metadata": {},
   "outputs": [],
   "source": [
    "N_EPOCHS = 5000\n",
    "N_NEURONS = 512\n",
    "N_LAYERS = 4\n",
    "N_STACKS = 30\n",
    "\n",
    "INPUT_SIZE = WINDOW_SIZE*HORIZON\n",
    "THETA_SIZE= INPUT_SIZE+HORIZON"
   ]
  },
  {
   "cell_type": "code",
   "execution_count": 101,
   "metadata": {},
   "outputs": [
    {
     "data": {
      "text/plain": [
       "<tf.Tensor: shape=(10,), dtype=int32, numpy=array([10, 12, 14, 16, 18, 20, 22, 24, 26, 28])>"
      ]
     },
     "execution_count": 101,
     "metadata": {},
     "output_type": "execute_result"
    }
   ],
   "source": [
    "tensor_1= tf.range(10)+10\n",
    "tensor_2= tf.range(10)\n",
    "\n",
    "subtracted= layers.subtract([tensor_1,tensor_2])\n",
    "\n",
    "added=layers.add([tensor_1,tensor_2])\n",
    "\n",
    "added"
   ]
  },
  {
   "cell_type": "code",
   "execution_count": 102,
   "metadata": {},
   "outputs": [
    {
     "name": "stdout",
     "output_type": "stream",
     "text": [
      "Epoch 1/5000\n",
      "3/3 [==============================] - ETA: 0s - loss: 1680.5353"
     ]
    }
   ],
   "source": [
    "%%time\n",
    "tf.random.set_seed(42)\n",
    "\n",
    "nbeats_block_layer = NBeatsBlock(input_size=INPUT_SIZE,\n",
    "                                 theta_size=THETA_SIZE,\n",
    "                                 horizon=HORIZON,\n",
    "                                 n_neurons=N_NEURONS,\n",
    "                                 n_layers=N_LAYERS,\n",
    "                                 name=\"InitialBlock\")\n",
    "\n",
    "stack_input = layers.Input(shape=(INPUT_SIZE), name=\"stack_input\")\n",
    "\n",
    "residuals, forecast = nbeats_block_layer(stack_input)\n",
    "\n",
    "for i, _ in enumerate(range(N_STACKS-1)):\n",
    "    backcast, block_forecast = NBeatsBlock(input_size=INPUT_SIZE,\n",
    "                                           theta_size=THETA_SIZE,\n",
    "                                           horizon=HORIZON,\n",
    "                                           n_neurons=N_NEURONS,\n",
    "                                           n_layers=N_LAYERS,\n",
    "                                           name=f\"NBeatsBlock_{i}\")(residuals)\n",
    "\n",
    "    residuals = layers.subtract([residuals, backcast], name=f\"subtract_{i}\")\n",
    "    forecast = layers.add([forecast, block_forecast], name=f\"add_{i}\")\n",
    "\n",
    "model_7 = tf.keras.Model(\n",
    "    inputs=stack_input, outputs=forecast, name=\"model_7_NBEATS\")\n",
    "\n",
    "model_7.compile(loss=\"mae\",\n",
    "                optimizer=tf.keras.optimizers.Adam())\n",
    "\n",
    "model_7.fit(train_dataset, epochs=N_EPOCHS,\n",
    "            validation_data=test_dataset,\n",
    "            verbose=1,\n",
    "            callbacks=[tf.keras.callbacks.EarlyStopping(monitor=\"val_loss\",\n",
    "                                                        patience=200,\n",
    "                                                        restore_best_weights=True),\n",
    "                       tf.keras.callbacks.ReduceLROnPlateau(monitor=\"val_loss\", patience=100, verbose=1)])\n",
    "            \n"
   ]
  },
  {
   "cell_type": "code",
   "execution_count": null,
   "metadata": {},
   "outputs": [
    {
     "name": "stdout",
     "output_type": "stream",
     "text": [
      "1/1 [==============================] - 0s 149ms/step - loss: 571.6860\n"
     ]
    },
    {
     "data": {
      "text/plain": [
       "571.68603515625"
      ]
     },
     "execution_count": 127,
     "metadata": {},
     "output_type": "execute_result"
    }
   ],
   "source": [
    "model_7.evaluate(test_dataset)"
   ]
  },
  {
   "cell_type": "code",
   "execution_count": null,
   "metadata": {},
   "outputs": [
    {
     "name": "stdout",
     "output_type": "stream",
     "text": [
      "1/1 [==============================] - 1s 1s/step\n"
     ]
    },
    {
     "data": {
      "text/plain": [
       "<tf.Tensor: shape=(10,), dtype=float32, numpy=\n",
       "array([8846.104 , 8775.6875, 9023.849 , 8767.9795, 8750.551 , 8742.02  ,\n",
       "       8663.67  , 8503.56  , 8472.259 , 8513.321 ], dtype=float32)>"
      ]
     },
     "execution_count": 128,
     "metadata": {},
     "output_type": "execute_result"
    }
   ],
   "source": [
    "model_7_preds = make_preds(model_7, test_dataset)\n",
    "model_7_preds[:10]"
   ]
  },
  {
   "cell_type": "code",
   "execution_count": null,
   "metadata": {},
   "outputs": [
    {
     "data": {
      "text/plain": [
       "{'mae': 571.68604,\n",
       " 'mse': 1172812.5,\n",
       " 'rmse': 1082.9647,\n",
       " 'mape': 2.571097,\n",
       " 'mase': 1.004294}"
      ]
     },
     "execution_count": 129,
     "metadata": {},
     "output_type": "execute_result"
    }
   ],
   "source": [
    "model_7_results = evaluate_preds(y_true=y_test,\n",
    "                                 y_pred=model_7_preds)\n",
    "model_7_results"
   ]
  },
  {
   "cell_type": "code",
   "execution_count": null,
   "metadata": {},
   "outputs": [
    {
     "data": {
      "text/plain": [
       "{'mae': 568.95105,\n",
       " 'mse': 1171743.8,\n",
       " 'rmse': 1082.4711,\n",
       " 'mape': 2.5448983,\n",
       " 'mase': 0.9994894}"
      ]
     },
     "execution_count": 130,
     "metadata": {},
     "output_type": "execute_result"
    }
   ],
   "source": [
    "models_1_results"
   ]
  },
  {
   "cell_type": "code",
   "execution_count": null,
   "metadata": {},
   "outputs": [
    {
     "ename": "NameError",
     "evalue": "name 'model_7' is not defined",
     "output_type": "error",
     "traceback": [
      "\u001b[1;31m---------------------------------------------------------------------------\u001b[0m",
      "\u001b[1;31mNameError\u001b[0m                                 Traceback (most recent call last)",
      "\u001b[1;32m<ipython-input-1-a76df71b5438>\u001b[0m in \u001b[0;36m<module>\u001b[1;34m\u001b[0m\n\u001b[0;32m      1\u001b[0m \u001b[1;32mfrom\u001b[0m \u001b[0mtensorflow\u001b[0m\u001b[1;33m.\u001b[0m\u001b[0mkeras\u001b[0m\u001b[1;33m.\u001b[0m\u001b[0mutils\u001b[0m \u001b[1;32mimport\u001b[0m \u001b[0mplot_model\u001b[0m\u001b[1;33m\u001b[0m\u001b[1;33m\u001b[0m\u001b[0m\n\u001b[1;32m----> 2\u001b[1;33m \u001b[0mplot_model\u001b[0m\u001b[1;33m(\u001b[0m\u001b[0mmodel_7\u001b[0m\u001b[1;33m)\u001b[0m\u001b[1;33m\u001b[0m\u001b[1;33m\u001b[0m\u001b[0m\n\u001b[0m",
      "\u001b[1;31mNameError\u001b[0m: name 'model_7' is not defined"
     ]
    }
   ],
   "source": [
    "from tensorflow.keras.utils import plot_model\n",
    "plot_model(model_7)\n"
   ]
  },
  {
   "cell_type": "code",
   "execution_count": null,
   "metadata": {},
   "outputs": [],
   "source": []
  }
 ],
 "metadata": {
  "kernelspec": {
   "display_name": "Python 3.8.3 ('base')",
   "language": "python",
   "name": "python3"
  },
  "language_info": {
   "codemirror_mode": {
    "name": "ipython",
    "version": 3
   },
   "file_extension": ".py",
   "mimetype": "text/x-python",
   "name": "python",
   "nbconvert_exporter": "python",
   "pygments_lexer": "ipython3",
   "version": "3.8.3"
  },
  "orig_nbformat": 4,
  "vscode": {
   "interpreter": {
    "hash": "ad2bdc8ecc057115af97d19610ffacc2b4e99fae6737bb82f5d7fb13d2f2c186"
   }
  }
 },
 "nbformat": 4,
 "nbformat_minor": 2
}
